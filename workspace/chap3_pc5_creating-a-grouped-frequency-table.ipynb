{
 "cells": [
  {
   "cell_type": "markdown",
   "id": "8dcf15b6-e161-4481-a043-6c02dabc70d6",
   "metadata": {},
   "source": [
    "# Chapter 3: Describing Data with Statistics\n",
    "\n",
    "## Programming Challenges\n",
    "\n",
    "### \\#5: Creating a Grouped Frequency Table"
   ]
  },
  {
   "cell_type": "code",
   "execution_count": 1,
   "id": "9a71e970-2c37-461d-980a-1f57cdf10905",
   "metadata": {},
   "outputs": [],
   "source": [
    "def create_classes(numbers, n):\n",
    "    low = min(numbers)\n",
    "    high = max(numbers)\n",
    "\n",
    "    # Width of each class\n",
    "    width = (high - low) / n\n",
    "\n",
    "    classes = []\n",
    "\n",
    "    # initial\n",
    "    a = low\n",
    "    b = low + width\n",
    "\n",
    "    while a < high - width:\n",
    "        classes.append((a, b))\n",
    "        a = b\n",
    "        b = a + width\n",
    "\n",
    "    # The last class may be of a size that is less than width\n",
    "    classes.append((a, high + 1))\n",
    "\n",
    "    return classes"
   ]
  },
  {
   "cell_type": "code",
   "execution_count": 2,
   "id": "59d76e8e-185d-48c6-b2cb-195b209117d8",
   "metadata": {},
   "outputs": [
    {
     "data": {
      "text/plain": [
       "[(1, 3.25), (3.25, 5.5), (5.5, 7.75), (7.75, 11)]"
      ]
     },
     "execution_count": 2,
     "metadata": {},
     "output_type": "execute_result"
    }
   ],
   "source": [
    "data = [7, 8, 9, 2, 10, 9, 9, 9, 9, 4, 5, 6, 1, 5, 6, 7, 8, 6, 1, 10]\n",
    "classes = create_classes(data, 4)\n",
    "classes"
   ]
  },
  {
   "cell_type": "code",
   "execution_count": 3,
   "id": "0bc68df2-e558-410b-81a2-72bebe3ea3d8",
   "metadata": {},
   "outputs": [],
   "source": [
    "def frequency_table(number, n):\n",
    "    classes = create_classes(data, 4)\n",
    "\n",
    "    print(\"Number\\t\\tFrequency\")\n",
    "    for range in classes:\n",
    "        count = len([x for x in data if range[0] <= x and x < range[1]])\n",
    "        print(\"{0:,.2f} - {1:,.2f}:\\t{2}\".format(range[0], range[1], count))"
   ]
  },
  {
   "cell_type": "code",
   "execution_count": 4,
   "id": "f742f26f-302c-47d1-b3a4-0b3b89e53cd1",
   "metadata": {},
   "outputs": [
    {
     "name": "stdout",
     "output_type": "stream",
     "text": [
      "Number\t\tFrequency\n",
      "1.00 - 3.25:\t3\n",
      "3.25 - 5.50:\t3\n",
      "5.50 - 7.75:\t5\n",
      "7.75 - 11.00:\t9\n"
     ]
    }
   ],
   "source": [
    "frequency_table(data, 4)"
   ]
  }
 ],
 "metadata": {
  "kernelspec": {
   "display_name": "Python 3 (ipykernel)",
   "language": "python",
   "name": "python3"
  },
  "language_info": {
   "codemirror_mode": {
    "name": "ipython",
    "version": 3
   },
   "file_extension": ".py",
   "mimetype": "text/x-python",
   "name": "python",
   "nbconvert_exporter": "python",
   "pygments_lexer": "ipython3",
   "version": "3.10.1"
  }
 },
 "nbformat": 4,
 "nbformat_minor": 5
}
