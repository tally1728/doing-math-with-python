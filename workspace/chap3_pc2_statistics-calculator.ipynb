{
 "cells": [
  {
   "cell_type": "markdown",
   "id": "8dcf15b6-e161-4481-a043-6c02dabc70d6",
   "metadata": {},
   "source": [
    "# Chapter 3: Describing Data with Statistics\n",
    "\n",
    "## Programming Challenges\n",
    "\n",
    "### \\#2: Statistics Calculator"
   ]
  },
  {
   "cell_type": "code",
   "execution_count": 1,
   "id": "6a866305-5c98-4030-83fb-7f3caafdec04",
   "metadata": {},
   "outputs": [],
   "source": [
    "from collections import Counter\n",
    "\n",
    "\n",
    "# Calculating the mean\n",
    "def calculate_mean(numbers):\n",
    "    return sum(numbers) / len(numbers)\n",
    "\n",
    "\n",
    "# Calculating the median\n",
    "def calculate_median(numbers):\n",
    "    s = len(numbers)\n",
    "    numbers.sort()\n",
    "\n",
    "    m = s // 2\n",
    "\n",
    "    if s % 2 == 0:\n",
    "        median = sum(numbers[m - 1 : m + 1]) / 2\n",
    "    else:\n",
    "        median = numbers[m]\n",
    "\n",
    "    return median\n",
    "\n",
    "\n",
    "# Calculating the mode\n",
    "def calculate_mode(numbers):\n",
    "    numbers_freq = Counter(numbers).most_common()\n",
    "    max_count = numbers_freq[0][1]\n",
    "\n",
    "    return [i[0] for i in numbers_freq if i[1] == max_count]\n",
    "\n",
    "\n",
    "def find_differences(numbers):\n",
    "    mean = calculate_mean(numbers)\n",
    "    return [num - mean for num in numbers]\n",
    "\n",
    "\n",
    "# Find the variance and standard deviation of a list of numbers\n",
    "def calculate_variance(numbers):\n",
    "    return sum([x ** 2 for x in find_differences(numbers)]) / len(numbers)"
   ]
  },
  {
   "cell_type": "code",
   "execution_count": 2,
   "id": "0f78413f-2f4f-4319-8853-e38217c15369",
   "metadata": {},
   "outputs": [
    {
     "name": "stdout",
     "output_type": "stream",
     "text": [
      "Mean: 477.75\n",
      "Median: 500.0\n",
      "Mode: [100.0, 500.0]\n",
      "Variance: 141,047.35\n",
      "Standard Deviation: 375.56\n"
     ]
    }
   ],
   "source": [
    "def read_data(filename):\n",
    "    with open(filename) as f:\n",
    "        numbers = [float(line) for line in f]\n",
    "        return numbers\n",
    "\n",
    "\n",
    "data = read_data(\"chap3_mydata.txt\")\n",
    "print(\"Mean: {0}\".format(calculate_mean(data)))\n",
    "print(\"Median: {0}\".format(calculate_median(data)))\n",
    "print(\"Mode: {0}\".format(calculate_mode(data)))\n",
    "print(\"Variance: {0:,.2f}\".format(calculate_variance(data)))\n",
    "print(\"Standard Deviation: {0:,.2f}\".format(calculate_variance(data) ** 0.5))"
   ]
  }
 ],
 "metadata": {
  "kernelspec": {
   "display_name": "Python 3 (ipykernel)",
   "language": "python",
   "name": "python3"
  },
  "language_info": {
   "codemirror_mode": {
    "name": "ipython",
    "version": 3
   },
   "file_extension": ".py",
   "mimetype": "text/x-python",
   "name": "python",
   "nbconvert_exporter": "python",
   "pygments_lexer": "ipython3",
   "version": "3.10.1"
  }
 },
 "nbformat": 4,
 "nbformat_minor": 5
}
