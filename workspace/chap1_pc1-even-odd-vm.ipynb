{
 "cells": [
  {
   "cell_type": "markdown",
   "id": "dbcd66c4-4aca-4424-9749-b63ff6356910",
   "metadata": {},
   "source": [
    "# Chapter 1: Working with Numbers\n",
    "\n",
    "## Programming Challenges\n",
    "\n",
    "### \\#1: Even-Odd Vending Machine\n",
    "\n",
    "- 入力値が偶数か奇数かを出力\n",
    "- 入力値と続く9個の偶数（または奇数）を出力\n",
    "- 入力値が小数だったりした場合はエラーメッセージを出力"
   ]
  },
  {
   "cell_type": "code",
   "execution_count": 1,
   "id": "339a5dcc-d258-4fc0-aa5c-ad45ae0a1d14",
   "metadata": {},
   "outputs": [],
   "source": [
    "def even_odd_vm(n):\n",
    "    try:\n",
    "        n = float(n)\n",
    "    except ValueError:\n",
    "        print(\"You entered an invalid number\")\n",
    "        return\n",
    "\n",
    "    if not n.is_integer():\n",
    "        print(\"You entered a Non-integer number\")\n",
    "        return\n",
    "\n",
    "    # type conversion\n",
    "    n = int(n)\n",
    "\n",
    "    # check whether even or odd\n",
    "    if n % 2 == 0:\n",
    "        print(\"the number is even\")\n",
    "    else:\n",
    "        print(\"the number is odd\")\n",
    "\n",
    "    # display a sequence\n",
    "    for i in range(n, n + 19, 2):\n",
    "        print(i)"
   ]
  },
  {
   "cell_type": "markdown",
   "id": "bc203569-acc5-4107-b4f5-24c2ebc1c372",
   "metadata": {},
   "source": [
    "偶数の場合"
   ]
  },
  {
   "cell_type": "code",
   "execution_count": 2,
   "id": "74f7110e-cb29-4bf8-a70c-80f791e4e6b4",
   "metadata": {},
   "outputs": [
    {
     "name": "stdout",
     "output_type": "stream",
     "text": [
      "the number is even\n",
      "2\n",
      "4\n",
      "6\n",
      "8\n",
      "10\n",
      "12\n",
      "14\n",
      "16\n",
      "18\n",
      "20\n"
     ]
    }
   ],
   "source": [
    "even_odd_vm(\"2\")"
   ]
  },
  {
   "cell_type": "markdown",
   "id": "6868cdbb-7239-4931-a9f3-60362194258a",
   "metadata": {},
   "source": [
    "奇数の場合"
   ]
  },
  {
   "cell_type": "code",
   "execution_count": 3,
   "id": "0760d7df-3b7b-4b17-a3d4-e3b286803991",
   "metadata": {},
   "outputs": [
    {
     "name": "stdout",
     "output_type": "stream",
     "text": [
      "the number is odd\n",
      "1\n",
      "3\n",
      "5\n",
      "7\n",
      "9\n",
      "11\n",
      "13\n",
      "15\n",
      "17\n",
      "19\n"
     ]
    }
   ],
   "source": [
    "even_odd_vm(\"1\")"
   ]
  },
  {
   "cell_type": "markdown",
   "id": "e2b966d4-b755-4100-b58f-4dc7598c15e8",
   "metadata": {},
   "source": [
    "小数表記でも正しく処理"
   ]
  },
  {
   "cell_type": "code",
   "execution_count": 4,
   "id": "e4e89d5c-6a05-4422-9442-f16f08a990b5",
   "metadata": {},
   "outputs": [
    {
     "name": "stdout",
     "output_type": "stream",
     "text": [
      "the number is even\n",
      "2\n",
      "4\n",
      "6\n",
      "8\n",
      "10\n",
      "12\n",
      "14\n",
      "16\n",
      "18\n",
      "20\n"
     ]
    }
   ],
   "source": [
    "even_odd_vm(\"2.0\")"
   ]
  },
  {
   "cell_type": "markdown",
   "id": "37b80389-9308-4d27-96fa-9bb721bac8f5",
   "metadata": {},
   "source": [
    "エラー処理"
   ]
  },
  {
   "cell_type": "code",
   "execution_count": 5,
   "id": "669aa07f-b67d-49cc-b43b-ac8b76501b67",
   "metadata": {},
   "outputs": [
    {
     "name": "stdout",
     "output_type": "stream",
     "text": [
      "You entered an invalid number\n"
     ]
    }
   ],
   "source": [
    "even_odd_vm(\"3/2\")"
   ]
  },
  {
   "cell_type": "code",
   "execution_count": 6,
   "id": "11f2734f-e1c8-4bc0-9f18-58cabf970acc",
   "metadata": {},
   "outputs": [
    {
     "name": "stdout",
     "output_type": "stream",
     "text": [
      "You entered a Non-integer number\n"
     ]
    }
   ],
   "source": [
    "even_odd_vm(\"1.5\")"
   ]
  }
 ],
 "metadata": {
  "kernelspec": {
   "display_name": "Python 3 (ipykernel)",
   "language": "python",
   "name": "python3"
  },
  "language_info": {
   "codemirror_mode": {
    "name": "ipython",
    "version": 3
   },
   "file_extension": ".py",
   "mimetype": "text/x-python",
   "name": "python",
   "nbconvert_exporter": "python",
   "pygments_lexer": "ipython3",
   "version": "3.10.1"
  }
 },
 "nbformat": 4,
 "nbformat_minor": 5
}
