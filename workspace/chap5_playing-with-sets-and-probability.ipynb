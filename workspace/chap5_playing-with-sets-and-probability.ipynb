{
 "cells": [
  {
   "cell_type": "markdown",
   "id": "0ca86bbf-d3f4-4fa6-aa41-bca461c76de9",
   "metadata": {},
   "source": [
    "# Chapter 5: Playing with Sets and Probability\n",
    "\n",
    "## What’s a Set?\n",
    "\n",
    "### Set Construction"
   ]
  },
  {
   "cell_type": "code",
   "execution_count": 1,
   "id": "c2dfc55e-838d-491e-9512-88b5d8488a2d",
   "metadata": {},
   "outputs": [
    {
     "data": {
      "text/latex": [
       "$\\displaystyle \\left\\{2, 4, 6\\right\\}$"
      ],
      "text/plain": [
       "{2, 4, 6}"
      ]
     },
     "execution_count": 1,
     "metadata": {},
     "output_type": "execute_result"
    }
   ],
   "source": [
    "import sympy\n",
    "from sympy import FiniteSet\n",
    "\n",
    "s = FiniteSet(2, 4, 6)\n",
    "s"
   ]
  },
  {
   "cell_type": "code",
   "execution_count": 2,
   "id": "4244c018-824c-4b3c-b541-022814e6aef3",
   "metadata": {},
   "outputs": [
    {
     "data": {
      "text/latex": [
       "$\\displaystyle \\left\\{\\frac{1}{5}, 1, 1.5\\right\\}$"
      ],
      "text/plain": [
       "{1/5, 1, 1.5}"
      ]
     },
     "execution_count": 2,
     "metadata": {},
     "output_type": "execute_result"
    }
   ],
   "source": [
    "from fractions import Fraction\n",
    "\n",
    "s = FiniteSet(1, 1.5, Fraction(1, 5))\n",
    "s"
   ]
  },
  {
   "cell_type": "code",
   "execution_count": 3,
   "id": "987beeaf-37ef-4c87-ba48-a38588bda1cb",
   "metadata": {},
   "outputs": [
    {
     "data": {
      "text/plain": [
       "3"
      ]
     },
     "execution_count": 3,
     "metadata": {},
     "output_type": "execute_result"
    }
   ],
   "source": [
    "len(s)"
   ]
  },
  {
   "cell_type": "markdown",
   "id": "1b5607b9-05b8-4456-871a-f971e391e241",
   "metadata": {},
   "source": [
    "#### Checking Whether a Number Is in a Set"
   ]
  },
  {
   "cell_type": "code",
   "execution_count": 4,
   "id": "f221e1ac-25d9-42cd-97e1-7cbf43226353",
   "metadata": {},
   "outputs": [
    {
     "data": {
      "text/plain": [
       "False"
      ]
     },
     "execution_count": 4,
     "metadata": {},
     "output_type": "execute_result"
    }
   ],
   "source": [
    "4 in s"
   ]
  },
  {
   "cell_type": "code",
   "execution_count": 5,
   "id": "a7a13071-d580-4daf-84c8-b48dfd1fde0c",
   "metadata": {},
   "outputs": [
    {
     "data": {
      "text/plain": [
       "True"
      ]
     },
     "execution_count": 5,
     "metadata": {},
     "output_type": "execute_result"
    }
   ],
   "source": [
    "1 in s"
   ]
  },
  {
   "cell_type": "markdown",
   "id": "57bb8cfa-9ef0-49a1-9fc1-6afb4416f0d1",
   "metadata": {},
   "source": [
    "#### Creating an Empty Set"
   ]
  },
  {
   "cell_type": "code",
   "execution_count": 6,
   "id": "3dba5065-34ac-48c9-b82f-edf4e30f6bf9",
   "metadata": {},
   "outputs": [
    {
     "data": {
      "text/latex": [
       "$\\displaystyle \\emptyset$"
      ],
      "text/plain": [
       "EmptySet"
      ]
     },
     "execution_count": 6,
     "metadata": {},
     "output_type": "execute_result"
    }
   ],
   "source": [
    "s = FiniteSet()\n",
    "s"
   ]
  },
  {
   "cell_type": "code",
   "execution_count": 7,
   "id": "e1de8d0e-c0b4-4797-a21d-28e25296b1cc",
   "metadata": {},
   "outputs": [
    {
     "data": {
      "text/plain": [
       "sympy.sets.sets.EmptySet"
      ]
     },
     "execution_count": 7,
     "metadata": {},
     "output_type": "execute_result"
    }
   ],
   "source": [
    "type(s)"
   ]
  },
  {
   "cell_type": "markdown",
   "id": "b92f95db-d8cc-4b36-b6f8-e4a6509ce465",
   "metadata": {},
   "source": [
    "#### Creating Sets from Lists or Tuples"
   ]
  },
  {
   "cell_type": "code",
   "execution_count": 8,
   "id": "3f51ccbd-c6ba-4baa-951a-3ccc563affcd",
   "metadata": {},
   "outputs": [
    {
     "data": {
      "text/latex": [
       "$\\displaystyle \\left\\{1, 2, 3\\right\\}$"
      ],
      "text/plain": [
       "{1, 2, 3}"
      ]
     },
     "execution_count": 8,
     "metadata": {},
     "output_type": "execute_result"
    }
   ],
   "source": [
    "members = [1, 2, 3]\n",
    "# unpack a list\n",
    "s = FiniteSet(*members)\n",
    "s"
   ]
  },
  {
   "cell_type": "markdown",
   "id": "bd245424-5084-4794-a20e-40a9b1822382",
   "metadata": {},
   "source": [
    "#### Set Repetition and Order"
   ]
  },
  {
   "cell_type": "code",
   "execution_count": 9,
   "id": "960b33b5-816c-4ece-83d8-120984e7dcbd",
   "metadata": {},
   "outputs": [
    {
     "data": {
      "text/latex": [
       "$\\displaystyle \\left\\{1, 2, 3\\right\\}$"
      ],
      "text/plain": [
       "{1, 2, 3}"
      ]
     },
     "execution_count": 9,
     "metadata": {},
     "output_type": "execute_result"
    }
   ],
   "source": [
    "members = [3, 2, 1] * 2\n",
    "s = FiniteSet(*members)\n",
    "s"
   ]
  },
  {
   "cell_type": "code",
   "execution_count": 10,
   "id": "ec7409ba-cabc-4104-8047-2b0fa74d26d1",
   "metadata": {},
   "outputs": [
    {
     "name": "stdout",
     "output_type": "stream",
     "text": [
      "1\n",
      "2\n",
      "3\n"
     ]
    }
   ],
   "source": [
    "for e in s:\n",
    "    print(e)"
   ]
  },
  {
   "cell_type": "code",
   "execution_count": 11,
   "id": "23518de8-3c82-41d7-9069-8551c3c51396",
   "metadata": {},
   "outputs": [
    {
     "data": {
      "text/plain": [
       "True"
      ]
     },
     "execution_count": 11,
     "metadata": {},
     "output_type": "execute_result"
    }
   ],
   "source": [
    "s1 = FiniteSet(3, 4, 5)\n",
    "s2 = FiniteSet(5, 4, 3)\n",
    "s1 == s2"
   ]
  },
  {
   "cell_type": "markdown",
   "id": "f381bca3-1b06-4866-b286-c6a7f39e9969",
   "metadata": {},
   "source": [
    "### Subsets, Supersets, and Power Sets\n",
    "\n",
    "まずは包含関係から"
   ]
  },
  {
   "cell_type": "code",
   "execution_count": 12,
   "id": "ed6e4292-42ef-4924-b761-02665d79dd65",
   "metadata": {},
   "outputs": [
    {
     "data": {
      "text/plain": [
       "True"
      ]
     },
     "execution_count": 12,
     "metadata": {},
     "output_type": "execute_result"
    }
   ],
   "source": [
    "s = FiniteSet(1)\n",
    "t = FiniteSet(1, 2)\n",
    "s.is_subset(t)"
   ]
  },
  {
   "cell_type": "code",
   "execution_count": 13,
   "id": "7743f513-7a01-45ad-937a-27e4f908f780",
   "metadata": {},
   "outputs": [
    {
     "data": {
      "text/plain": [
       "False"
      ]
     },
     "execution_count": 13,
     "metadata": {},
     "output_type": "execute_result"
    }
   ],
   "source": [
    "t.is_subset(s)"
   ]
  },
  {
   "cell_type": "markdown",
   "id": "c77501ad-5211-4476-8db1-f9e0b39d9e0a",
   "metadata": {},
   "source": [
    "自身は自身の部分集合"
   ]
  },
  {
   "cell_type": "code",
   "execution_count": 14,
   "id": "810fa05d-f517-40b4-a817-1d80877c40da",
   "metadata": {},
   "outputs": [
    {
     "data": {
      "text/plain": [
       "True"
      ]
     },
     "execution_count": 14,
     "metadata": {},
     "output_type": "execute_result"
    }
   ],
   "source": [
    "s.is_subset(s)"
   ]
  },
  {
   "cell_type": "markdown",
   "id": "e0420730-a879-4e56-95d1-f95646dff9b7",
   "metadata": {},
   "source": [
    "空集合は任意の集合の部分集合"
   ]
  },
  {
   "cell_type": "code",
   "execution_count": 15,
   "id": "da48c648-51ba-4f91-b8a1-9e431518ff6b",
   "metadata": {},
   "outputs": [
    {
     "data": {
      "text/plain": [
       "True"
      ]
     },
     "execution_count": 15,
     "metadata": {},
     "output_type": "execute_result"
    }
   ],
   "source": [
    "FiniteSet().is_subset(s)"
   ]
  },
  {
   "cell_type": "markdown",
   "id": "d0677791-84ef-443a-ba45-a00d540f9658",
   "metadata": {},
   "source": [
    "真部分集合"
   ]
  },
  {
   "cell_type": "code",
   "execution_count": 16,
   "id": "7e99f3e7-342a-4f35-ad8c-feca58d95e51",
   "metadata": {},
   "outputs": [
    {
     "data": {
      "text/plain": [
       "False"
      ]
     },
     "execution_count": 16,
     "metadata": {},
     "output_type": "execute_result"
    }
   ],
   "source": [
    "s.is_proper_subset(s)"
   ]
  },
  {
   "cell_type": "code",
   "execution_count": 17,
   "id": "66f75cb0-6ccd-4584-b22a-6304b4e1b3bb",
   "metadata": {},
   "outputs": [
    {
     "data": {
      "text/plain": [
       "True"
      ]
     },
     "execution_count": 17,
     "metadata": {},
     "output_type": "execute_result"
    }
   ],
   "source": [
    "s.is_proper_subset(t)"
   ]
  },
  {
   "cell_type": "code",
   "execution_count": 18,
   "id": "38f24a3d-01c1-4fbf-ba02-d1086bd19812",
   "metadata": {},
   "outputs": [
    {
     "data": {
      "text/plain": [
       "False"
      ]
     },
     "execution_count": 18,
     "metadata": {},
     "output_type": "execute_result"
    }
   ],
   "source": [
    "s.is_superset(t)"
   ]
  },
  {
   "cell_type": "code",
   "execution_count": 19,
   "id": "3b51ef94-9bc3-4068-9f53-65fc732e33b1",
   "metadata": {},
   "outputs": [
    {
     "data": {
      "text/plain": [
       "True"
      ]
     },
     "execution_count": 19,
     "metadata": {},
     "output_type": "execute_result"
    }
   ],
   "source": [
    "t.is_superset(s)"
   ]
  },
  {
   "cell_type": "markdown",
   "id": "aeda13a9-81ac-4de8-a781-06085b5350b1",
   "metadata": {},
   "source": [
    "冪集合"
   ]
  },
  {
   "cell_type": "code",
   "execution_count": 20,
   "id": "732480fe-8700-4855-8ae6-565475e4fec7",
   "metadata": {},
   "outputs": [
    {
     "data": {
      "text/latex": [
       "$\\displaystyle \\left\\{\\emptyset, \\left\\{1\\right\\}, \\left\\{2\\right\\}, \\left\\{3\\right\\}, \\left\\{1, 2\\right\\}, \\left\\{1, 3\\right\\}, \\left\\{2, 3\\right\\}, \\left\\{1, 2, 3\\right\\}\\right\\}$"
      ],
      "text/plain": [
       "FiniteSet(EmptySet, {1}, {2}, {3}, {1, 2}, {1, 3}, {2, 3}, {1, 2, 3})"
      ]
     },
     "execution_count": 20,
     "metadata": {},
     "output_type": "execute_result"
    }
   ],
   "source": [
    "s = FiniteSet(1, 2, 3)\n",
    "ps = s.powerset()\n",
    "ps"
   ]
  },
  {
   "cell_type": "code",
   "execution_count": 21,
   "id": "b1f9ba6d-e2d8-4119-9021-0183f1aeabb0",
   "metadata": {},
   "outputs": [
    {
     "data": {
      "text/plain": [
       "8"
      ]
     },
     "execution_count": 21,
     "metadata": {},
     "output_type": "execute_result"
    }
   ],
   "source": [
    "len(ps)"
   ]
  },
  {
   "cell_type": "markdown",
   "id": "9db99c31-f91a-409e-bb2c-847f61f8afd7",
   "metadata": {},
   "source": [
    "### Set Operations\n",
    "\n",
    "#### Union and Intersection\n",
    "\n",
    "和集合"
   ]
  },
  {
   "cell_type": "code",
   "execution_count": 22,
   "id": "73703c9d-8368-4d73-bf4e-e35bedea3658",
   "metadata": {},
   "outputs": [
    {
     "data": {
      "text/latex": [
       "$\\displaystyle \\left\\{1, 2, 3, 4, 6\\right\\}$"
      ],
      "text/plain": [
       "{1, 2, 3, 4, 6}"
      ]
     },
     "execution_count": 22,
     "metadata": {},
     "output_type": "execute_result"
    }
   ],
   "source": [
    "s = FiniteSet(1, 2, 3)\n",
    "t = FiniteSet(2, 4, 6)\n",
    "s.union(t)"
   ]
  },
  {
   "cell_type": "markdown",
   "id": "ecd57965-8184-4720-8af3-fe37cf57d05c",
   "metadata": {},
   "source": [
    "共通部分"
   ]
  },
  {
   "cell_type": "code",
   "execution_count": 23,
   "id": "72384e4d-73a4-4cbc-b36e-691331bb2697",
   "metadata": {},
   "outputs": [
    {
     "data": {
      "text/latex": [
       "$\\displaystyle \\left\\{2\\right\\}$"
      ],
      "text/plain": [
       "{2}"
      ]
     },
     "execution_count": 23,
     "metadata": {},
     "output_type": "execute_result"
    }
   ],
   "source": [
    "s = FiniteSet(1, 2)\n",
    "t = FiniteSet(2, 3)\n",
    "s.intersect(t)"
   ]
  },
  {
   "cell_type": "code",
   "execution_count": 24,
   "id": "9d77caea-a2c3-4887-8c72-aa753f38579b",
   "metadata": {},
   "outputs": [
    {
     "data": {
      "text/latex": [
       "$\\displaystyle \\left\\{1, 2, 3, 4, 5, 6, 7\\right\\}$"
      ],
      "text/plain": [
       "{1, 2, 3, 4, 5, 6, 7}"
      ]
     },
     "execution_count": 24,
     "metadata": {},
     "output_type": "execute_result"
    }
   ],
   "source": [
    "s = FiniteSet(1, 2, 3)\n",
    "t = FiniteSet(2, 4, 6)\n",
    "u = FiniteSet(3, 5, 7)\n",
    "s.union(t).union(u)"
   ]
  },
  {
   "cell_type": "code",
   "execution_count": 25,
   "id": "8192b2b3-0bc6-4971-9859-d0cbadf12fdb",
   "metadata": {},
   "outputs": [
    {
     "data": {
      "text/latex": [
       "$\\displaystyle \\emptyset$"
      ],
      "text/plain": [
       "EmptySet"
      ]
     },
     "execution_count": 25,
     "metadata": {},
     "output_type": "execute_result"
    }
   ],
   "source": [
    "s.intersect(t).intersect(u)"
   ]
  },
  {
   "cell_type": "markdown",
   "id": "ab83204f-18e8-417a-8a6f-cfa9dd669747",
   "metadata": {},
   "source": [
    "#### Cartesian Product"
   ]
  },
  {
   "cell_type": "code",
   "execution_count": 26,
   "id": "c98d17f0-ad9d-4c88-8a16-7a4e36e0113e",
   "metadata": {},
   "outputs": [
    {
     "data": {
      "text/latex": [
       "$\\displaystyle \\left\\{1, 2\\right\\} \\times \\left\\{3, 4\\right\\}$"
      ],
      "text/plain": [
       "ProductSet({1, 2}, {3, 4})"
      ]
     },
     "execution_count": 26,
     "metadata": {},
     "output_type": "execute_result"
    }
   ],
   "source": [
    "s = FiniteSet(1, 2)\n",
    "t = FiniteSet(3, 4)\n",
    "\n",
    "p = s * t\n",
    "p"
   ]
  },
  {
   "cell_type": "code",
   "execution_count": 27,
   "id": "d9eb7b2a-0359-4b3d-8738-3057950153c6",
   "metadata": {},
   "outputs": [
    {
     "name": "stdout",
     "output_type": "stream",
     "text": [
      "(1, 3)\n",
      "(2, 3)\n",
      "(1, 4)\n",
      "(2, 4)\n"
     ]
    }
   ],
   "source": [
    "for e in p:\n",
    "    print(e)"
   ]
  },
  {
   "cell_type": "code",
   "execution_count": 28,
   "id": "953f918e-e5c3-4e5e-8a4e-acb9944c9921",
   "metadata": {},
   "outputs": [
    {
     "data": {
      "text/plain": [
       "True"
      ]
     },
     "execution_count": 28,
     "metadata": {},
     "output_type": "execute_result"
    }
   ],
   "source": [
    "len(p) == len(s) * len(t)"
   ]
  },
  {
   "cell_type": "code",
   "execution_count": 29,
   "id": "0f6d6f04-f081-4c2d-b5fc-056d9e259a90",
   "metadata": {},
   "outputs": [
    {
     "data": {
      "text/latex": [
       "$\\displaystyle \\left\\{1, 2\\right\\}^{3}$"
      ],
      "text/plain": [
       "ProductSet({1, 2}, {1, 2}, {1, 2})"
      ]
     },
     "execution_count": 29,
     "metadata": {},
     "output_type": "execute_result"
    }
   ],
   "source": [
    "s = FiniteSet(1, 2)\n",
    "\n",
    "p = s ** 3\n",
    "p"
   ]
  },
  {
   "cell_type": "code",
   "execution_count": 30,
   "id": "35b6aa79-c524-4956-b75d-1f721c78be2f",
   "metadata": {},
   "outputs": [
    {
     "name": "stdout",
     "output_type": "stream",
     "text": [
      "(1, 1, 1)\n",
      "(2, 1, 1)\n",
      "(1, 2, 1)\n",
      "(2, 2, 1)\n",
      "(1, 1, 2)\n",
      "(2, 1, 2)\n",
      "(1, 2, 2)\n",
      "(2, 2, 2)\n"
     ]
    }
   ],
   "source": [
    "for e in p:\n",
    "    print(e)"
   ]
  },
  {
   "cell_type": "markdown",
   "id": "051f1c65-49c0-4cd1-99a1-bfdc5794ccf2",
   "metadata": {},
   "source": [
    "#### Applying a Formula to Multiple Sets of Variables\n",
    "\n",
    "様々な長さの振り子の周期を計算"
   ]
  },
  {
   "cell_type": "code",
   "execution_count": 31,
   "id": "bdc68852-5c97-40f5-a7ad-f6328f41a901",
   "metadata": {},
   "outputs": [
    {
     "name": "stdout",
     "output_type": "stream",
     "text": [
      "Length: 15.0 cm Time Period: 0.777 s\n",
      "Length: 18.0 cm Time Period: 0.852 s\n",
      "Length: 21.0 cm Time Period: 0.920 s\n",
      "Length: 22.5 cm Time Period: 0.952 s\n",
      "Length: 25.0 cm Time Period: 1.004 s\n"
     ]
    }
   ],
   "source": [
    "def time_period(length):\n",
    "    g = 9.8\n",
    "    return 2 * sympy.pi * (length / g) ** 0.5\n",
    "\n",
    "\n",
    "L = FiniteSet(15, 18, 21, 22.5, 25)\n",
    "for x in L:\n",
    "    t = time_period(x / 100)\n",
    "    print(\"Length: {0} cm Time Period: {1:.3f} s\".format(float(x), float(t)))"
   ]
  },
  {
   "cell_type": "code",
   "execution_count": 32,
   "id": "c7dde9c5-33eb-4322-9c87-fc576b3b241a",
   "metadata": {},
   "outputs": [
    {
     "name": "stdout",
     "output_type": "stream",
     "text": [
      "  Length(cm)   Gravity(m/s^2) Time Period(s) \n",
      "     15.0           9.78           0.778     \n",
      "     18.0           9.78           0.852     \n",
      "     15.0            9.8           0.777     \n",
      "     21.0           9.78           0.921     \n",
      "     18.0            9.8           0.852     \n",
      "     15.0           9.83           0.776     \n",
      "     22.5           9.78           0.953     \n",
      "     21.0            9.8           0.920     \n",
      "     18.0           9.83           0.850     \n",
      "     25.0           9.78           1.005     \n",
      "     22.5            9.8           0.952     \n",
      "     21.0           9.83           0.918     \n",
      "     25.0            9.8           1.004     \n",
      "     22.5           9.83           0.951     \n",
      "     25.0           9.83           1.002     \n"
     ]
    }
   ],
   "source": [
    "def time_period(length, g):\n",
    "    return 2 * sympy.pi * (length / g) ** 0.5\n",
    "\n",
    "\n",
    "L = FiniteSet(15, 18, 21, 22.5, 25)\n",
    "g_values = FiniteSet(9.8, 9.78, 9.83)\n",
    "\n",
    "print(\"{0:^15}{1:^15}{2:^15}\".format(\"Length(cm)\", \"Gravity(m/s^2)\", \"Time Period(s)\"))\n",
    "for element in L * g_values:\n",
    "    t = time_period(element[0] / 100, element[1])\n",
    "    print(\n",
    "        \"{0:^15}{1:^15}{2:^15.3f}\".format(\n",
    "            float(element[0]), float(element[1]), float(t)\n",
    "        )\n",
    "    )"
   ]
  },
  {
   "cell_type": "markdown",
   "id": "eb4280a0-383e-4ec2-9c62-b44610c9a6d9",
   "metadata": {},
   "source": [
    "## Probability\n",
    "\n",
    "20までの自然数における素数の出現確率"
   ]
  },
  {
   "cell_type": "code",
   "execution_count": 33,
   "id": "3eaf9afb-8423-49f1-9267-2e1646e3ab51",
   "metadata": {},
   "outputs": [
    {
     "name": "stdout",
     "output_type": "stream",
     "text": [
      "Sample space: {1, 2, 3, 4, 5, 6, 7, 8, 9, 10, 11, 12, 13, 14, 15, 16, 17, 18, 19, 20}\n",
      "Event: {2, 3, 5, 7, 11, 13, 17, 19}\n",
      "Probability of rolling a prime: 0.40000\n"
     ]
    }
   ],
   "source": [
    "def probability(space, event):\n",
    "    return len(event) / len(space)\n",
    "\n",
    "\n",
    "def check_prime(number):\n",
    "    if number != 1:\n",
    "        for factor in range(2, number):\n",
    "            if number % factor == 0:\n",
    "                return False\n",
    "    else:\n",
    "        return False\n",
    "    return True\n",
    "\n",
    "\n",
    "space = FiniteSet(*range(1, 21))\n",
    "primes = [p for p in space if check_prime(p)]\n",
    "event = FiniteSet(*primes)\n",
    "p = probability(space, event)\n",
    "\n",
    "print(\"Sample space: {0}\".format(space))\n",
    "print(\"Event: {0}\".format(event))\n",
    "print(\"Probability of rolling a prime: {0:.5f}\".format(p))"
   ]
  },
  {
   "cell_type": "markdown",
   "id": "1dbcb107-016b-4656-9ab2-07efe1a4af98",
   "metadata": {},
   "source": [
    "### Probability of Event A or Event B"
   ]
  },
  {
   "cell_type": "code",
   "execution_count": 34,
   "id": "53029655-ee02-4301-9fa4-a4c1af7f4714",
   "metadata": {},
   "outputs": [
    {
     "data": {
      "text/plain": [
       "0.6666666666666666"
      ]
     },
     "execution_count": 34,
     "metadata": {},
     "output_type": "execute_result"
    }
   ],
   "source": [
    "s = FiniteSet(*range(1, 7))\n",
    "# prime numbers\n",
    "a = FiniteSet(2, 3, 5)\n",
    "# odd numbers\n",
    "b = FiniteSet(1, 3, 5)\n",
    "\n",
    "# union of events\n",
    "len(a.union(b)) / len(s)"
   ]
  },
  {
   "cell_type": "markdown",
   "id": "fc18d980-facf-4e6c-af8e-d6005b8060bf",
   "metadata": {},
   "source": [
    "### Probability of Event A and Event B"
   ]
  },
  {
   "cell_type": "code",
   "execution_count": 35,
   "id": "e9c4355b-dabb-45d4-9533-f6e3f4cffc2f",
   "metadata": {},
   "outputs": [
    {
     "data": {
      "text/plain": [
       "0.3333333333333333"
      ]
     },
     "execution_count": 35,
     "metadata": {},
     "output_type": "execute_result"
    }
   ],
   "source": [
    "s = FiniteSet(*range(1, 7))\n",
    "# prime numbers\n",
    "a = FiniteSet(2, 3, 5)\n",
    "# odd numbers\n",
    "b = FiniteSet(1, 3, 5)\n",
    "\n",
    "# intersection of events\n",
    "len(a.intersection(b)) / len(s)"
   ]
  },
  {
   "cell_type": "markdown",
   "id": "4150a56c-4de2-4cad-a8f6-a913115bc7a4",
   "metadata": {},
   "source": [
    "### Generating Random Numbers\n",
    "\n",
    "#### Simulating a Die Roll"
   ]
  },
  {
   "cell_type": "code",
   "execution_count": 36,
   "id": "98029f45-17f9-4404-a565-1123432f06b8",
   "metadata": {},
   "outputs": [
    {
     "data": {
      "text/plain": [
       "6"
      ]
     },
     "execution_count": 36,
     "metadata": {},
     "output_type": "execute_result"
    }
   ],
   "source": [
    "import random\n",
    "\n",
    "random.randint(1, 6)"
   ]
  },
  {
   "cell_type": "code",
   "execution_count": 37,
   "id": "b004bec9-c1bb-4a68-b78f-f2d143a267dc",
   "metadata": {},
   "outputs": [
    {
     "data": {
      "text/plain": [
       "5"
      ]
     },
     "execution_count": 37,
     "metadata": {},
     "output_type": "execute_result"
    }
   ],
   "source": [
    "random.randint(1, 6)"
   ]
  },
  {
   "cell_type": "markdown",
   "id": "5b6bd141-2f65-447c-8693-d8721d889201",
   "metadata": {},
   "source": [
    "#### Can You Roll That Score?\n",
    "\n",
    "合計が20以上になるまでサイコロを振り続ける"
   ]
  },
  {
   "cell_type": "code",
   "execution_count": 38,
   "id": "2dd28020-35d5-4f09-8150-2ae4ad6b43c3",
   "metadata": {},
   "outputs": [
    {
     "name": "stdout",
     "output_type": "stream",
     "text": [
      "Rolled: 6\n",
      "Rolled: 4\n",
      "Rolled: 1\n",
      "Rolled: 6\n",
      "Rolled: 3\n",
      "Score of 20 reached in 5 rolls\n"
     ]
    }
   ],
   "source": [
    "\"\"\"\n",
    "Roll a die until the total score is 20\n",
    "\"\"\"\n",
    "\n",
    "import random\n",
    "\n",
    "target_score = 20\n",
    "\n",
    "\n",
    "def roll():\n",
    "    return random.randint(1, 6)\n",
    "\n",
    "\n",
    "def exp(target_score):\n",
    "    score = 0\n",
    "    num_rolls = 0\n",
    "\n",
    "    while score < target_score:\n",
    "        die_roll = roll()\n",
    "        num_rolls += 1\n",
    "        score += die_roll\n",
    "        print(\"Rolled: {0}\".format(die_roll))\n",
    "\n",
    "    print(\"Score of {0} reached in {1} rolls\".format(score, num_rolls))\n",
    "\n",
    "\n",
    "exp(target_score)"
   ]
  },
  {
   "cell_type": "code",
   "execution_count": 39,
   "id": "6879a84d-224f-4c9c-b87b-f37fbcbe3302",
   "metadata": {},
   "outputs": [
    {
     "name": "stdout",
     "output_type": "stream",
     "text": [
      "Rolled: 1\n",
      "Rolled: 3\n",
      "Rolled: 1\n",
      "Rolled: 1\n",
      "Rolled: 5\n",
      "Rolled: 4\n",
      "Rolled: 1\n",
      "Rolled: 5\n",
      "Score of 21 reached in 8 rolls\n"
     ]
    }
   ],
   "source": [
    "exp(target_score)"
   ]
  },
  {
   "cell_type": "code",
   "execution_count": 40,
   "id": "52f390ee-f6ca-493d-abce-2813affda454",
   "metadata": {},
   "outputs": [
    {
     "name": "stdout",
     "output_type": "stream",
     "text": [
      "Rolled: 3\n",
      "Rolled: 4\n",
      "Rolled: 2\n",
      "Rolled: 2\n",
      "Rolled: 4\n",
      "Rolled: 1\n",
      "Rolled: 3\n",
      "Rolled: 4\n",
      "Score of 23 reached in 8 rolls\n"
     ]
    }
   ],
   "source": [
    "exp(target_score)"
   ]
  },
  {
   "cell_type": "markdown",
   "id": "5643f905-780e-4c8c-b882-be964729f788",
   "metadata": {},
   "source": [
    "#### Is the Target Score Possible?\n",
    "\n",
    "指定回数のうちにサイコロの目の合計が目標値に達する確率を求める。"
   ]
  },
  {
   "cell_type": "code",
   "execution_count": 41,
   "id": "7a8c999e-c478-4125-9f11-97e831872098",
   "metadata": {},
   "outputs": [
    {
     "name": "stdout",
     "output_type": "stream",
     "text": [
      "Max Rolls: 4 - Probability: 0.00000\n",
      "Max Rolls: 5 - Probability: 0.03241\n",
      "Max Rolls: 6 - Probability: 0.20585\n"
     ]
    }
   ],
   "source": [
    "def find_prob(target_score, max_rolls):\n",
    "    die_sides = FiniteSet(1, 2, 3, 4, 5, 6)\n",
    "    # Sample space\n",
    "    s = die_sides ** max_rolls\n",
    "    # Find the event set\n",
    "    success_rolls = [e for e in s if sum(e) >= target_score]\n",
    "    e = FiniteSet(*success_rolls)\n",
    "\n",
    "    # Calculate the probability of reaching target score\n",
    "    return len(e) / len(s)\n",
    "\n",
    "\n",
    "target_score = 25\n",
    "for max_rolls in [4, 5, 6]:\n",
    "    print(\n",
    "        \"Max Rolls: {0} - Probability: {1:.5f}\".format(\n",
    "            max_rolls, find_prob(target_score, max_rolls)\n",
    "        )\n",
    "    )"
   ]
  },
  {
   "cell_type": "markdown",
   "id": "bbe0c2d2-36fd-4659-9f3a-a599df3b5642",
   "metadata": {},
   "source": [
    "### Nonuniform Random Numbers"
   ]
  },
  {
   "cell_type": "code",
   "execution_count": 42,
   "id": "7167040f-61e3-4706-81d4-d80cb14aeead",
   "metadata": {},
   "outputs": [
    {
     "name": "stdout",
     "output_type": "stream",
     "text": [
      "0\n",
      "1\n",
      "1\n",
      "0\n",
      "0\n",
      "0\n",
      "0\n",
      "1\n",
      "1\n",
      "0\n"
     ]
    }
   ],
   "source": [
    "import random\n",
    "\n",
    "\n",
    "# 0 -> Heads, 1-> Tails\n",
    "def toss():\n",
    "    if random.random() < 2 / 3:\n",
    "        return 0\n",
    "    else:\n",
    "        return 1\n",
    "\n",
    "\n",
    "for _ in range(10):\n",
    "    print(toss())"
   ]
  },
  {
   "cell_type": "code",
   "execution_count": 43,
   "id": "f44f3c7f-391c-4398-9e72-fbba006c1c0a",
   "metadata": {},
   "outputs": [],
   "source": [
    "\"\"\"\n",
    "Simulate a fictional ATM that dispenses dollar bills of various denominations with varying probability\n",
    "\"\"\"\n",
    "\n",
    "import random\n",
    "\n",
    "\n",
    "def get_index(probability):\n",
    "    # calculate a Probability Number Line\n",
    "    c_probability = 0\n",
    "    probability_number_line = []\n",
    "    for p in probability:\n",
    "        c_probability += p\n",
    "        probability_number_line.append(c_probability)\n",
    "\n",
    "    # generate a random number & check a position on the line\n",
    "    r = random.random()\n",
    "    for index, sp in enumerate(probability_number_line):\n",
    "        if r <= sp:\n",
    "            return index\n",
    "\n",
    "    # take care a spacial case: r > any sp\n",
    "    return len(probability) - 1\n",
    "\n",
    "\n",
    "def dispense():\n",
    "    dollar_bills = [5, 10, 20, 50]\n",
    "    probability = [1 / 6, 1 / 6, 1 / 3, 1 / 3]\n",
    "    bill_index = get_index(probability)\n",
    "    return dollar_bills[bill_index]"
   ]
  },
  {
   "cell_type": "code",
   "execution_count": 44,
   "id": "07a21362-a36f-4052-87d4-66b2d6b43783",
   "metadata": {},
   "outputs": [
    {
     "name": "stdout",
     "output_type": "stream",
     "text": [
      "50\n",
      "5\n",
      "50\n",
      "50\n",
      "20\n",
      "20\n",
      "20\n",
      "10\n",
      "50\n",
      "10\n"
     ]
    }
   ],
   "source": [
    "for _ in range(10):\n",
    "    print(dispense())"
   ]
  }
 ],
 "metadata": {
  "kernelspec": {
   "display_name": "Python 3 (ipykernel)",
   "language": "python",
   "name": "python3"
  },
  "language_info": {
   "codemirror_mode": {
    "name": "ipython",
    "version": 3
   },
   "file_extension": ".py",
   "mimetype": "text/x-python",
   "name": "python",
   "nbconvert_exporter": "python",
   "pygments_lexer": "ipython3",
   "version": "3.10.1"
  }
 },
 "nbformat": 4,
 "nbformat_minor": 5
}
