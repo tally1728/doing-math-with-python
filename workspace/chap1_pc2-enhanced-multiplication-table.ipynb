{
 "cells": [
  {
   "cell_type": "markdown",
   "id": "6d689164-b865-4907-9c68-20bee602bccd",
   "metadata": {},
   "source": [
    "# Chapter 1: Working with Numbers\n",
    "\n",
    "## Programming Challenges\n",
    "\n",
    "### \\#2: Enhanced Multiplication Table Generator\n",
    "\n",
    "倍数表のサイズも指定できるようにする"
   ]
  },
  {
   "cell_type": "code",
   "execution_count": 1,
   "id": "a1337cc2-4992-4c69-bad1-36df7554b376",
   "metadata": {},
   "outputs": [],
   "source": [
    "# Enhanced Multiplication table printer\n",
    "def multi_table(a, m):\n",
    "    for i in range(1, m + 1):\n",
    "        print(\"{0} x {1} = {2}\".format(a, i, a * i))"
   ]
  },
  {
   "cell_type": "markdown",
   "id": "18398f94-68cd-4e82-ada2-d7f39f585fcf",
   "metadata": {},
   "source": [
    "9の倍数を15個まで表示"
   ]
  },
  {
   "cell_type": "code",
   "execution_count": 2,
   "id": "6cb34079-fdf7-4701-921e-686934d529e9",
   "metadata": {},
   "outputs": [
    {
     "name": "stdout",
     "output_type": "stream",
     "text": [
      "9 x 1 = 9\n",
      "9 x 2 = 18\n",
      "9 x 3 = 27\n",
      "9 x 4 = 36\n",
      "9 x 5 = 45\n",
      "9 x 6 = 54\n",
      "9 x 7 = 63\n",
      "9 x 8 = 72\n",
      "9 x 9 = 81\n",
      "9 x 10 = 90\n",
      "9 x 11 = 99\n",
      "9 x 12 = 108\n",
      "9 x 13 = 117\n",
      "9 x 14 = 126\n",
      "9 x 15 = 135\n"
     ]
    }
   ],
   "source": [
    "multi_table(9, 15)"
   ]
  }
 ],
 "metadata": {
  "kernelspec": {
   "display_name": "Python 3 (ipykernel)",
   "language": "python",
   "name": "python3"
  },
  "language_info": {
   "codemirror_mode": {
    "name": "ipython",
    "version": 3
   },
   "file_extension": ".py",
   "mimetype": "text/x-python",
   "name": "python",
   "nbconvert_exporter": "python",
   "pygments_lexer": "ipython3",
   "version": "3.10.1"
  }
 },
 "nbformat": 4,
 "nbformat_minor": 5
}
