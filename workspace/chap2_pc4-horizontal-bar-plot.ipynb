{
 "cells": [
  {
   "cell_type": "markdown",
   "id": "c36a86cc-059d-49ca-9d13-8362f7363533",
   "metadata": {},
   "source": [
    "# Chapter 2: Visualizing Data with Graphs\n",
    "\n",
    "## Programming Challenges\n",
    "\n",
    "### \\#4: Visualizing Your Expenses\n",
    "\n",
    "歩数の曜日ごとの棒グラフを描画\n",
    "\n",
    "- 横の棒グラフは [Axes.barh(y, width)](https://matplotlib.org/stable/api/_as_gen/matplotlib.axes.Axes.barh.html) メソッドで描く\n",
    "- `y` は **数量** のリストでなければならない\n",
    "- 縦軸に曜日を表示する方法\n",
    "    - `barh()` メソッドの `y` には、**等間隔に増加する数** のリストを渡す\n",
    "    - [Axes.set_ytics()](https://matplotlib.org/stable/api/_as_gen/matplotlib.axes.Axes.set_yticks.html) メソッドで、**曜日** のリストを渡す"
   ]
  },
  {
   "cell_type": "code",
   "execution_count": 12,
   "id": "a85b719b-726a-4909-9fab-2bf1076a54f6",
   "metadata": {},
   "outputs": [
    {
     "data": {
      "image/png": "[encoded data removed]",
      "text/plain": [
       "<Figure size 432x288 with 1 Axes>"
      ]
     },
     "metadata": {
      "needs_background": "light"
     },
     "output_type": "display_data"
    }
   ],
   "source": [
    "import matplotlib.pyplot as plt\n",
    "\n",
    "# Number of steps I walked during the past week\n",
    "steps = [6534, 7000, 8900, 10786, 3467, 11045, 5095]\n",
    "# Corresponding days\n",
    "labels = [\"Sun\", \"Mon\", \"Tue\", \"Wed\", \"Thu\", \"Fri\", \"Sat\"]\n",
    "\n",
    "# This list is the point on the y-axis where each\n",
    "# Bar is centered. Here it will be [1, 2, 3...]\n",
    "positions = range(1, len(steps) + 1)\n",
    "\n",
    "fig, ax = plt.subplots()\n",
    "\n",
    "# Set the label of each bar\n",
    "ax.set_title(\"Number of steps walked\")\n",
    "ax.set_xlabel(\"Steps\")\n",
    "ax.set_ylabel(\"Day\")\n",
    "ax.set_yticks(positions, labels)\n",
    "\n",
    "# Turns on the grid which may assist in visual estimation\n",
    "ax.grid()\n",
    "\n",
    "ax.barh(positions, steps)\n",
    "\n",
    "plt.show()"
   ]
  }
 ],
 "metadata": {
  "kernelspec": {
   "display_name": "Python 3 (ipykernel)",
   "language": "python",
   "name": "python3"
  },
  "language_info": {
   "codemirror_mode": {
    "name": "ipython",
    "version": 3
   },
   "file_extension": ".py",
   "mimetype": "text/x-python",
   "name": "python",
   "nbconvert_exporter": "python",
   "pygments_lexer": "ipython3",
   "version": "3.10.1"
  }
 },
 "nbformat": 4,
 "nbformat_minor": 5
}
