{
 "cells": [
  {
   "cell_type": "markdown",
   "id": "8dcf15b6-e161-4481-a043-6c02dabc70d6",
   "metadata": {},
   "source": [
    "# Chapter 4: Algebra and Symbolic Math with SymPy\n",
    "\n",
    "## Programming Challenges\n",
    "\n",
    "### \\#3: Summing a Series"
   ]
  },
  {
   "cell_type": "code",
   "execution_count": null,
   "id": "6a866305-5c98-4030-83fb-7f3caafdec04",
   "metadata": {},
   "outputs": [
    {
     "data": {
      "text/latex": [
       "$\\displaystyle 3 a + 3 d$"
      ],
      "text/plain": [
       "3*a + 3*d"
      ]
     },
     "execution_count": 1,
     "metadata": {},
     "output_type": "execute_result"
    }
   ],
   "source": [
    "import sympy\n",
    "\n",
    "a, d, n = sympy.symbols(\"a, d, n\")\n",
    "\n",
    "term = a + (n - 1) * d\n",
    "\n",
    "sympy.summation(term, (n, 1, 3))"
   ]
  },
  {
   "cell_type": "markdown",
   "id": "a222fa46-9038-48bf-9a7d-58503ef9ead7",
   "metadata": {},
   "source": [
    "自然対数の底 $e$ を計算してみる"
   ]
  },
  {
   "cell_type": "code",
   "execution_count": 33,
   "id": "6bb05169-3e93-40ef-a956-2684f44eae42",
   "metadata": {},
   "outputs": [
    {
     "data": {
      "text/latex": [
       "$\\displaystyle 2.71828182845905$"
      ],
      "text/plain": [
       "2.71828182845905"
      ]
     },
     "execution_count": 33,
     "metadata": {},
     "output_type": "execute_result"
    }
   ],
   "source": [
    "sympy.E.evalf()"
   ]
  },
  {
   "cell_type": "markdown",
   "id": "dfdb9901-d8ab-48ed-bf00-623b538e6165",
   "metadata": {},
   "source": [
    "一般項"
   ]
  },
  {
   "cell_type": "code",
   "execution_count": 26,
   "id": "9ca64949-ba9f-4b75-873d-b225d0f7cb14",
   "metadata": {},
   "outputs": [],
   "source": [
    "term = 1 / sympy.factorial(n)"
   ]
  },
  {
   "cell_type": "markdown",
   "id": "8823de3f-011e-4df7-a588-542347aa51cd",
   "metadata": {},
   "source": [
    "$n = 5$ まで → 小数点第2位まで"
   ]
  },
  {
   "cell_type": "code",
   "execution_count": 37,
   "id": "6100f6eb-c6a6-4d11-888f-6ee3ec45a2c4",
   "metadata": {},
   "outputs": [
    {
     "data": {
      "text/latex": [
       "$\\displaystyle 2.71666666666667$"
      ],
      "text/plain": [
       "2.71666666666667"
      ]
     },
     "execution_count": 37,
     "metadata": {},
     "output_type": "execute_result"
    }
   ],
   "source": [
    "sum = sympy.summation(term, (n, 0, 5))\n",
    "sum.evalf()"
   ]
  },
  {
   "cell_type": "markdown",
   "id": "794a9695-e9cf-495b-a2b7-6acaeb5f358e",
   "metadata": {},
   "source": [
    "$n = 10$ まで → 小数点第7位まで"
   ]
  },
  {
   "cell_type": "code",
   "execution_count": 38,
   "id": "08cbdebf-e524-4ada-8f37-6eb5597b0624",
   "metadata": {},
   "outputs": [
    {
     "data": {
      "text/latex": [
       "$\\displaystyle 2.71828180114638$"
      ],
      "text/plain": [
       "2.71828180114638"
      ]
     },
     "execution_count": 38,
     "metadata": {},
     "output_type": "execute_result"
    }
   ],
   "source": [
    "sum = sympy.summation(term, (n, 0, 10))\n",
    "sum.evalf()"
   ]
  },
  {
   "cell_type": "markdown",
   "id": "d9f50d6d-d161-4d8b-8858-694f2a953a10",
   "metadata": {},
   "source": [
    "結構収束が速い事がわかる。"
   ]
  }
 ],
 "metadata": {
  "kernelspec": {
   "display_name": "Python 3 (ipykernel)",
   "language": "python",
   "name": "python3"
  },
  "language_info": {
   "codemirror_mode": {
    "name": "ipython",
    "version": 3
   },
   "file_extension": ".py",
   "mimetype": "text/x-python",
   "name": "python",
   "nbconvert_exporter": "python",
   "pygments_lexer": "ipython3",
   "version": "3.10.1"
  }
 },
 "nbformat": 4,
 "nbformat_minor": 5
}
