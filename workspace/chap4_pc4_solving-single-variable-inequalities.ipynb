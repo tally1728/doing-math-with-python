{
 "cells": [
  {
   "cell_type": "markdown",
   "id": "8dcf15b6-e161-4481-a043-6c02dabc70d6",
   "metadata": {},
   "source": [
    "# Chapter 4: Algebra and Symbolic Math with SymPy\n",
    "\n",
    "## Programming Challenges\n",
    "\n",
    "### \\#4: Solving Single-Variable Inequalities"
   ]
  },
  {
   "cell_type": "code",
   "execution_count": 1,
   "id": "6a866305-5c98-4030-83fb-7f3caafdec04",
   "metadata": {},
   "outputs": [],
   "source": [
    "import sympy\n",
    "\n",
    "x = sympy.symbols(\"x\")"
   ]
  },
  {
   "cell_type": "markdown",
   "id": "5ba26fd2-6fa9-49f6-ad95-3a040923e49c",
   "metadata": {},
   "source": [
    "#### 多項式の場合"
   ]
  },
  {
   "cell_type": "code",
   "execution_count": 2,
   "id": "a5cc5ae5-93bd-498c-b158-6a7bc0bedee7",
   "metadata": {},
   "outputs": [
    {
     "data": {
      "text/plain": [
       "sympy.core.relational.StrictLessThan"
      ]
     },
     "execution_count": 2,
     "metadata": {},
     "output_type": "execute_result"
    }
   ],
   "source": [
    "ineq_obj = x ** 2 - 2 < 0\n",
    "type(ineq_obj)"
   ]
  },
  {
   "cell_type": "markdown",
   "id": "6f00ca87-e8de-48c5-87af-f499ad6faae5",
   "metadata": {},
   "source": [
    "左辺"
   ]
  },
  {
   "cell_type": "code",
   "execution_count": 3,
   "id": "a14390ab-72a7-416e-9adf-f66773cb9646",
   "metadata": {},
   "outputs": [
    {
     "data": {
      "text/latex": [
       "$\\displaystyle x^{2} - 2$"
      ],
      "text/plain": [
       "x**2 - 2"
      ]
     },
     "execution_count": 3,
     "metadata": {},
     "output_type": "execute_result"
    }
   ],
   "source": [
    "lhs = ineq_obj.lhs\n",
    "lhs"
   ]
  },
  {
   "cell_type": "code",
   "execution_count": 4,
   "id": "05a3c39f-1aa5-4904-b7fd-a9bb0417ed86",
   "metadata": {},
   "outputs": [
    {
     "data": {
      "text/latex": [
       "$\\displaystyle \\operatorname{Poly}{\\left( x^{2} - 2, x, domain=\\mathbb{Z} \\right)}$"
      ],
      "text/plain": [
       "Poly(x**2 - 2, x, domain='ZZ')"
      ]
     },
     "execution_count": 4,
     "metadata": {},
     "output_type": "execute_result"
    }
   ],
   "source": [
    "p = sympy.Poly(lhs, x)\n",
    "p"
   ]
  },
  {
   "cell_type": "code",
   "execution_count": 5,
   "id": "e12d85d7-1d7a-442c-83f6-966b90b97b52",
   "metadata": {},
   "outputs": [
    {
     "data": {
      "text/plain": [
       "'<'"
      ]
     },
     "execution_count": 5,
     "metadata": {},
     "output_type": "execute_result"
    }
   ],
   "source": [
    "rel = ineq_obj.rel_op\n",
    "rel"
   ]
  },
  {
   "cell_type": "code",
   "execution_count": 6,
   "id": "6639c063-e06e-4aeb-8ece-a6a73533aaaa",
   "metadata": {},
   "outputs": [
    {
     "data": {
      "text/plain": [
       "[Interval.open(-sqrt(2), sqrt(2))]"
      ]
     },
     "execution_count": 6,
     "metadata": {},
     "output_type": "execute_result"
    }
   ],
   "source": [
    "sympy.solve_poly_inequality(p, rel)"
   ]
  },
  {
   "cell_type": "markdown",
   "id": "42dad784-ce60-4140-8286-bd840e6a9361",
   "metadata": {},
   "source": [
    "#### 有理式の場合"
   ]
  },
  {
   "cell_type": "code",
   "execution_count": 7,
   "id": "03d7c37e-0fed-4a07-80ee-f1d0ae583665",
   "metadata": {},
   "outputs": [
    {
     "data": {
      "text/latex": [
       "$\\displaystyle \\frac{x - 1}{x + 2} > 0$"
      ],
      "text/plain": [
       "(x - 1)/(x + 2) > 0"
      ]
     },
     "execution_count": 7,
     "metadata": {},
     "output_type": "execute_result"
    }
   ],
   "source": [
    "ineq_obj = ((x - 1) / (x + 2)) > 0\n",
    "ineq_obj"
   ]
  },
  {
   "cell_type": "code",
   "execution_count": 8,
   "id": "228f294f-315e-47b4-8615-a32c64ed515b",
   "metadata": {},
   "outputs": [
    {
     "data": {
      "text/latex": [
       "$\\displaystyle \\frac{x - 1}{x + 2}$"
      ],
      "text/plain": [
       "(x - 1)/(x + 2)"
      ]
     },
     "execution_count": 8,
     "metadata": {},
     "output_type": "execute_result"
    }
   ],
   "source": [
    "lhs = ineq_obj.lhs\n",
    "lhs"
   ]
  },
  {
   "cell_type": "code",
   "execution_count": 9,
   "id": "a43d4220-2d31-4153-9ea8-ebc27a0a5c73",
   "metadata": {},
   "outputs": [
    {
     "data": {
      "text/latex": [
       "$\\displaystyle x - 1$"
      ],
      "text/plain": [
       "x - 1"
      ]
     },
     "metadata": {},
     "output_type": "display_data"
    },
    {
     "data": {
      "text/latex": [
       "$\\displaystyle x + 2$"
      ],
      "text/plain": [
       "x + 2"
      ]
     },
     "metadata": {},
     "output_type": "display_data"
    }
   ],
   "source": [
    "numer, denom = lhs.as_numer_denom()\n",
    "display(numer)\n",
    "display(denom)"
   ]
  },
  {
   "cell_type": "code",
   "execution_count": 10,
   "id": "69e5551f-8954-488b-9568-d19434a70404",
   "metadata": {},
   "outputs": [
    {
     "data": {
      "text/latex": [
       "$\\displaystyle \\operatorname{Poly}{\\left( x - 1, x, domain=\\mathbb{Z} \\right)}$"
      ],
      "text/plain": [
       "Poly(x - 1, x, domain='ZZ')"
      ]
     },
     "metadata": {},
     "output_type": "display_data"
    },
    {
     "data": {
      "text/latex": [
       "$\\displaystyle \\operatorname{Poly}{\\left( x + 2, x, domain=\\mathbb{Z} \\right)}$"
      ],
      "text/plain": [
       "Poly(x + 2, x, domain='ZZ')"
      ]
     },
     "metadata": {},
     "output_type": "display_data"
    }
   ],
   "source": [
    "p1 = sympy.Poly(numer)\n",
    "display(p1)\n",
    "p2 = sympy.Poly(denom)\n",
    "display(p2)"
   ]
  },
  {
   "cell_type": "code",
   "execution_count": 11,
   "id": "2c2e2109-f32c-4fb9-b392-da7e45361c0d",
   "metadata": {},
   "outputs": [
    {
     "data": {
      "text/plain": [
       "'>'"
      ]
     },
     "execution_count": 11,
     "metadata": {},
     "output_type": "execute_result"
    }
   ],
   "source": [
    "rel = ineq_obj.rel_op\n",
    "rel"
   ]
  },
  {
   "cell_type": "code",
   "execution_count": 12,
   "id": "042a5bb6-655a-4b4d-bf51-e18769660b37",
   "metadata": {},
   "outputs": [
    {
     "data": {
      "text/latex": [
       "$\\displaystyle \\left(-\\infty, -2\\right) \\cup \\left(1, \\infty\\right)$"
      ],
      "text/plain": [
       "Union(Interval.open(-oo, -2), Interval.open(1, oo))"
      ]
     },
     "execution_count": 12,
     "metadata": {},
     "output_type": "execute_result"
    }
   ],
   "source": [
    "sympy.solve_rational_inequalities([[((p1, p2), rel)]])"
   ]
  },
  {
   "cell_type": "code",
   "execution_count": 13,
   "id": "481b71e7-805f-4f3c-acda-32cbf9aa150e",
   "metadata": {},
   "outputs": [
    {
     "data": {
      "image/png": "[encoded data removed]",
      "text/plain": [
       "<Figure size 432x288 with 1 Axes>"
      ]
     },
     "metadata": {
      "needs_background": "light"
     },
     "output_type": "display_data"
    },
    {
     "data": {
      "text/plain": [
       "<sympy.plotting.plot.Plot at 0x7fe08f635db0>"
      ]
     },
     "execution_count": 13,
     "metadata": {},
     "output_type": "execute_result"
    }
   ],
   "source": [
    "sympy.plotting.plot(lhs, (x, -10, 8), ylim=(-4, 6))"
   ]
  },
  {
   "cell_type": "code",
   "execution_count": 14,
   "id": "e4889fff-9f02-4e8b-9faa-504be112507c",
   "metadata": {},
   "outputs": [
    {
     "data": {
      "text/latex": [
       "$\\displaystyle \\left(-2, - \\frac{\\sqrt{5}}{2} - \\frac{1}{2}\\right) \\cup \\left(- \\frac{1}{2} + \\frac{\\sqrt{5}}{2}, \\infty\\right)$"
      ],
      "text/plain": [
       "Union(Interval.open(-2, -sqrt(5)/2 - 1/2), Interval.open(-1/2 + sqrt(5)/2, oo))"
      ]
     },
     "execution_count": 14,
     "metadata": {},
     "output_type": "execute_result"
    }
   ],
   "source": [
    "ineq_obj = ((x ** 2 + x - 1) / (x + 2)) > 0\n",
    "numer, denom = ineq_obj.lhs.as_numer_denom()\n",
    "p1 = sympy.Poly(numer)\n",
    "p2 = sympy.Poly(denom)\n",
    "rel = ineq_obj.rel_op\n",
    "sympy.solve_rational_inequalities([[((p1, p2), rel)]])"
   ]
  },
  {
   "cell_type": "code",
   "execution_count": 15,
   "id": "27fe2879-0e2c-4500-836e-7d54b1946f84",
   "metadata": {},
   "outputs": [
    {
     "data": {
      "image/png": "[encoded data removed]",
      "text/plain": [
       "<Figure size 432x288 with 1 Axes>"
      ]
     },
     "metadata": {
      "needs_background": "light"
     },
     "output_type": "display_data"
    }
   ],
   "source": [
    "g = sympy.plotting.plot(ineq_obj.lhs, (x, -10, 8), ylim=(-10, 5), show=False)\n",
    "g.save(\"chap4_pc4_solving-single-variable-inequalities.png\")\n",
    "g.show()"
   ]
  },
  {
   "cell_type": "markdown",
   "id": "b49763a9-e90c-478b-a3a9-583d9572bee9",
   "metadata": {},
   "source": [
    "#### それ以外の場合"
   ]
  },
  {
   "cell_type": "code",
   "execution_count": 16,
   "id": "a952b8cd-714e-4fea-b1f3-56d186801d78",
   "metadata": {},
   "outputs": [
    {
     "data": {
      "text/latex": [
       "$\\displaystyle \\left(0.643501108793284, -0.643501108793284 + \\pi\\right)$"
      ],
      "text/plain": [
       "Interval.open(0.643501108793284, -0.643501108793284 + pi)"
      ]
     },
     "execution_count": 16,
     "metadata": {},
     "output_type": "execute_result"
    }
   ],
   "source": [
    "ineq_obj = sympy.sin(x) - 0.6 > 0\n",
    "sympy.solve_univariate_inequality(ineq_obj, x, relational=False)"
   ]
  },
  {
   "cell_type": "markdown",
   "id": "421a822a-3beb-4037-9181-f200a592272a",
   "metadata": {},
   "source": [
    "#### 式の分類"
   ]
  },
  {
   "cell_type": "code",
   "execution_count": 17,
   "id": "b2160eb9-2602-4a3f-a681-a2f9b99f7802",
   "metadata": {},
   "outputs": [
    {
     "data": {
      "text/latex": [
       "$\\displaystyle x^{2} + 1$"
      ],
      "text/plain": [
       "x**2 + 1"
      ]
     },
     "execution_count": 17,
     "metadata": {},
     "output_type": "execute_result"
    }
   ],
   "source": [
    "expr = x ** 2 + 1\n",
    "expr"
   ]
  },
  {
   "cell_type": "code",
   "execution_count": 18,
   "id": "b3e01481-8572-4533-9f77-4a0e1fab4b1d",
   "metadata": {},
   "outputs": [
    {
     "data": {
      "text/plain": [
       "True"
      ]
     },
     "execution_count": 18,
     "metadata": {},
     "output_type": "execute_result"
    }
   ],
   "source": [
    "expr.is_polynomial()"
   ]
  },
  {
   "cell_type": "code",
   "execution_count": 19,
   "id": "95a32696-b64f-4da2-b48c-b5fedf5e5980",
   "metadata": {},
   "outputs": [
    {
     "data": {
      "text/plain": [
       "True"
      ]
     },
     "execution_count": 19,
     "metadata": {},
     "output_type": "execute_result"
    }
   ],
   "source": [
    "expr.is_rational_function()"
   ]
  }
 ],
 "metadata": {
  "kernelspec": {
   "display_name": "Python 3 (ipykernel)",
   "language": "python",
   "name": "python3"
  },
  "language_info": {
   "codemirror_mode": {
    "name": "ipython",
    "version": 3
   },
   "file_extension": ".py",
   "mimetype": "text/x-python",
   "name": "python",
   "nbconvert_exporter": "python",
   "pygments_lexer": "ipython3",
   "version": "3.10.1"
  }
 },
 "nbformat": 4,
 "nbformat_minor": 5
}
