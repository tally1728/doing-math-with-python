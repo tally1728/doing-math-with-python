{
 "cells": [
  {
   "cell_type": "markdown",
   "id": "0ca86bbf-d3f4-4fa6-aa41-bca461c76de9",
   "metadata": {},
   "source": [
    "# Chapter 4: Algebra and Symbolic Math with SymPy\n",
    "\n",
    "## Defining symbols and symbolic operations\n",
    "\n",
    "Symbols（記号）と Mathematical Expressions（数式）の定義"
   ]
  },
  {
   "cell_type": "code",
   "execution_count": 1,
   "id": "1c4ae3c5-93d5-459a-ab34-6185081da8a0",
   "metadata": {},
   "outputs": [
    {
     "data": {
      "text/plain": [
       "sympy.core.symbol.Symbol"
      ]
     },
     "execution_count": 1,
     "metadata": {},
     "output_type": "execute_result"
    }
   ],
   "source": [
    "from sympy import Symbol\n",
    "\n",
    "x = Symbol(\"x\")\n",
    "type(x)"
   ]
  },
  {
   "cell_type": "code",
   "execution_count": 2,
   "id": "0f14987e-9497-4f65-9011-3ff0726c59bb",
   "metadata": {},
   "outputs": [
    {
     "data": {
      "text/latex": [
       "$\\displaystyle 2 x + 1$"
      ],
      "text/plain": [
       "2*x + 1"
      ]
     },
     "execution_count": 2,
     "metadata": {},
     "output_type": "execute_result"
    }
   ],
   "source": [
    "x + x + 1"
   ]
  },
  {
   "cell_type": "markdown",
   "id": "91459ed2-4122-4398-8783-031c541ffd27",
   "metadata": {},
   "source": [
    "記号には異なる変数名を割り当てる事もできるが、紛らわしいだけ。"
   ]
  },
  {
   "cell_type": "code",
   "execution_count": 3,
   "id": "ae1d5c79-07b0-4e76-bc2e-cdddd38d2649",
   "metadata": {},
   "outputs": [
    {
     "data": {
      "text/latex": [
       "$\\displaystyle 2 x + 1$"
      ],
      "text/plain": [
       "2*x + 1"
      ]
     },
     "execution_count": 3,
     "metadata": {},
     "output_type": "execute_result"
    }
   ],
   "source": [
    "a = Symbol(\"x\")\n",
    "x + x + 1"
   ]
  },
  {
   "cell_type": "code",
   "execution_count": 4,
   "id": "ae2ed132-aa2f-4c27-9fa4-7dfebae63603",
   "metadata": {},
   "outputs": [
    {
     "data": {
      "text/plain": [
       "True"
      ]
     },
     "execution_count": 4,
     "metadata": {},
     "output_type": "execute_result"
    }
   ],
   "source": [
    "a == x"
   ]
  },
  {
   "cell_type": "code",
   "execution_count": 5,
   "id": "5b6a021b-78f6-40e5-815e-a929d25b9439",
   "metadata": {},
   "outputs": [
    {
     "data": {
      "text/plain": [
       "'x'"
      ]
     },
     "execution_count": 5,
     "metadata": {},
     "output_type": "execute_result"
    }
   ],
   "source": [
    "a.name"
   ]
  },
  {
   "cell_type": "markdown",
   "id": "282a11b2-5af0-4383-933b-518d31d2d826",
   "metadata": {},
   "source": [
    "`symbols()` 関数で複数の記号を同時に定義"
   ]
  },
  {
   "cell_type": "code",
   "execution_count": 6,
   "id": "84078f28-615c-414f-b1da-e62951411e91",
   "metadata": {},
   "outputs": [],
   "source": [
    "from sympy import symbols\n",
    "\n",
    "x, y, z = symbols(\"x, y, z\")"
   ]
  },
  {
   "cell_type": "markdown",
   "id": "6a7c91d4-c0d6-4a9b-8cd4-6e6d6f1c0163",
   "metadata": {},
   "source": [
    "数式は自動的に単純な形に変形される。"
   ]
  },
  {
   "cell_type": "code",
   "execution_count": 7,
   "id": "88260f0f-4344-489a-a79c-19e634ab09b9",
   "metadata": {},
   "outputs": [
    {
     "data": {
      "text/latex": [
       "$\\displaystyle 2 x y$"
      ],
      "text/plain": [
       "2*x*y"
      ]
     },
     "execution_count": 7,
     "metadata": {},
     "output_type": "execute_result"
    }
   ],
   "source": [
    "s = x * y + x * y\n",
    "s"
   ]
  },
  {
   "cell_type": "code",
   "execution_count": 8,
   "id": "ac418118-14c0-4189-9d27-b3ee12ada274",
   "metadata": {},
   "outputs": [
    {
     "data": {
      "text/latex": [
       "$\\displaystyle 2 x^{2}$"
      ],
      "text/plain": [
       "2*x**2"
      ]
     },
     "execution_count": 8,
     "metadata": {},
     "output_type": "execute_result"
    }
   ],
   "source": [
    "p = x * (x + x)\n",
    "p"
   ]
  },
  {
   "cell_type": "markdown",
   "id": "e338f5e2-3021-449f-bdcb-49727c127273",
   "metadata": {},
   "source": [
    "しかし複雑な式は自動的に変形されない。"
   ]
  },
  {
   "cell_type": "code",
   "execution_count": 9,
   "id": "5cacceb0-5b91-4f47-9abb-a66c01c1c0ea",
   "metadata": {},
   "outputs": [
    {
     "data": {
      "text/latex": [
       "$\\displaystyle \\left(x + 2\\right) \\left(x + 3\\right)$"
      ],
      "text/plain": [
       "(x + 2)*(x + 3)"
      ]
     },
     "execution_count": 9,
     "metadata": {},
     "output_type": "execute_result"
    }
   ],
   "source": [
    "p = (x + 2) * (x + 3)\n",
    "p"
   ]
  },
  {
   "cell_type": "code",
   "execution_count": 10,
   "id": "8b32596d-30f2-46a6-a291-4b1b93303a7e",
   "metadata": {},
   "outputs": [
    {
     "data": {
      "text/latex": [
       "$\\displaystyle x \\left(x + 1\\right)$"
      ],
      "text/plain": [
       "x*(x + 1)"
      ]
     },
     "execution_count": 10,
     "metadata": {},
     "output_type": "execute_result"
    }
   ],
   "source": [
    "x * (x + 1)"
   ]
  },
  {
   "cell_type": "code",
   "execution_count": 11,
   "id": "1097daef-9223-48a0-9d42-1bd5c5b6b7fe",
   "metadata": {},
   "outputs": [
    {
     "data": {
      "text/latex": [
       "$\\displaystyle x^{2} + 2 x + 1$"
      ],
      "text/plain": [
       "x**2 + 2*x + 1"
      ]
     },
     "execution_count": 11,
     "metadata": {},
     "output_type": "execute_result"
    }
   ],
   "source": [
    "p = x ** 2 + 2 * x + 1\n",
    "p"
   ]
  },
  {
   "cell_type": "markdown",
   "id": "35e5eefa-9763-42f2-a170-b5fe00bdf43e",
   "metadata": {},
   "source": [
    "## Working with Expressions\n",
    "\n",
    "### Factorizing and Expanding Expressions"
   ]
  },
  {
   "cell_type": "code",
   "execution_count": 12,
   "id": "7ee842e2-52b8-4143-bd79-8f774926386a",
   "metadata": {},
   "outputs": [
    {
     "data": {
      "text/latex": [
       "$\\displaystyle x^{2} - y^{2}$"
      ],
      "text/plain": [
       "x**2 - y**2"
      ]
     },
     "execution_count": 12,
     "metadata": {},
     "output_type": "execute_result"
    }
   ],
   "source": [
    "from sympy import expand, factor\n",
    "\n",
    "expr = x ** 2 - y ** 2\n",
    "expr"
   ]
  },
  {
   "cell_type": "code",
   "execution_count": 13,
   "id": "bfbd78e2-e310-4b6d-924c-a723d2e32d3b",
   "metadata": {},
   "outputs": [
    {
     "data": {
      "text/latex": [
       "$\\displaystyle \\left(x - y\\right) \\left(x + y\\right)$"
      ],
      "text/plain": [
       "(x - y)*(x + y)"
      ]
     },
     "execution_count": 13,
     "metadata": {},
     "output_type": "execute_result"
    }
   ],
   "source": [
    "factor(expr)"
   ]
  },
  {
   "cell_type": "code",
   "execution_count": 14,
   "id": "b4688d58-edd5-4562-8af6-df056ecfaa89",
   "metadata": {},
   "outputs": [
    {
     "data": {
      "text/latex": [
       "$\\displaystyle x^{3} + 3 x^{2} y + 3 x y^{2} + y^{3}$"
      ],
      "text/plain": [
       "x**3 + 3*x**2*y + 3*x*y**2 + y**3"
      ]
     },
     "execution_count": 14,
     "metadata": {},
     "output_type": "execute_result"
    }
   ],
   "source": [
    "expr = x ** 3 + 3 * x ** 2 * y + 3 * x * y ** 2 + y ** 3\n",
    "expr"
   ]
  },
  {
   "cell_type": "code",
   "execution_count": 15,
   "id": "2056c5f6-787b-4885-b79d-2f7c7b7dff45",
   "metadata": {},
   "outputs": [
    {
     "data": {
      "text/latex": [
       "$\\displaystyle \\left(x + y\\right)^{3}$"
      ],
      "text/plain": [
       "(x + y)**3"
      ]
     },
     "execution_count": 15,
     "metadata": {},
     "output_type": "execute_result"
    }
   ],
   "source": [
    "factors = factor(expr)\n",
    "factors"
   ]
  },
  {
   "cell_type": "code",
   "execution_count": 16,
   "id": "4dcf8e95-d1db-4a6f-8a4d-986492fbd42d",
   "metadata": {},
   "outputs": [
    {
     "data": {
      "text/latex": [
       "$\\displaystyle x^{3} + 3 x^{2} y + 3 x y^{2} + y^{3}$"
      ],
      "text/plain": [
       "x**3 + 3*x**2*y + 3*x*y**2 + y**3"
      ]
     },
     "execution_count": 16,
     "metadata": {},
     "output_type": "execute_result"
    }
   ],
   "source": [
    "expand(factors)"
   ]
  },
  {
   "cell_type": "code",
   "execution_count": 17,
   "id": "3917795e-3923-4a91-b936-5a4862896c61",
   "metadata": {},
   "outputs": [
    {
     "data": {
      "text/latex": [
       "$\\displaystyle x^{2} + x y + y^{2}$"
      ],
      "text/plain": [
       "x**2 + x*y + y**2"
      ]
     },
     "execution_count": 17,
     "metadata": {},
     "output_type": "execute_result"
    }
   ],
   "source": [
    "expr = x ** 2 + x * y + y ** 2\n",
    "expr"
   ]
  },
  {
   "cell_type": "code",
   "execution_count": 18,
   "id": "d505b562-8ee9-4dfd-b0f5-a5c5da484e39",
   "metadata": {},
   "outputs": [
    {
     "data": {
      "text/latex": [
       "$\\displaystyle x^{2} + x y + y^{2}$"
      ],
      "text/plain": [
       "x**2 + x*y + y**2"
      ]
     },
     "execution_count": 18,
     "metadata": {},
     "output_type": "execute_result"
    }
   ],
   "source": [
    "factor(expr)"
   ]
  },
  {
   "cell_type": "markdown",
   "id": "c168bbac-1807-4125-94af-4c73d1cd6cf7",
   "metadata": {},
   "source": [
    "### Pretty Printing"
   ]
  },
  {
   "cell_type": "code",
   "execution_count": 19,
   "id": "431aaa03-69bc-4b52-a0b9-5edaac15aa51",
   "metadata": {},
   "outputs": [
    {
     "name": "stdout",
     "output_type": "stream",
     "text": [
      "x**2 + 2*x*y + y**2\n"
     ]
    }
   ],
   "source": [
    "expr = x ** 2 + 2 * x * y + y ** 2\n",
    "print(expr)"
   ]
  },
  {
   "cell_type": "markdown",
   "id": "142ba1d7-bd7b-4dc1-a4f9-868541916477",
   "metadata": {},
   "source": [
    "`pprint()` 関数で、数式がアスキーアートで表示される"
   ]
  },
  {
   "cell_type": "code",
   "execution_count": 20,
   "id": "55613c90-7acd-44fe-ac75-eca06fdef4b8",
   "metadata": {},
   "outputs": [
    {
     "name": "stdout",
     "output_type": "stream",
     "text": [
      " 2            2\n",
      "x  + 2⋅x⋅y + y \n"
     ]
    }
   ],
   "source": [
    "from sympy import pprint\n",
    "\n",
    "pprint(expr)"
   ]
  },
  {
   "cell_type": "code",
   "execution_count": 21,
   "id": "03d4e9ea-001a-4a8e-8e3a-0a900fc0990a",
   "metadata": {},
   "outputs": [
    {
     "data": {
      "text/latex": [
       "$\\displaystyle x^{2} + 2 x y + y^{2}$"
      ],
      "text/plain": [
       "x**2 + 2*x*y + y**2"
      ]
     },
     "metadata": {},
     "output_type": "display_data"
    }
   ],
   "source": [
    "display(expr)"
   ]
  },
  {
   "cell_type": "markdown",
   "id": "96fd7fd0-f9c6-4661-9efe-91ae9113aeef",
   "metadata": {},
   "source": [
    "デフォルトで項は次数に関して降順でソートされる"
   ]
  },
  {
   "cell_type": "code",
   "execution_count": 22,
   "id": "ba29d55f-e27e-4f82-b90e-c41e63ec6244",
   "metadata": {},
   "outputs": [
    {
     "data": {
      "text/latex": [
       "$\\displaystyle 2 x^{2} + x + 1$"
      ],
      "text/plain": [
       "2*x**2 + x + 1"
      ]
     },
     "execution_count": 22,
     "metadata": {},
     "output_type": "execute_result"
    }
   ],
   "source": [
    "expr = 1 + x + 2 * x ** 2\n",
    "expr"
   ]
  },
  {
   "cell_type": "code",
   "execution_count": 23,
   "id": "90865a3d-888b-46c7-8887-3ae6961c672f",
   "metadata": {},
   "outputs": [
    {
     "name": "stdout",
     "output_type": "stream",
     "text": [
      "   2        \n",
      "2⋅x  + x + 1\n"
     ]
    }
   ],
   "source": [
    "pprint(expr)"
   ]
  },
  {
   "cell_type": "markdown",
   "id": "8f87f716-6048-4aa6-b415-28c3dc341903",
   "metadata": {},
   "source": [
    "`init_printing()` 関数で項の順番を変えられるはずだけど、思うように動かない。"
   ]
  },
  {
   "cell_type": "code",
   "execution_count": 24,
   "id": "90ac9890-0381-472e-aa5c-bf5aa014c116",
   "metadata": {},
   "outputs": [
    {
     "name": "stdout",
     "output_type": "stream",
     "text": [
      "   2          \n",
      "2⋅x  + 2⋅x + 1\n"
     ]
    }
   ],
   "source": [
    "from sympy import init_printing\n",
    "\n",
    "init_printing(order=\"grevlex\")\n",
    "expr = 1 + 2 * x + 2 * x ** 2\n",
    "pprint(expr)"
   ]
  },
  {
   "cell_type": "markdown",
   "id": "520b3b81-46c6-4972-9fb2-02e1e6cd18bd",
   "metadata": {},
   "source": [
    "#### Printing a Series"
   ]
  },
  {
   "cell_type": "code",
   "execution_count": 25,
   "id": "b95db9f5-a658-433c-973e-6949039fcb68",
   "metadata": {},
   "outputs": [
    {
     "data": {
      "image/png": "[encoded data removed]",
      "text/latex": [
       "$\\displaystyle \\frac{x^{2}}{2} + x$"
      ],
      "text/plain": [
       " 2    \n",
       "x     \n",
       "── + x\n",
       "2     "
      ]
     },
     "metadata": {},
     "output_type": "display_data"
    },
    {
     "data": {
      "image/png": "[encoded data removed]",
      "text/latex": [
       "$\\displaystyle \\frac{x^{5}}{5} + \\frac{x^{4}}{4} + \\frac{x^{3}}{3} + \\frac{x^{2}}{2} + x$"
      ],
      "text/plain": [
       " 5    4    3    2    \n",
       "x    x    x    x     \n",
       "── + ── + ── + ── + x\n",
       "5    4    3    2     "
      ]
     },
     "metadata": {},
     "output_type": "display_data"
    },
    {
     "data": {
      "image/png": "[encoded data removed]",
      "text/latex": [
       "$\\displaystyle \\frac{x^{7}}{7} + \\frac{x^{6}}{6} + \\frac{x^{5}}{5} + \\frac{x^{4}}{4} + \\frac{x^{3}}{3} + \\frac{x^{2}}{2} + x$"
      ],
      "text/plain": [
       " 7    6    5    4    3    2    \n",
       "x    x    x    x    x    x     \n",
       "── + ── + ── + ── + ── + ── + x\n",
       "7    6    5    4    3    2     "
      ]
     },
     "metadata": {},
     "output_type": "display_data"
    }
   ],
   "source": [
    "def series(n):\n",
    "    x = Symbol(\"x\")\n",
    "    series = sum([(x ** i) / i for i in range(1, n + 1)])\n",
    "    display(series)\n",
    "\n",
    "\n",
    "series(2)\n",
    "series(5)\n",
    "series(7)"
   ]
  },
  {
   "cell_type": "markdown",
   "id": "0f5cc9bc-06e5-409f-b6b3-97cfb4bda9a0",
   "metadata": {},
   "source": [
    "### Substituting in Values\n",
    "\n",
    "`subs()` メソッドで式への代入が出来る。代入するのは値でも式でもよい。"
   ]
  },
  {
   "cell_type": "code",
   "execution_count": 26,
   "id": "a56ce8e0-3138-49c8-abec-dc066b1c1ead",
   "metadata": {},
   "outputs": [
    {
     "data": {
      "image/png": "[encoded data removed]",
      "text/latex": [
       "$\\displaystyle x^{2} + 2 x y + y^{2}$"
      ],
      "text/plain": [
       " 2            2\n",
       "x  + 2⋅x⋅y + y "
      ]
     },
     "execution_count": 26,
     "metadata": {},
     "output_type": "execute_result"
    }
   ],
   "source": [
    "import sympy\n",
    "\n",
    "x, y = sympy.symbols(\"x, y\")\n",
    "\n",
    "expr = x ** 2 + 2 * x * y + y ** 2\n",
    "expr"
   ]
  },
  {
   "cell_type": "code",
   "execution_count": 27,
   "id": "4d7b2700-0b14-4caa-b2cf-c8e9da4795be",
   "metadata": {},
   "outputs": [
    {
     "data": {
      "image/png": "[encoded data removed]",
      "text/latex": [
       "$\\displaystyle 9$"
      ],
      "text/plain": [
       "9"
      ]
     },
     "execution_count": 27,
     "metadata": {},
     "output_type": "execute_result"
    }
   ],
   "source": [
    "expr.subs({x: 1, y: 2})"
   ]
  },
  {
   "cell_type": "markdown",
   "id": "38253bd0-58ba-4c64-9018-ea4fbedfa1c4",
   "metadata": {},
   "source": [
    "$x$ に $1-y$ を代入"
   ]
  },
  {
   "cell_type": "code",
   "execution_count": 28,
   "id": "3595ce27-11d0-40be-aacb-12cab7d609d8",
   "metadata": {},
   "outputs": [
    {
     "data": {
      "image/png": "[encoded data removed]",
      "text/latex": [
       "$\\displaystyle y^{2} + 2 y \\left(- y + 1\\right) + \\left(- y + 1\\right)^{2}$"
      ],
      "text/plain": [
       " 2                          2\n",
       "y  + 2⋅y⋅(-y + 1) + (-y + 1) "
      ]
     },
     "execution_count": 28,
     "metadata": {},
     "output_type": "execute_result"
    }
   ],
   "source": [
    "expr = expr.subs({x: 1 - y})\n",
    "expr"
   ]
  },
  {
   "cell_type": "markdown",
   "id": "0ae2eb5f-d13b-4654-99ae-4c896e202a8c",
   "metadata": {},
   "source": [
    "`simplify()` 関数で自動変形する。"
   ]
  },
  {
   "cell_type": "code",
   "execution_count": 29,
   "id": "95a6b780-e7cf-4caa-97fc-1819a13beadb",
   "metadata": {},
   "outputs": [
    {
     "data": {
      "image/png": "[encoded data removed]",
      "text/latex": [
       "$\\displaystyle 1$"
      ],
      "text/plain": [
       "1"
      ]
     },
     "execution_count": 29,
     "metadata": {},
     "output_type": "execute_result"
    }
   ],
   "source": [
    "sympy.simplify(expr)"
   ]
  },
  {
   "cell_type": "markdown",
   "id": "e0da2413-46c2-47e4-b622-4027a0cb8ae4",
   "metadata": {},
   "source": [
    "#### Calculating the Value of a Series"
   ]
  },
  {
   "cell_type": "code",
   "execution_count": 30,
   "id": "cc5ac94d-da41-4280-ae77-50633b8556f4",
   "metadata": {},
   "outputs": [
    {
     "data": {
      "image/png": "[encoded data removed]",
      "text/latex": [
       "$\\displaystyle \\frac{x^{5}}{5} + \\frac{x^{4}}{4} + \\frac{x^{3}}{3} + \\frac{x^{2}}{2} + x$"
      ],
      "text/plain": [
       " 5    4    3    2    \n",
       "x    x    x    x     \n",
       "── + ── + ── + ── + x\n",
       "5    4    3    2     "
      ]
     },
     "metadata": {},
     "output_type": "display_data"
    },
    {
     "name": "stdout",
     "output_type": "stream",
     "text": [
      "Value of the series at 1.2: 3.51206400000000\n"
     ]
    }
   ],
   "source": [
    "def series(n, x_value):\n",
    "    x = Symbol(\"x\")\n",
    "    series = sum([(x ** i) / i for i in range(1, n + 1)])\n",
    "    display(series)\n",
    "\n",
    "    # Evaluate the series at x_value\n",
    "    print(\"Value of the series at {0}: {1}\".format(x_value, series.subs({x: x_value})))\n",
    "\n",
    "\n",
    "series(5, 1.2)"
   ]
  },
  {
   "cell_type": "markdown",
   "id": "a226f178-c60e-488d-b2fe-69e56810207e",
   "metadata": {},
   "source": [
    "### Converting Strings to Mathematical Expressions"
   ]
  },
  {
   "cell_type": "code",
   "execution_count": 31,
   "id": "25e7c9a5-fc49-4b9e-b36c-3dafd8da50c9",
   "metadata": {},
   "outputs": [
    {
     "data": {
      "image/png": "[encoded data removed]",
      "text/latex": [
       "$\\displaystyle x \\left(x^{2} + x + 5\\right)$"
      ],
      "text/plain": [
       "  ⎛ 2        ⎞\n",
       "x⋅⎝x  + x + 5⎠"
      ]
     },
     "execution_count": 31,
     "metadata": {},
     "output_type": "execute_result"
    }
   ],
   "source": [
    "expr = sympy.simplify(\"x**2 + 3*x + x**3 + 2*x\")\n",
    "expr"
   ]
  },
  {
   "cell_type": "code",
   "execution_count": 32,
   "id": "ca4babed-048d-410d-a717-093de9f690c7",
   "metadata": {},
   "outputs": [
    {
     "ename": "SympifyError",
     "evalue": "Sympify of expression 'could not parse 'x**2 + 3*x + x**3 + 2x'' failed, because of exception being raised:\nSyntaxError: invalid syntax (<string>, line 1)",
     "output_type": "error",
     "traceback": [
      "\u001b[0;31m---------------------------------------------------------------------------\u001b[0m",
      "\u001b[0;31mValueError\u001b[0m                                Traceback (most recent call last)",
      "\u001b[0;31mValueError\u001b[0m: Error from parse_expr with transformed code: \"Symbol ('x' )**Integer (2 )+Integer (3 )*Symbol ('x' )+Symbol ('x' )**Integer (3 )+Integer (2 )Symbol ('x' )\"",
      "\nThe above exception was the direct cause of the following exception:\n",
      "\u001b[0;31mSyntaxError\u001b[0m                               Traceback (most recent call last)",
      "\u001b[0;32m/usr/local/lib/python3.10/site-packages/sympy/core/sympify.py\u001b[0m in \u001b[0;36msympify\u001b[0;34m(a, locals, convert_xor, strict, rational, evaluate)\u001b[0m\n\u001b[1;32m    471\u001b[0m         \u001b[0ma\u001b[0m \u001b[0;34m=\u001b[0m \u001b[0ma\u001b[0m\u001b[0;34m.\u001b[0m\u001b[0mreplace\u001b[0m\u001b[0;34m(\u001b[0m\u001b[0;34m'\\n'\u001b[0m\u001b[0;34m,\u001b[0m \u001b[0;34m''\u001b[0m\u001b[0;34m)\u001b[0m\u001b[0;34m\u001b[0m\u001b[0;34m\u001b[0m\u001b[0m\n\u001b[0;32m--> 472\u001b[0;31m         \u001b[0mexpr\u001b[0m \u001b[0;34m=\u001b[0m \u001b[0mparse_expr\u001b[0m\u001b[0;34m(\u001b[0m\u001b[0ma\u001b[0m\u001b[0;34m,\u001b[0m \u001b[0mlocal_dict\u001b[0m\u001b[0;34m=\u001b[0m\u001b[0mlocals\u001b[0m\u001b[0;34m,\u001b[0m \u001b[0mtransformations\u001b[0m\u001b[0;34m=\u001b[0m\u001b[0mtransformations\u001b[0m\u001b[0;34m,\u001b[0m \u001b[0mevaluate\u001b[0m\u001b[0;34m=\u001b[0m\u001b[0mevaluate\u001b[0m\u001b[0;34m)\u001b[0m\u001b[0;34m\u001b[0m\u001b[0;34m\u001b[0m\u001b[0m\n\u001b[0m\u001b[1;32m    473\u001b[0m     \u001b[0;32mexcept\u001b[0m \u001b[0;34m(\u001b[0m\u001b[0mTokenError\u001b[0m\u001b[0;34m,\u001b[0m \u001b[0mSyntaxError\u001b[0m\u001b[0;34m)\u001b[0m \u001b[0;32mas\u001b[0m \u001b[0mexc\u001b[0m\u001b[0;34m:\u001b[0m\u001b[0;34m\u001b[0m\u001b[0;34m\u001b[0m\u001b[0m\n",
      "\u001b[0;32m/usr/local/lib/python3.10/site-packages/sympy/parsing/sympy_parser.py\u001b[0m in \u001b[0;36mparse_expr\u001b[0;34m(s, local_dict, transformations, global_dict, evaluate)\u001b[0m\n\u001b[1;32m   1025\u001b[0m             \u001b[0mlocal_dict\u001b[0m\u001b[0;34m[\u001b[0m\u001b[0mi\u001b[0m\u001b[0;34m]\u001b[0m \u001b[0;34m=\u001b[0m \u001b[0;32mNone\u001b[0m\u001b[0;34m\u001b[0m\u001b[0;34m\u001b[0m\u001b[0m\n\u001b[0;32m-> 1026\u001b[0;31m         \u001b[0;32mraise\u001b[0m \u001b[0me\u001b[0m \u001b[0;32mfrom\u001b[0m \u001b[0mValueError\u001b[0m\u001b[0;34m(\u001b[0m\u001b[0;34mf\"Error from parse_expr with transformed code: {code!r}\"\u001b[0m\u001b[0;34m)\u001b[0m\u001b[0;34m\u001b[0m\u001b[0;34m\u001b[0m\u001b[0m\n\u001b[0m\u001b[1;32m   1027\u001b[0m \u001b[0;34m\u001b[0m\u001b[0m\n",
      "\u001b[0;32m/usr/local/lib/python3.10/site-packages/sympy/parsing/sympy_parser.py\u001b[0m in \u001b[0;36mparse_expr\u001b[0;34m(s, local_dict, transformations, global_dict, evaluate)\u001b[0m\n\u001b[1;32m   1016\u001b[0m     \u001b[0;32mtry\u001b[0m\u001b[0;34m:\u001b[0m\u001b[0;34m\u001b[0m\u001b[0;34m\u001b[0m\u001b[0m\n\u001b[0;32m-> 1017\u001b[0;31m         \u001b[0mrv\u001b[0m \u001b[0;34m=\u001b[0m \u001b[0meval_expr\u001b[0m\u001b[0;34m(\u001b[0m\u001b[0mcode\u001b[0m\u001b[0;34m,\u001b[0m \u001b[0mlocal_dict\u001b[0m\u001b[0;34m,\u001b[0m \u001b[0mglobal_dict\u001b[0m\u001b[0;34m)\u001b[0m\u001b[0;34m\u001b[0m\u001b[0;34m\u001b[0m\u001b[0m\n\u001b[0m\u001b[1;32m   1018\u001b[0m         \u001b[0;31m# restore neutral definitions for names\u001b[0m\u001b[0;34m\u001b[0m\u001b[0;34m\u001b[0m\u001b[0m\n",
      "\u001b[0;32m/usr/local/lib/python3.10/site-packages/sympy/parsing/sympy_parser.py\u001b[0m in \u001b[0;36meval_expr\u001b[0;34m(code, local_dict, global_dict)\u001b[0m\n\u001b[1;32m    910\u001b[0m     \"\"\"\n\u001b[0;32m--> 911\u001b[0;31m     expr = eval(\n\u001b[0m\u001b[1;32m    912\u001b[0m         code, global_dict, local_dict)  # take local objects in preference\n",
      "\u001b[0;31mSyntaxError\u001b[0m: invalid syntax (<string>, line 1)",
      "\nDuring handling of the above exception, another exception occurred:\n",
      "\u001b[0;31mSympifyError\u001b[0m                              Traceback (most recent call last)",
      "\u001b[0;32m/tmp/ipykernel_646/4083633058.py\u001b[0m in \u001b[0;36m<module>\u001b[0;34m\u001b[0m\n\u001b[0;32m----> 1\u001b[0;31m \u001b[0mexpr\u001b[0m \u001b[0;34m=\u001b[0m \u001b[0msympy\u001b[0m\u001b[0;34m.\u001b[0m\u001b[0msimplify\u001b[0m\u001b[0;34m(\u001b[0m\u001b[0;34m\"x**2 + 3*x + x**3 + 2x\"\u001b[0m\u001b[0;34m)\u001b[0m\u001b[0;34m\u001b[0m\u001b[0;34m\u001b[0m\u001b[0m\n\u001b[0m",
      "\u001b[0;32m/usr/local/lib/python3.10/site-packages/sympy/simplify/simplify.py\u001b[0m in \u001b[0;36msimplify\u001b[0;34m(expr, ratio, measure, rational, inverse, doit, **kwargs)\u001b[0m\n\u001b[1;32m    577\u001b[0m         \u001b[0;32mreturn\u001b[0m \u001b[0mshorter\u001b[0m\u001b[0;34m(\u001b[0m\u001b[0mrv\u001b[0m\u001b[0;34m,\u001b[0m \u001b[0mcollect_abs\u001b[0m\u001b[0;34m(\u001b[0m\u001b[0mrv\u001b[0m\u001b[0;34m)\u001b[0m\u001b[0;34m)\u001b[0m\u001b[0;34m\u001b[0m\u001b[0;34m\u001b[0m\u001b[0m\n\u001b[1;32m    578\u001b[0m \u001b[0;34m\u001b[0m\u001b[0m\n\u001b[0;32m--> 579\u001b[0;31m     \u001b[0mexpr\u001b[0m \u001b[0;34m=\u001b[0m \u001b[0msympify\u001b[0m\u001b[0;34m(\u001b[0m\u001b[0mexpr\u001b[0m\u001b[0;34m,\u001b[0m \u001b[0mrational\u001b[0m\u001b[0;34m=\u001b[0m\u001b[0mrational\u001b[0m\u001b[0;34m)\u001b[0m\u001b[0;34m\u001b[0m\u001b[0;34m\u001b[0m\u001b[0m\n\u001b[0m\u001b[1;32m    580\u001b[0m     kwargs = dict(\n\u001b[1;32m    581\u001b[0m         \u001b[0mratio\u001b[0m\u001b[0;34m=\u001b[0m\u001b[0mkwargs\u001b[0m\u001b[0;34m.\u001b[0m\u001b[0mget\u001b[0m\u001b[0;34m(\u001b[0m\u001b[0;34m'ratio'\u001b[0m\u001b[0;34m,\u001b[0m \u001b[0mratio\u001b[0m\u001b[0;34m)\u001b[0m\u001b[0;34m,\u001b[0m\u001b[0;34m\u001b[0m\u001b[0;34m\u001b[0m\u001b[0m\n",
      "\u001b[0;32m/usr/local/lib/python3.10/site-packages/sympy/core/sympify.py\u001b[0m in \u001b[0;36msympify\u001b[0;34m(a, locals, convert_xor, strict, rational, evaluate)\u001b[0m\n\u001b[1;32m    472\u001b[0m         \u001b[0mexpr\u001b[0m \u001b[0;34m=\u001b[0m \u001b[0mparse_expr\u001b[0m\u001b[0;34m(\u001b[0m\u001b[0ma\u001b[0m\u001b[0;34m,\u001b[0m \u001b[0mlocal_dict\u001b[0m\u001b[0;34m=\u001b[0m\u001b[0mlocals\u001b[0m\u001b[0;34m,\u001b[0m \u001b[0mtransformations\u001b[0m\u001b[0;34m=\u001b[0m\u001b[0mtransformations\u001b[0m\u001b[0;34m,\u001b[0m \u001b[0mevaluate\u001b[0m\u001b[0;34m=\u001b[0m\u001b[0mevaluate\u001b[0m\u001b[0;34m)\u001b[0m\u001b[0;34m\u001b[0m\u001b[0;34m\u001b[0m\u001b[0m\n\u001b[1;32m    473\u001b[0m     \u001b[0;32mexcept\u001b[0m \u001b[0;34m(\u001b[0m\u001b[0mTokenError\u001b[0m\u001b[0;34m,\u001b[0m \u001b[0mSyntaxError\u001b[0m\u001b[0;34m)\u001b[0m \u001b[0;32mas\u001b[0m \u001b[0mexc\u001b[0m\u001b[0;34m:\u001b[0m\u001b[0;34m\u001b[0m\u001b[0;34m\u001b[0m\u001b[0m\n\u001b[0;32m--> 474\u001b[0;31m         \u001b[0;32mraise\u001b[0m \u001b[0mSympifyError\u001b[0m\u001b[0;34m(\u001b[0m\u001b[0;34m'could not parse %r'\u001b[0m \u001b[0;34m%\u001b[0m \u001b[0ma\u001b[0m\u001b[0;34m,\u001b[0m \u001b[0mexc\u001b[0m\u001b[0;34m)\u001b[0m\u001b[0;34m\u001b[0m\u001b[0;34m\u001b[0m\u001b[0m\n\u001b[0m\u001b[1;32m    475\u001b[0m \u001b[0;34m\u001b[0m\u001b[0m\n\u001b[1;32m    476\u001b[0m     \u001b[0;32mreturn\u001b[0m \u001b[0mexpr\u001b[0m\u001b[0;34m\u001b[0m\u001b[0;34m\u001b[0m\u001b[0m\n",
      "\u001b[0;31mSympifyError\u001b[0m: Sympify of expression 'could not parse 'x**2 + 3*x + x**3 + 2x'' failed, because of exception being raised:\nSyntaxError: invalid syntax (<string>, line 1)"
     ]
    }
   ],
   "source": [
    "expr = sympy.simplify(\"x**2 + 3*x + x**3 + 2x\")"
   ]
  },
  {
   "cell_type": "code",
   "execution_count": 33,
   "id": "0c811300-71b3-404f-9c8b-9b23b6155b13",
   "metadata": {},
   "outputs": [
    {
     "name": "stdout",
     "output_type": "stream",
     "text": [
      "invalid expression\n"
     ]
    }
   ],
   "source": [
    "try:\n",
    "    expr = sympy.simplify(\"x**2 + 3*x + x**3 + 2x\")\n",
    "except sympy.SympifyError:\n",
    "    print(\"invalid expression\")"
   ]
  },
  {
   "cell_type": "markdown",
   "id": "13c8a666-9078-47d5-9e1e-4cec565d06fa",
   "metadata": {},
   "source": [
    "#### Expression Multiplier"
   ]
  },
  {
   "cell_type": "code",
   "execution_count": 34,
   "id": "ced94725-ad6e-4317-89dc-e15dcafe5c6c",
   "metadata": {},
   "outputs": [
    {
     "data": {
      "image/png": "[encoded data removed]",
      "text/latex": [
       "$\\displaystyle x^{5} + 3 x^{4} + 4 x^{3} + 12 x^{2}$"
      ],
      "text/plain": [
       " 5      4      3       2\n",
       "x  + 3⋅x  + 4⋅x  + 12⋅x "
      ]
     },
     "metadata": {},
     "output_type": "display_data"
    }
   ],
   "source": [
    "def product(expr1, expr2):\n",
    "    prod = sympy.expand(expr1 * expr2)\n",
    "    display(prod)\n",
    "\n",
    "\n",
    "product(x ** 2 + x * 2 + x, x ** 3 + x * 3 + x)"
   ]
  },
  {
   "cell_type": "markdown",
   "id": "bd9754dd-594a-43fe-99b6-95ca3a92f3e6",
   "metadata": {},
   "source": [
    "## Solving Equations"
   ]
  },
  {
   "cell_type": "code",
   "execution_count": 35,
   "id": "2c680c05-12fe-4a24-95bf-792845fe05a5",
   "metadata": {},
   "outputs": [
    {
     "data": {
      "image/png": "[encoded data removed]",
      "text/latex": [
       "$\\displaystyle \\left[ 12\\right]$"
      ],
      "text/plain": [
       "[12]"
      ]
     },
     "execution_count": 35,
     "metadata": {},
     "output_type": "execute_result"
    }
   ],
   "source": [
    "import sympy\n",
    "\n",
    "x = sympy.Symbol(\"x\")\n",
    "\n",
    "expr = x - 5 - 7\n",
    "sympy.solve(expr)"
   ]
  },
  {
   "cell_type": "markdown",
   "id": "b5681c0c-383d-4ec1-8227-746f38b601e2",
   "metadata": {},
   "source": [
    "### Solving Quadratic Equations"
   ]
  },
  {
   "cell_type": "code",
   "execution_count": 36,
   "id": "121e9a57-fee8-4855-bf01-725b679bdf39",
   "metadata": {},
   "outputs": [
    {
     "data": {
      "image/png": "[encoded data removed]",
      "text/latex": [
       "$\\displaystyle \\left[ \\left\\{ x : -4\\right\\}, \\  \\left\\{ x : -1\\right\\}\\right]$"
      ],
      "text/plain": [
       "[{x: -4}, {x: -1}]"
      ]
     },
     "execution_count": 36,
     "metadata": {},
     "output_type": "execute_result"
    }
   ],
   "source": [
    "expr = x ** 2 + 5 * x + 4\n",
    "sympy.solve(expr, dict=True)"
   ]
  },
  {
   "cell_type": "code",
   "execution_count": 37,
   "id": "68905f3b-78a4-4a6f-a88a-d1971f8ba8d2",
   "metadata": {},
   "outputs": [
    {
     "data": {
      "image/png": "[encoded data removed]",
      "text/latex": [
       "$\\displaystyle \\left[ \\left\\{ x : - \\frac{1}{2} - \\frac{\\sqrt{3} i}{2}\\right\\}, \\  \\left\\{ x : - \\frac{1}{2} + \\frac{\\sqrt{3} i}{2}\\right\\}\\right]$"
      ],
      "text/plain": [
       "⎡⎧     1   √3⋅ⅈ⎫  ⎧     1   √3⋅ⅈ⎫⎤\n",
       "⎢⎨x: - ─ - ────⎬, ⎨x: - ─ + ────⎬⎥\n",
       "⎣⎩     2    2  ⎭  ⎩     2    2  ⎭⎦"
      ]
     },
     "execution_count": 37,
     "metadata": {},
     "output_type": "execute_result"
    }
   ],
   "source": [
    "expr = x ** 2 + x + 1\n",
    "sympy.solve(expr, dict=True)"
   ]
  },
  {
   "cell_type": "markdown",
   "id": "08e82e09-dd1c-4a31-bbfc-c240501b26fa",
   "metadata": {},
   "source": [
    "### Solving for One Variable in Terms of Others"
   ]
  },
  {
   "cell_type": "code",
   "execution_count": 38,
   "id": "633f39bb-a1ea-4983-83d2-6c6120f551d6",
   "metadata": {},
   "outputs": [
    {
     "data": {
      "image/png": "[encoded data removed]",
      "text/latex": [
       "$\\displaystyle \\left[ \\left\\{ x : \\frac{- b + \\sqrt{b^{2} - 4 a c}}{2 a}\\right\\}, \\  \\left\\{ x : - \\frac{b + \\sqrt{b^{2} - 4 a c}}{2 a}\\right\\}\\right]$"
      ],
      "text/plain": [
       "⎡⎧           ____________⎫  ⎧    ⎛       ____________⎞ ⎫⎤\n",
       "⎢⎪          ╱  2         ⎪  ⎪    ⎜      ╱  2         ⎟ ⎪⎥\n",
       "⎢⎨   -b + ╲╱  b  - 4⋅a⋅c ⎬  ⎨   -⎝b + ╲╱  b  - 4⋅a⋅c ⎠ ⎬⎥\n",
       "⎢⎪x: ────────────────────⎪, ⎪x: ───────────────────────⎪⎥\n",
       "⎣⎩           2⋅a         ⎭  ⎩             2⋅a          ⎭⎦"
      ]
     },
     "execution_count": 38,
     "metadata": {},
     "output_type": "execute_result"
    }
   ],
   "source": [
    "x, a, b, c = sympy.symbols(\"x, a, b, c\")\n",
    "\n",
    "expr = a * x * x + b * x + c\n",
    "sympy.solve(expr, x, dict=True)"
   ]
  },
  {
   "cell_type": "markdown",
   "id": "a4305651-2c18-4fe9-9abc-38d711ce0a14",
   "metadata": {},
   "source": [
    "運動方程式"
   ]
  },
  {
   "cell_type": "code",
   "execution_count": 39,
   "id": "74688ea6-4538-4e57-8ea5-e0e4f91b1f6b",
   "metadata": {},
   "outputs": [
    {
     "data": {
      "image/png": "[encoded data removed]",
      "text/latex": [
       "$\\displaystyle \\left[ \\left\\{ t : \\frac{- u + \\sqrt{2 a s + u^{2}}}{a}\\right\\}, \\  \\left\\{ t : - \\frac{u + \\sqrt{2 a s + u^{2}}}{a}\\right\\}\\right]$"
      ],
      "text/plain": [
       "⎡⎧           ____________⎫  ⎧    ⎛       ____________⎞ ⎫⎤\n",
       "⎢⎪          ╱          2 ⎪  ⎪    ⎜      ╱          2 ⎟ ⎪⎥\n",
       "⎢⎨   -u + ╲╱  2⋅a⋅s + u  ⎬  ⎨   -⎝u + ╲╱  2⋅a⋅s + u  ⎠ ⎬⎥\n",
       "⎢⎪t: ────────────────────⎪, ⎪t: ───────────────────────⎪⎥\n",
       "⎣⎩            a          ⎭  ⎩              a           ⎭⎦"
      ]
     },
     "execution_count": 39,
     "metadata": {},
     "output_type": "execute_result"
    }
   ],
   "source": [
    "s, u, t, a = sympy.symbols(\"s, u, t, a\")\n",
    "\n",
    "expr = u * t + sympy.Rational(1, 2) * a * t ** 2 - s\n",
    "sympy.solve(expr, t, dict=True)"
   ]
  },
  {
   "cell_type": "markdown",
   "id": "2cd56a31-d002-4c61-b198-f51efdbf8cea",
   "metadata": {},
   "source": [
    "### Solving a System of Linear Equations"
   ]
  },
  {
   "cell_type": "code",
   "execution_count": 40,
   "id": "2c75a373-0cc8-40b4-a516-4a25dbce7aa2",
   "metadata": {},
   "outputs": [
    {
     "data": {
      "image/png": "[encoded data removed]",
      "text/latex": [
       "$\\displaystyle \\left[ \\left\\{ x : \\frac{24}{5}, \\  y : - \\frac{6}{5}\\right\\}\\right]$"
      ],
      "text/plain": [
       "[{x: 24/5, y: -6/5}]"
      ]
     },
     "execution_count": 40,
     "metadata": {},
     "output_type": "execute_result"
    }
   ],
   "source": [
    "expr1 = 2 * x + 3 * y - 6\n",
    "expr2 = 3 * x + 2 * y - 12\n",
    "sol = sympy.solve((expr1, expr2), dict=True)\n",
    "sol"
   ]
  },
  {
   "cell_type": "markdown",
   "id": "1d15ceae-9a1b-4106-8ce2-b86a4b3435a4",
   "metadata": {},
   "source": [
    "検算"
   ]
  },
  {
   "cell_type": "code",
   "execution_count": 41,
   "id": "2573e91b-e931-4634-ba9e-97b8c2ad8068",
   "metadata": {},
   "outputs": [
    {
     "data": {
      "image/png": "[encoded data removed]",
      "text/latex": [
       "$\\displaystyle 0$"
      ],
      "text/plain": [
       "0"
      ]
     },
     "execution_count": 41,
     "metadata": {},
     "output_type": "execute_result"
    }
   ],
   "source": [
    "expr1.subs(sol[0])"
   ]
  },
  {
   "cell_type": "code",
   "execution_count": 42,
   "id": "c9b44144-04c3-4cdf-a029-0aabfc7543e5",
   "metadata": {},
   "outputs": [
    {
     "data": {
      "image/png": "[encoded data removed]",
      "text/latex": [
       "$\\displaystyle 0$"
      ],
      "text/plain": [
       "0"
      ]
     },
     "execution_count": 42,
     "metadata": {},
     "output_type": "execute_result"
    }
   ],
   "source": [
    "expr2.subs(sol[0])"
   ]
  },
  {
   "cell_type": "markdown",
   "id": "b3e570b1-4fc0-4eba-ad39-699035ce8cef",
   "metadata": {},
   "source": [
    "## Plotting using SymPy"
   ]
  },
  {
   "cell_type": "code",
   "execution_count": 43,
   "id": "a3c45388-6c93-473d-9550-1186f670edbe",
   "metadata": {},
   "outputs": [
    {
     "data": {
      "image/png": "[encoded data removed]",
      "text/plain": [
       "<Figure size 432x288 with 1 Axes>"
      ]
     },
     "metadata": {
      "needs_background": "light"
     },
     "output_type": "display_data"
    },
    {
     "data": {
      "text/plain": [
       "<sympy.plotting.plot.Plot at 0x7fd11aa1f100>"
      ]
     },
     "execution_count": 43,
     "metadata": {},
     "output_type": "execute_result"
    }
   ],
   "source": [
    "import sympy\n",
    "from sympy.plotting import plot\n",
    "\n",
    "x = sympy.Symbol(\"x\")\n",
    "\n",
    "plot(2 * x + 3)"
   ]
  },
  {
   "cell_type": "code",
   "execution_count": 44,
   "id": "cc86bc7d-e151-46ac-a4d6-8fccb73ce1a9",
   "metadata": {},
   "outputs": [
    {
     "data": {
      "image/png": "[encoded data removed]",
      "text/plain": [
       "<Figure size 432x288 with 1 Axes>"
      ]
     },
     "metadata": {
      "needs_background": "light"
     },
     "output_type": "display_data"
    },
    {
     "data": {
      "text/plain": [
       "<sympy.plotting.plot.Plot at 0x7fd11a5e4610>"
      ]
     },
     "execution_count": 44,
     "metadata": {},
     "output_type": "execute_result"
    }
   ],
   "source": [
    "plot((2 * x + 3), (x, -5, 5))"
   ]
  },
  {
   "cell_type": "code",
   "execution_count": 45,
   "id": "8f71a688-654e-40cb-85a7-866c5d90301d",
   "metadata": {},
   "outputs": [
    {
     "data": {
      "image/png": "[encoded data removed]",
      "text/plain": [
       "<Figure size 432x288 with 1 Axes>"
      ]
     },
     "metadata": {
      "needs_background": "light"
     },
     "output_type": "display_data"
    },
    {
     "data": {
      "text/plain": [
       "<sympy.plotting.plot.Plot at 0x7fd1182f8eb0>"
      ]
     },
     "execution_count": 45,
     "metadata": {},
     "output_type": "execute_result"
    }
   ],
   "source": [
    "plot((2 * x + 3), (x, -5, 5), title=\"A Line\", xlabel=\"x\", ylabel=\"2x+3\")"
   ]
  },
  {
   "cell_type": "markdown",
   "id": "349392f3-27c8-4120-890f-1c2e1e4edb2e",
   "metadata": {},
   "source": [
    "2元方程式では $y$ について解いてから `plotting()` 関数に渡す"
   ]
  },
  {
   "cell_type": "code",
   "execution_count": 46,
   "id": "dc79334f-bf8b-48e5-8b8f-c1bc21a4effe",
   "metadata": {},
   "outputs": [
    {
     "data": {
      "image/png": "[encoded data removed]",
      "text/latex": [
       "$\\displaystyle \\left[ - \\frac{2 x}{3} + 2\\right]$"
      ],
      "text/plain": [
       "⎡  2⋅x    ⎤\n",
       "⎢- ─── + 2⎥\n",
       "⎣   3     ⎦"
      ]
     },
     "execution_count": 46,
     "metadata": {},
     "output_type": "execute_result"
    }
   ],
   "source": [
    "x, y = sympy.symbols(\"x, y\")\n",
    "\n",
    "expr = 2 * x + 3 * y - 6\n",
    "f = sympy.solve(expr, y)\n",
    "f"
   ]
  },
  {
   "cell_type": "code",
   "execution_count": 47,
   "id": "f860980f-ee58-4877-84de-bde10d38ebc4",
   "metadata": {},
   "outputs": [
    {
     "data": {
      "image/png": "[encoded data removed]",
      "text/plain": [
       "<Figure size 432x288 with 1 Axes>"
      ]
     },
     "metadata": {
      "needs_background": "light"
     },
     "output_type": "display_data"
    },
    {
     "data": {
      "text/plain": [
       "<sympy.plotting.plot.Plot at 0x7fd11a495f60>"
      ]
     },
     "execution_count": 47,
     "metadata": {},
     "output_type": "execute_result"
    }
   ],
   "source": [
    "plot(f[0])"
   ]
  },
  {
   "cell_type": "markdown",
   "id": "65529133-6bdb-4f78-9eb0-e17a6db7be06",
   "metadata": {},
   "source": [
    "### Plotting Multiple Functions"
   ]
  },
  {
   "cell_type": "code",
   "execution_count": 48,
   "id": "3874404e-2d60-4253-8bdc-bb3e232e38e1",
   "metadata": {},
   "outputs": [
    {
     "data": {
      "image/png": "[encoded data removed]",
      "text/plain": [
       "<Figure size 432x288 with 1 Axes>"
      ]
     },
     "metadata": {
      "needs_background": "light"
     },
     "output_type": "display_data"
    },
    {
     "data": {
      "text/plain": [
       "<sympy.plotting.plot.Plot at 0x7fd11a4d1480>"
      ]
     },
     "execution_count": 48,
     "metadata": {},
     "output_type": "execute_result"
    }
   ],
   "source": [
    "plot(2 * x + 3, 3 * x + 1)"
   ]
  },
  {
   "cell_type": "markdown",
   "id": "14b0cd8f-286c-4bb3-8e37-937a3e0e17fb",
   "metadata": {},
   "source": [
    "凡例を表示して、直線の色を変える。"
   ]
  },
  {
   "cell_type": "code",
   "execution_count": 49,
   "id": "da8e14ad-0ab9-43b7-a98b-edbd66d76dda",
   "metadata": {},
   "outputs": [
    {
     "data": {
      "image/png": "[encoded data removed]",
      "text/plain": [
       "<Figure size 432x288 with 1 Axes>"
      ]
     },
     "metadata": {
      "needs_background": "light"
     },
     "output_type": "display_data"
    }
   ],
   "source": [
    "p = plot(2 * x + 3, 3 * x + 1, legend=True, show=False)\n",
    "p[0].line_color = \"r\"\n",
    "p[1].line_color = \"b\"\n",
    "p.show()"
   ]
  }
 ],
 "metadata": {
  "kernelspec": {
   "display_name": "Python 3 (ipykernel)",
   "language": "python",
   "name": "python3"
  },
  "language_info": {
   "codemirror_mode": {
    "name": "ipython",
    "version": 3
   },
   "file_extension": ".py",
   "mimetype": "text/x-python",
   "name": "python",
   "nbconvert_exporter": "python",
   "pygments_lexer": "ipython3",
   "version": "3.10.1"
  }
 },
 "nbformat": 4,
 "nbformat_minor": 5
}
