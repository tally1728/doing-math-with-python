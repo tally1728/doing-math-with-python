{
 "cells": [
  {
   "cell_type": "markdown",
   "id": "8dcf15b6-e161-4481-a043-6c02dabc70d6",
   "metadata": {},
   "source": [
    "# Chapter 7: Solving Calculus Problems\n",
    "\n",
    "## Programming Challenges\n",
    "\n",
    "### \\#4: Finding the Length of a Curve"
   ]
  },
  {
   "cell_type": "code",
   "execution_count": 1,
   "id": "fa96d36a-ccba-4c99-82e3-396bff8cfee4",
   "metadata": {},
   "outputs": [],
   "source": [
    "from sympy import diff, integrate, sqrt\n",
    "\n",
    "\n",
    "def length_curve(f, x, interval):\n",
    "    return integrate(sqrt(1 + diff(f, x) ** 2), (x, interval[0], interval[1]))"
   ]
  },
  {
   "cell_type": "code",
   "execution_count": 2,
   "id": "29ec3fe8-6044-4335-bad9-c97a3cdf9a5d",
   "metadata": {},
   "outputs": [
    {
     "data": {
      "text/latex": [
       "$\\displaystyle \\frac{\\operatorname{asinh}{\\left(17 \\right)}}{8} + \\frac{\\operatorname{asinh}{\\left(43 \\right)}}{8} + \\frac{17 \\sqrt{290}}{8} + \\frac{215 \\sqrt{74}}{8}$"
      ],
      "text/plain": [
       "asinh(17)/8 + asinh(43)/8 + 17*sqrt(290)/8 + 215*sqrt(74)/8"
      ]
     },
     "execution_count": 2,
     "metadata": {},
     "output_type": "execute_result"
    }
   ],
   "source": [
    "from sympy import Symbol\n",
    "\n",
    "x = Symbol(\"x\")\n",
    "f = 2 * x ** 2 + 3 * x + 1\n",
    "\n",
    "len = length_curve(f, x, (-5, 10))\n",
    "len"
   ]
  },
  {
   "cell_type": "code",
   "execution_count": 3,
   "id": "1888ca1f-7296-4b79-bb84-fd7b8ec1f1c3",
   "metadata": {},
   "outputs": [
    {
     "data": {
      "text/latex": [
       "$\\displaystyle 268.372650946022$"
      ],
      "text/plain": [
       "268.372650946022"
      ]
     },
     "execution_count": 3,
     "metadata": {},
     "output_type": "execute_result"
    }
   ],
   "source": [
    "len.evalf()"
   ]
  }
 ],
 "metadata": {
  "kernelspec": {
   "display_name": "Python 3 (ipykernel)",
   "language": "python",
   "name": "python3"
  },
  "language_info": {
   "codemirror_mode": {
    "name": "ipython",
    "version": 3
   },
   "file_extension": ".py",
   "mimetype": "text/x-python",
   "name": "python",
   "nbconvert_exporter": "python",
   "pygments_lexer": "ipython3",
   "version": "3.10.1"
  }
 },
 "nbformat": 4,
 "nbformat_minor": 5
}
