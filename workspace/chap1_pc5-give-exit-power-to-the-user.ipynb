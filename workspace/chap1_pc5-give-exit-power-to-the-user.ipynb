{
 "cells": [
  {
   "cell_type": "markdown",
   "id": "6d689164-b865-4907-9c68-20bee602bccd",
   "metadata": {},
   "source": [
    "# Chapter 1: Working with Numbers\n",
    "\n",
    "## Programming Challenges\n",
    "\n",
    "### \\#5: Give Exit Power to the User\n",
    "\n",
    "ユーザが終了を希望するまで処理を繰り返す"
   ]
  },
  {
   "cell_type": "code",
   "execution_count": 1,
   "id": "6f3bb463-23ca-4056-a841-8d4c6e5bc77a",
   "metadata": {},
   "outputs": [
    {
     "name": "stdout",
     "output_type": "stream",
     "text": [
      "I am in an endless loop\n"
     ]
    },
    {
     "name": "stdin",
     "output_type": "stream",
     "text": [
      "Do you want to exit? (y) for yes  n\n"
     ]
    },
    {
     "name": "stdout",
     "output_type": "stream",
     "text": [
      "I am in an endless loop\n"
     ]
    },
    {
     "name": "stdin",
     "output_type": "stream",
     "text": [
      "Do you want to exit? (y) for yes  n\n"
     ]
    },
    {
     "name": "stdout",
     "output_type": "stream",
     "text": [
      "I am in an endless loop\n"
     ]
    },
    {
     "name": "stdin",
     "output_type": "stream",
     "text": [
      "Do you want to exit? (y) for yes  n\n"
     ]
    },
    {
     "name": "stdout",
     "output_type": "stream",
     "text": [
      "I am in an endless loop\n"
     ]
    },
    {
     "name": "stdin",
     "output_type": "stream",
     "text": [
      "Do you want to exit? (y) for yes  y\n"
     ]
    }
   ],
   "source": [
    "\"\"\"\n",
    "Run until exit layout\n",
    "\"\"\"\n",
    "\n",
    "\n",
    "def fun():\n",
    "    print(\"I am in an endless loop\")\n",
    "\n",
    "\n",
    "def run():\n",
    "    while True:\n",
    "        fun()\n",
    "        answer = input(\"Do you want to exit? (y) for yes \")\n",
    "        if answer == \"y\":\n",
    "            break\n",
    "\n",
    "\n",
    "run()"
   ]
  },
  {
   "cell_type": "code",
   "execution_count": 2,
   "id": "bcf70d34-7fdb-4f47-b14f-f5821950c559",
   "metadata": {},
   "outputs": [
    {
     "name": "stdin",
     "output_type": "stream",
     "text": [
      "Enter a number:  2\n"
     ]
    },
    {
     "name": "stdout",
     "output_type": "stream",
     "text": [
      "2.0 x 1 = 2.0\n",
      "2.0 x 2 = 4.0\n",
      "2.0 x 3 = 6.0\n",
      "2.0 x 4 = 8.0\n",
      "2.0 x 5 = 10.0\n",
      "2.0 x 6 = 12.0\n",
      "2.0 x 7 = 14.0\n",
      "2.0 x 8 = 16.0\n",
      "2.0 x 9 = 18.0\n",
      "2.0 x 10 = 20.0\n"
     ]
    },
    {
     "name": "stdin",
     "output_type": "stream",
     "text": [
      "Do you want to exit? (y) for yes  n\n",
      "Enter a number:  1\n"
     ]
    },
    {
     "name": "stdout",
     "output_type": "stream",
     "text": [
      "1.0 x 1 = 1.0\n",
      "1.0 x 2 = 2.0\n",
      "1.0 x 3 = 3.0\n",
      "1.0 x 4 = 4.0\n",
      "1.0 x 5 = 5.0\n",
      "1.0 x 6 = 6.0\n",
      "1.0 x 7 = 7.0\n",
      "1.0 x 8 = 8.0\n",
      "1.0 x 9 = 9.0\n",
      "1.0 x 10 = 10.0\n"
     ]
    },
    {
     "name": "stdin",
     "output_type": "stream",
     "text": [
      "Do you want to exit? (y) for yes  y\n"
     ]
    }
   ],
   "source": [
    "\"\"\"\n",
    "Multiplication table printer with exit power to the user\n",
    "\"\"\"\n",
    "\n",
    "\n",
    "def multi_table(a):\n",
    "    for i in range(1, 11):\n",
    "        print(\"{0} x {1} = {2}\".format(a, i, a * i))\n",
    "\n",
    "\n",
    "def run():\n",
    "    while True:\n",
    "        a = input(\"Enter a number: \")\n",
    "        multi_table(float(a))\n",
    "\n",
    "        answer = input(\"Do you want to exit? (y) for yes \")\n",
    "        if answer == \"y\":\n",
    "            break\n",
    "\n",
    "\n",
    "run()"
   ]
  }
 ],
 "metadata": {
  "kernelspec": {
   "display_name": "Python 3 (ipykernel)",
   "language": "python",
   "name": "python3"
  },
  "language_info": {
   "codemirror_mode": {
    "name": "ipython",
    "version": 3
   },
   "file_extension": ".py",
   "mimetype": "text/x-python",
   "name": "python",
   "nbconvert_exporter": "python",
   "pygments_lexer": "ipython3",
   "version": "3.10.1"
  }
 },
 "nbformat": 4,
 "nbformat_minor": 5
}
