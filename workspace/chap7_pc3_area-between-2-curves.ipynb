{
 "cells": [
  {
   "cell_type": "markdown",
   "id": "8dcf15b6-e161-4481-a043-6c02dabc70d6",
   "metadata": {},
   "source": [
    "# Chapter 7: Solving Calculus Problems\n",
    "\n",
    "## Programming Challenges\n",
    "\n",
    "### \\#3: Area Between Two Curves"
   ]
  },
  {
   "cell_type": "code",
   "execution_count": 1,
   "id": "fa96d36a-ccba-4c99-82e3-396bff8cfee4",
   "metadata": {},
   "outputs": [],
   "source": [
    "from sympy import Abs, integrate\n",
    "\n",
    "\n",
    "def area_2_curves(f, g, x, interval):\n",
    "    return integrate(f - g, (x, interval[0], interval[1]))"
   ]
  },
  {
   "cell_type": "code",
   "execution_count": 2,
   "id": "29ec3fe8-6044-4335-bad9-c97a3cdf9a5d",
   "metadata": {},
   "outputs": [
    {
     "data": {
      "text/latex": [
       "$\\displaystyle \\frac{1}{6}$"
      ],
      "text/plain": [
       "1/6"
      ]
     },
     "execution_count": 2,
     "metadata": {},
     "output_type": "execute_result"
    }
   ],
   "source": [
    "from sympy import Symbol\n",
    "\n",
    "x = Symbol(\"x\")\n",
    "f = x\n",
    "g = x ** 2\n",
    "\n",
    "area_2_curves(f, g, x, (0, 1))"
   ]
  },
  {
   "cell_type": "markdown",
   "id": "81a5392a-c8be-479b-bce0-5edac1b0b75b",
   "metadata": {},
   "source": [
    "絶対値を含めると積分の計算がうまく行かない。"
   ]
  },
  {
   "cell_type": "code",
   "execution_count": 3,
   "id": "6a866305-5c98-4030-83fb-7f3caafdec04",
   "metadata": {},
   "outputs": [],
   "source": [
    "from sympy import Abs, integrate\n",
    "\n",
    "\n",
    "def area_2_curves(f, g, x, interval):\n",
    "    # return integrate(f - g, (x, interval[0], interval[1]))\n",
    "    return integrate(Abs(f - g), (x, interval[0], interval[1]))"
   ]
  },
  {
   "cell_type": "code",
   "execution_count": 4,
   "id": "0f78413f-2f4f-4319-8853-e38217c15369",
   "metadata": {},
   "outputs": [
    {
     "data": {
      "text/latex": [
       "$\\displaystyle \\int\\limits_{0}^{1} \\begin{cases} x^{2} - x & \\text{for}\\: x^{2} - x \\geq 0 \\\\- x^{2} + x & \\text{otherwise} \\end{cases}\\, dx$"
      ],
      "text/plain": [
       "Integral(Piecewise((x**2 - x, x**2 - x >= 0), (-x**2 + x, True)), (x, 0, 1))"
      ]
     },
     "execution_count": 4,
     "metadata": {},
     "output_type": "execute_result"
    }
   ],
   "source": [
    "import sympy\n",
    "from sympy import Symbol\n",
    "\n",
    "x = Symbol(\"x\")\n",
    "f = x\n",
    "g = x ** 2\n",
    "\n",
    "area_2_curves(f, g, x, (0, 1))"
   ]
  }
 ],
 "metadata": {
  "kernelspec": {
   "display_name": "Python 3 (ipykernel)",
   "language": "python",
   "name": "python3"
  },
  "language_info": {
   "codemirror_mode": {
    "name": "ipython",
    "version": 3
   },
   "file_extension": ".py",
   "mimetype": "text/x-python",
   "name": "python",
   "nbconvert_exporter": "python",
   "pygments_lexer": "ipython3",
   "version": "3.10.1"
  }
 },
 "nbformat": 4,
 "nbformat_minor": 5
}
