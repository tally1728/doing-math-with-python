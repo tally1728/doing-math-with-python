{
 "cells": [
  {
   "cell_type": "markdown",
   "id": "8dcf15b6-e161-4481-a043-6c02dabc70d6",
   "metadata": {},
   "source": [
    "# Chapter 7: Solving Calculus Problems\n",
    "\n",
    "## Programming Challenges\n",
    "\n",
    "### \\#2: Implement the Gradient Descent"
   ]
  },
  {
   "cell_type": "code",
   "execution_count": 1,
   "id": "6a866305-5c98-4030-83fb-7f3caafdec04",
   "metadata": {},
   "outputs": [],
   "source": [
    "from sympy import diff\n",
    "\n",
    "\n",
    "# x0: the initial value of the variable at which to start the iteration\n",
    "# f1x: the derivative of the function whose minimum we want to find\n",
    "# x: the Symbol object corresponding to the variable for the function\n",
    "def grad_descent(x0, f1x, x):\n",
    "    epsilon = 1e-6\n",
    "    step_size = 1e-4\n",
    "\n",
    "    x_old = x0\n",
    "    x_new = x_old - step_size * f1x.subs({x: x_old}).evalf()\n",
    "\n",
    "    while abs(x_old - x_new) > epsilon:\n",
    "        x_old = x_new\n",
    "        x_new = x_old - step_size * f1x.subs({x: x_old}).evalf()\n",
    "\n",
    "    return x_new\n",
    "\n",
    "\n",
    "def find_min(x0, f, x):\n",
    "    # Calculate the first derivative\n",
    "    d = diff(f, x)\n",
    "\n",
    "    x_min = grad_descent(x0, d, x)\n",
    "\n",
    "    print(\"x_min: {0:.5f}\".format(x_min))\n",
    "    print(\"Minimum: {0:.5f}\".format(f.subs({x: x_min})))"
   ]
  },
  {
   "cell_type": "code",
   "execution_count": 2,
   "id": "0f78413f-2f4f-4319-8853-e38217c15369",
   "metadata": {},
   "outputs": [],
   "source": [
    "from sympy import Symbol\n",
    "\n",
    "x = Symbol(\"x\")\n",
    "f = x ** 5 - 30 * x ** 3 + 50 * x"
   ]
  },
  {
   "cell_type": "code",
   "execution_count": 3,
   "id": "f231d2c7-56b5-4fc2-94fe-2ce9ec40687f",
   "metadata": {},
   "outputs": [
    {
     "name": "stdout",
     "output_type": "stream",
     "text": [
      "x_min: -0.75761\n",
      "Minimum: -25.08466\n"
     ]
    }
   ],
   "source": [
    "x0 = -2\n",
    "find_min(x0, f, x)"
   ]
  },
  {
   "cell_type": "code",
   "execution_count": 4,
   "id": "fa96d36a-ccba-4c99-82e3-396bff8cfee4",
   "metadata": {},
   "outputs": [
    {
     "name": "stdout",
     "output_type": "stream",
     "text": [
      "x_min: 4.17445\n",
      "Minimum: -705.95946\n"
     ]
    }
   ],
   "source": [
    "x0 = 3\n",
    "find_min(x0, f, x)"
   ]
  }
 ],
 "metadata": {
  "kernelspec": {
   "display_name": "Python 3 (ipykernel)",
   "language": "python",
   "name": "python3"
  },
  "language_info": {
   "codemirror_mode": {
    "name": "ipython",
    "version": 3
   },
   "file_extension": ".py",
   "mimetype": "text/x-python",
   "name": "python",
   "nbconvert_exporter": "python",
   "pygments_lexer": "ipython3",
   "version": "3.10.1"
  }
 },
 "nbformat": 4,
 "nbformat_minor": 5
}
