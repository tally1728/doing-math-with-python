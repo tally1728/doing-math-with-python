{
 "cells": [
  {
   "cell_type": "markdown",
   "id": "6d689164-b865-4907-9c68-20bee602bccd",
   "metadata": {},
   "source": [
    "# Chapter 1: Working with Numbers\n",
    "\n",
    "## Programming Challenges\n",
    "\n",
    "### \\#4: Fraction Calculator\n",
    "\n",
    "分数の四則演算"
   ]
  },
  {
   "cell_type": "code",
   "execution_count": 1,
   "id": "6f3bb463-23ca-4056-a841-8d4c6e5bc77a",
   "metadata": {},
   "outputs": [],
   "source": [
    "\"\"\"\n",
    "Fraction operations\n",
    "\"\"\"\n",
    "\n",
    "\n",
    "from fractions import Fraction\n",
    "\n",
    "\n",
    "def add(a, b):\n",
    "    print(\"Result of Addition: {0}\".format(a + b))\n",
    "\n",
    "\n",
    "def subtract(a, b):\n",
    "    print(\"Result of Subtraction: {0}\".format(a - b))\n",
    "\n",
    "\n",
    "def divide(a, b):\n",
    "    print(\"Result of Division: {0}\".format(a / b))\n",
    "\n",
    "\n",
    "def multiply(a, b):\n",
    "    print(\"Result of Multiplication: {0}\".format(a * b))\n",
    "\n",
    "\n",
    "def calc():\n",
    "    a = Fraction(input(\"Enter first fraction: \"))\n",
    "    b = Fraction(input(\"Enter second fraction: \"))\n",
    "    op = input(\"Operation to perform - Add, Subtract, Divide, Multiply: \")\n",
    "\n",
    "    if op == \"Add\":\n",
    "        add(a, b)\n",
    "    elif op == \"Subtract\":\n",
    "        subtract(a, b)\n",
    "    elif op == \"Divide\":\n",
    "        divide(a, b)\n",
    "    elif op == \"Multiply\":\n",
    "        multiply(a, b)"
   ]
  },
  {
   "cell_type": "code",
   "execution_count": 2,
   "id": "12ef2f2b-4d27-4d14-b3d2-f145437c416a",
   "metadata": {},
   "outputs": [
    {
     "name": "stdin",
     "output_type": "stream",
     "text": [
      "Enter first fraction:  3/4\n",
      "Enter second fraction:  1/4\n",
      "Operation to perform - Add, Subtract, Divide, Multiply:  Add\n"
     ]
    },
    {
     "name": "stdout",
     "output_type": "stream",
     "text": [
      "Result of Addition: 1\n"
     ]
    }
   ],
   "source": [
    "calc()"
   ]
  },
  {
   "cell_type": "code",
   "execution_count": 3,
   "id": "d0012095-3fe5-4e91-8c56-e73225aee12d",
   "metadata": {},
   "outputs": [
    {
     "name": "stdin",
     "output_type": "stream",
     "text": [
      "Enter first fraction:  3/4\n",
      "Enter second fraction:  1/4\n",
      "Operation to perform - Add, Subtract, Divide, Multiply:  Subtract\n"
     ]
    },
    {
     "name": "stdout",
     "output_type": "stream",
     "text": [
      "Result of Subtraction: 1/2\n"
     ]
    }
   ],
   "source": [
    "calc()"
   ]
  },
  {
   "cell_type": "code",
   "execution_count": 4,
   "id": "c93784b8-3022-4f43-8bbd-3a2d1bddd144",
   "metadata": {},
   "outputs": [
    {
     "name": "stdin",
     "output_type": "stream",
     "text": [
      "Enter first fraction:  3/4\n",
      "Enter second fraction:  1/4\n",
      "Operation to perform - Add, Subtract, Divide, Multiply:  Divide\n"
     ]
    },
    {
     "name": "stdout",
     "output_type": "stream",
     "text": [
      "Result of Division: 3\n"
     ]
    }
   ],
   "source": [
    "calc()"
   ]
  },
  {
   "cell_type": "code",
   "execution_count": 5,
   "id": "dc826222-9a56-40a0-ac1a-71cce25fb06c",
   "metadata": {},
   "outputs": [
    {
     "name": "stdin",
     "output_type": "stream",
     "text": [
      "Enter first fraction:  3/4\n",
      "Enter second fraction:  1/4\n",
      "Operation to perform - Add, Subtract, Divide, Multiply:  Multiply\n"
     ]
    },
    {
     "name": "stdout",
     "output_type": "stream",
     "text": [
      "Result of Multiplication: 3/16\n"
     ]
    }
   ],
   "source": [
    "calc()"
   ]
  }
 ],
 "metadata": {
  "kernelspec": {
   "display_name": "Python 3 (ipykernel)",
   "language": "python",
   "name": "python3"
  },
  "language_info": {
   "codemirror_mode": {
    "name": "ipython",
    "version": 3
   },
   "file_extension": ".py",
   "mimetype": "text/x-python",
   "name": "python",
   "nbconvert_exporter": "python",
   "pygments_lexer": "ipython3",
   "version": "3.10.1"
  }
 },
 "nbformat": 4,
 "nbformat_minor": 5
}
