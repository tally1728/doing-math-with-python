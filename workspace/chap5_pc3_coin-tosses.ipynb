{
 "cells": [
  {
   "cell_type": "markdown",
   "id": "8dcf15b6-e161-4481-a043-6c02dabc70d6",
   "metadata": {},
   "source": [
    "# Chapter 5: Playing with Sets and Probability\n",
    "\n",
    "## Programming Challenges\n",
    "\n",
    "### \\#3: How Many Tosses Before You Run Out of Money?\n",
    "\n",
    "コイン投げゲーム\n",
    "- Head（表）が出たら `+1.0`\n",
    "- Tail（裏）がでたら `-1.5`\n",
    "- ポイントがマイナスになったら負け"
   ]
  },
  {
   "cell_type": "code",
   "execution_count": 1,
   "id": "3ebab65f-4523-4539-aeca-94137d7fafd6",
   "metadata": {},
   "outputs": [
    {
     "name": "stdout",
     "output_type": "stream",
     "text": [
      "Heads! Current amount: 11.0\n",
      "Tails! Current amount: 9.5\n",
      "Tails! Current amount: 8.0\n",
      "Heads! Current amount: 9.0\n",
      "Tails! Current amount: 7.5\n",
      "Tails! Current amount: 6.0\n",
      "Heads! Current amount: 7.0\n",
      "Heads! Current amount: 8.0\n",
      "Tails! Current amount: 6.5\n",
      "Heads! Current amount: 7.5\n",
      "Heads! Current amount: 8.5\n",
      "Heads! Current amount: 9.5\n",
      "Tails! Current amount: 8.0\n",
      "Tails! Current amount: 6.5\n",
      "Heads! Current amount: 7.5\n",
      "Tails! Current amount: 6.0\n",
      "Heads! Current amount: 7.0\n",
      "Tails! Current amount: 5.5\n",
      "Tails! Current amount: 4.0\n",
      "Tails! Current amount: 2.5\n",
      "Tails! Current amount: 1.0\n",
      "Heads! Current amount: 2.0\n",
      "Heads! Current amount: 3.0\n",
      "Heads! Current amount: 4.0\n",
      "Tails! Current amount: 2.5\n",
      "Heads! Current amount: 3.5\n",
      "Heads! Current amount: 4.5\n",
      "Heads! Current amount: 5.5\n",
      "Tails! Current amount: 4.0\n",
      "Tails! Current amount: 2.5\n",
      "Tails! Current amount: 1.0\n",
      "Tails! Current amount: -0.5\n"
     ]
    }
   ],
   "source": [
    "import random\n",
    "\n",
    "\n",
    "# True -> Heads, False -> Tails\n",
    "def toss():\n",
    "    if random.random() < 1 / 2:\n",
    "        return True\n",
    "    else:\n",
    "        return False\n",
    "\n",
    "\n",
    "amount = 10.0\n",
    "\n",
    "while amount > 0:\n",
    "    if toss():\n",
    "        amount += 1.0\n",
    "        print(\"Heads! Current amount: {0}\".format(amount))\n",
    "    else:\n",
    "        amount -= 1.5\n",
    "        print(\"Tails! Current amount: {0}\".format(amount))"
   ]
  }
 ],
 "metadata": {
  "kernelspec": {
   "display_name": "Python 3 (ipykernel)",
   "language": "python",
   "name": "python3"
  },
  "language_info": {
   "codemirror_mode": {
    "name": "ipython",
    "version": 3
   },
   "file_extension": ".py",
   "mimetype": "text/x-python",
   "name": "python",
   "nbconvert_exporter": "python",
   "pygments_lexer": "ipython3",
   "version": "3.10.1"
  }
 },
 "nbformat": 4,
 "nbformat_minor": 5
}
