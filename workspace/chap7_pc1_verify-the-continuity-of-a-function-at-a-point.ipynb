{
 "cells": [
  {
   "cell_type": "markdown",
   "id": "8dcf15b6-e161-4481-a043-6c02dabc70d6",
   "metadata": {},
   "source": [
    "# Chapter 7: Solving Calculus Problems\n",
    "\n",
    "## Programming Challenges\n",
    "\n",
    "### \\#1: Verify the Continuity of a Function at a Point\n",
    "\n",
    "関数の値 $f(a)$ を左極限 $\\lim_{x \\to a^-} f(x)$ と右極限 $\\lim_{x \\to a^+} f(x)$ と比較して、関数の連続性を検証する。"
   ]
  },
  {
   "cell_type": "code",
   "execution_count": 1,
   "id": "6a866305-5c98-4030-83fb-7f3caafdec04",
   "metadata": {},
   "outputs": [],
   "source": [
    "from sympy import limit\n",
    "\n",
    "\n",
    "def is_continuous(f, x, at):\n",
    "    lim_left = limit(f, x, at, \"-\")\n",
    "    fa = f.subs({x: at})\n",
    "    lim_right = limit(f, x, at, \"+\")\n",
    "\n",
    "    if lim_left == fa and fa == lim_right:\n",
    "        return True\n",
    "    else:\n",
    "        return False"
   ]
  },
  {
   "cell_type": "markdown",
   "id": "6365216c-6b12-42bf-8b17-337960db5122",
   "metadata": {},
   "source": [
    "三角関数"
   ]
  },
  {
   "cell_type": "code",
   "execution_count": 2,
   "id": "0f78413f-2f4f-4319-8853-e38217c15369",
   "metadata": {},
   "outputs": [
    {
     "data": {
      "text/plain": [
       "True"
      ]
     },
     "execution_count": 2,
     "metadata": {},
     "output_type": "execute_result"
    }
   ],
   "source": [
    "from sympy import Symbol, sin\n",
    "\n",
    "x = Symbol(\"x\")\n",
    "f = sin(x)\n",
    "\n",
    "is_continuous(f, x, 0)"
   ]
  },
  {
   "cell_type": "code",
   "execution_count": 3,
   "id": "f231d2c7-56b5-4fc2-94fe-2ce9ec40687f",
   "metadata": {},
   "outputs": [
    {
     "data": {
      "text/plain": [
       "False"
      ]
     },
     "execution_count": 3,
     "metadata": {},
     "output_type": "execute_result"
    }
   ],
   "source": [
    "from sympy import Symbol\n",
    "\n",
    "x = Symbol(\"x\")\n",
    "f = 1 / x\n",
    "\n",
    "is_continuous(f, x, 0)"
   ]
  }
 ],
 "metadata": {
  "kernelspec": {
   "display_name": "Python 3 (ipykernel)",
   "language": "python",
   "name": "python3"
  },
  "language_info": {
   "codemirror_mode": {
    "name": "ipython",
    "version": 3
   },
   "file_extension": ".py",
   "mimetype": "text/x-python",
   "name": "python",
   "nbconvert_exporter": "python",
   "pygments_lexer": "ipython3",
   "version": "3.10.1"
  }
 },
 "nbformat": 4,
 "nbformat_minor": 5
}
