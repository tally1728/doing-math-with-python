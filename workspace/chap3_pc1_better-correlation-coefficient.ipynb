{
 "cells": [
  {
   "cell_type": "markdown",
   "id": "8dcf15b6-e161-4481-a043-6c02dabc70d6",
   "metadata": {},
   "source": [
    "# Chapter 3: Describing Data with Statistics\n",
    "\n",
    "## Programming Challenges\n",
    "\n",
    "### \\#1: Better Correlation Coefficient–Finding Program"
   ]
  },
  {
   "cell_type": "code",
   "execution_count": 3,
   "id": "6a866305-5c98-4030-83fb-7f3caafdec04",
   "metadata": {},
   "outputs": [],
   "source": [
    "def find_corr_x_y(x, y):\n",
    "    n = len(x)\n",
    "    if n != len(y):\n",
    "        raise Exception(\"The lengths of x and y are different\")\n",
    "\n",
    "    # inner product\n",
    "    sum_prod_x_y = sum([xi * yi for xi, yi in zip(x, y)])\n",
    "\n",
    "    sum_x = sum(x)\n",
    "    sum_y = sum(y)\n",
    "\n",
    "    squared_sum_x = sum_x ** 2\n",
    "    squared_sum_y = sum_y ** 2\n",
    "\n",
    "    x_square_sum = sum([xi ** 2 for xi in x])\n",
    "    y_square_sum = sum([yi ** 2 for yi in y])\n",
    "\n",
    "    return (n * sum_prod_x_y - sum_x * sum_y) / (\n",
    "        (n * x_square_sum - sum_x ** 2) * (n * y_square_sum - sum_y ** 2)\n",
    "    ) ** (1 / 2)"
   ]
  },
  {
   "cell_type": "code",
   "execution_count": 4,
   "id": "c5acc83d-2ed8-4388-a332-8e53ed251a6c",
   "metadata": {},
   "outputs": [
    {
     "data": {
      "text/plain": [
       "1.0"
      ]
     },
     "execution_count": 4,
     "metadata": {},
     "output_type": "execute_result"
    }
   ],
   "source": [
    "x = list(range(10))\n",
    "y = list(range(10))\n",
    "\n",
    "find_corr_x_y(x, y)"
   ]
  },
  {
   "cell_type": "code",
   "execution_count": 5,
   "id": "f0d6d059-fb0f-4750-b15e-028b1d1e74ea",
   "metadata": {},
   "outputs": [
    {
     "ename": "Exception",
     "evalue": "The lengths of x and y are different",
     "output_type": "error",
     "traceback": [
      "\u001b[0;31m---------------------------------------------------------------------------\u001b[0m",
      "\u001b[0;31mException\u001b[0m                                 Traceback (most recent call last)",
      "\u001b[0;32m/tmp/ipykernel_257/871583912.py\u001b[0m in \u001b[0;36m<module>\u001b[0;34m\u001b[0m\n\u001b[1;32m      2\u001b[0m \u001b[0my\u001b[0m \u001b[0;34m=\u001b[0m \u001b[0mlist\u001b[0m\u001b[0;34m(\u001b[0m\u001b[0mrange\u001b[0m\u001b[0;34m(\u001b[0m\u001b[0;36m11\u001b[0m\u001b[0;34m)\u001b[0m\u001b[0;34m)\u001b[0m\u001b[0;34m\u001b[0m\u001b[0;34m\u001b[0m\u001b[0m\n\u001b[1;32m      3\u001b[0m \u001b[0;34m\u001b[0m\u001b[0m\n\u001b[0;32m----> 4\u001b[0;31m \u001b[0mfind_corr_x_y\u001b[0m\u001b[0;34m(\u001b[0m\u001b[0mx\u001b[0m\u001b[0;34m,\u001b[0m \u001b[0my\u001b[0m\u001b[0;34m)\u001b[0m\u001b[0;34m\u001b[0m\u001b[0;34m\u001b[0m\u001b[0m\n\u001b[0m",
      "\u001b[0;32m/tmp/ipykernel_257/1416310025.py\u001b[0m in \u001b[0;36mfind_corr_x_y\u001b[0;34m(x, y)\u001b[0m\n\u001b[1;32m      2\u001b[0m     \u001b[0mn\u001b[0m \u001b[0;34m=\u001b[0m \u001b[0mlen\u001b[0m\u001b[0;34m(\u001b[0m\u001b[0mx\u001b[0m\u001b[0;34m)\u001b[0m\u001b[0;34m\u001b[0m\u001b[0;34m\u001b[0m\u001b[0m\n\u001b[1;32m      3\u001b[0m     \u001b[0;32mif\u001b[0m \u001b[0mn\u001b[0m \u001b[0;34m!=\u001b[0m \u001b[0mlen\u001b[0m\u001b[0;34m(\u001b[0m\u001b[0my\u001b[0m\u001b[0;34m)\u001b[0m\u001b[0;34m:\u001b[0m\u001b[0;34m\u001b[0m\u001b[0;34m\u001b[0m\u001b[0m\n\u001b[0;32m----> 4\u001b[0;31m         \u001b[0;32mraise\u001b[0m \u001b[0mException\u001b[0m\u001b[0;34m(\u001b[0m\u001b[0;34m\"The lengths of x and y are different\"\u001b[0m\u001b[0;34m)\u001b[0m\u001b[0;34m\u001b[0m\u001b[0;34m\u001b[0m\u001b[0m\n\u001b[0m\u001b[1;32m      5\u001b[0m \u001b[0;34m\u001b[0m\u001b[0m\n\u001b[1;32m      6\u001b[0m     \u001b[0;31m# inner product\u001b[0m\u001b[0;34m\u001b[0m\u001b[0;34m\u001b[0m\u001b[0m\n",
      "\u001b[0;31mException\u001b[0m: The lengths of x and y are different"
     ]
    }
   ],
   "source": [
    "x = list(range(10))\n",
    "y = list(range(11))\n",
    "\n",
    "find_corr_x_y(x, y)"
   ]
  }
 ],
 "metadata": {
  "kernelspec": {
   "display_name": "Python 3 (ipykernel)",
   "language": "python",
   "name": "python3"
  },
  "language_info": {
   "codemirror_mode": {
    "name": "ipython",
    "version": 3
   },
   "file_extension": ".py",
   "mimetype": "text/x-python",
   "name": "python",
   "nbconvert_exporter": "python",
   "pygments_lexer": "ipython3",
   "version": "3.10.1"
  }
 },
 "nbformat": 4,
 "nbformat_minor": 5
}
