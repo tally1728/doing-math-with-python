{
 "cells": [
  {
   "cell_type": "markdown",
   "id": "6d689164-b865-4907-9c68-20bee602bccd",
   "metadata": {},
   "source": [
    "# Chapter 1: Working with Numbers\n",
    "\n",
    "## Programming Challenges\n",
    "\n",
    "### \\#3: Enhanced Unit Converter\n",
    "\n",
    "長さ以外に質量と温度の変換もできるようにする\n",
    "\n",
    "- キログラム・ポンド\n",
    "- 摂氏・華氏"
   ]
  },
  {
   "cell_type": "code",
   "execution_count": 1,
   "id": "6f3bb463-23ca-4056-a841-8d4c6e5bc77a",
   "metadata": {},
   "outputs": [],
   "source": [
    "\"\"\"\n",
    "Unit converter\n",
    "\"\"\"\n",
    "\n",
    "\n",
    "def print_menu():\n",
    "    print(\"1. Kilometers to Miles\")\n",
    "    print(\"2. Miles to Kilometers\")\n",
    "    print(\"3. Kilograms to Pounds\")\n",
    "    print(\"4. Pounds to Kilograms\")\n",
    "    print(\"5. Celsius to Fahrenheit\")\n",
    "    print(\"6. Fahrenheit to Celsius\")\n",
    "\n",
    "\n",
    "# Distance\n",
    "def km_miles():\n",
    "    km = float(input(\"Enter distance in kilometers: \"))\n",
    "    miles = km / 1.609\n",
    "\n",
    "    print(\"Distance in miles: {0}\".format(miles))\n",
    "\n",
    "\n",
    "def miles_km():\n",
    "    miles = float(input(\"Enter distance in miles: \"))\n",
    "    km = miles * 1.609\n",
    "\n",
    "    print(\"Distance in kilometers: {0}\".format(km))\n",
    "\n",
    "\n",
    "# Weight\n",
    "def kg_lb():\n",
    "    kg = float(input(\"Enter weight in kilograms: \"))\n",
    "    lb = kg / 0.454\n",
    "\n",
    "    print(\"Weight in pounds: {0}\".format(lb))\n",
    "\n",
    "\n",
    "def lb_kg():\n",
    "    lb = float(input(\"Enter weight in pounds: \"))\n",
    "    kg = lb * 0.454\n",
    "\n",
    "    print(\"Weight in kilograms: {0}\".format(kg))\n",
    "\n",
    "\n",
    "# Temperature\n",
    "def c2f():\n",
    "    c = float(input(\"Enter weight in Celsius: \"))\n",
    "    f = c * 9 / 5 + 32\n",
    "\n",
    "    print(\"Temperature in Fahrenheit: {0}\".format(f))\n",
    "\n",
    "\n",
    "def f2c():\n",
    "    f = float(input(\"Enter weight in Fahrenheit: \"))\n",
    "    c = (f - 32) * 5 / 9\n",
    "\n",
    "    print(\"Temperature in Celsius {0}\".format(c))\n",
    "\n",
    "\n",
    "def unit_converter():\n",
    "    print_menu()\n",
    "    choice = input(\"Which conversion would you like to do?: \")\n",
    "\n",
    "    if choice == \"1\":\n",
    "        km_miles()\n",
    "    elif choice == \"2\":\n",
    "        miles_km()\n",
    "    elif choice == \"3\":\n",
    "        kg_lb()\n",
    "    elif choice == \"4\":\n",
    "        lb_kg()\n",
    "    elif choice == \"5\":\n",
    "        c2f()\n",
    "    elif choice == \"6\":\n",
    "        f2c()"
   ]
  },
  {
   "cell_type": "markdown",
   "id": "8fe635a0-ae2b-4044-bbc7-631b0d350da9",
   "metadata": {},
   "source": [
    "Kg → Lb"
   ]
  },
  {
   "cell_type": "code",
   "execution_count": 2,
   "id": "12ef2f2b-4d27-4d14-b3d2-f145437c416a",
   "metadata": {},
   "outputs": [
    {
     "name": "stdout",
     "output_type": "stream",
     "text": [
      "1. Kilometers to Miles\n",
      "2. Miles to Kilometers\n",
      "3. Kilograms to Pounds\n",
      "4. Pounds to Kilograms\n",
      "5. Celsius to Fahrenheit\n",
      "6. Fahrenheit to Celsius\n"
     ]
    },
    {
     "name": "stdin",
     "output_type": "stream",
     "text": [
      "Which conversion would you like to do?:  3\n",
      "Enter weight in kilograms:  1\n"
     ]
    },
    {
     "name": "stdout",
     "output_type": "stream",
     "text": [
      "Weight in pounds: 2.202643171806167\n"
     ]
    }
   ],
   "source": [
    "unit_converter()"
   ]
  },
  {
   "cell_type": "markdown",
   "id": "4de7da41-8339-4433-9adf-58f293c96ac4",
   "metadata": {},
   "source": [
    "lb → Kg"
   ]
  },
  {
   "cell_type": "code",
   "execution_count": 3,
   "id": "d0012095-3fe5-4e91-8c56-e73225aee12d",
   "metadata": {},
   "outputs": [
    {
     "name": "stdout",
     "output_type": "stream",
     "text": [
      "1. Kilometers to Miles\n",
      "2. Miles to Kilometers\n",
      "3. Kilograms to Pounds\n",
      "4. Pounds to Kilograms\n",
      "5. Celsius to Fahrenheit\n",
      "6. Fahrenheit to Celsius\n"
     ]
    },
    {
     "name": "stdin",
     "output_type": "stream",
     "text": [
      "Which conversion would you like to do?:  4\n",
      "Enter weight in pounds:  5\n"
     ]
    },
    {
     "name": "stdout",
     "output_type": "stream",
     "text": [
      "Weight in kilograms: 2.27\n"
     ]
    }
   ],
   "source": [
    "unit_converter()"
   ]
  },
  {
   "cell_type": "markdown",
   "id": "b45984e2-b7b8-486b-8f00-779ceebf01f7",
   "metadata": {},
   "source": [
    "Celsius → Fahrenheit"
   ]
  },
  {
   "cell_type": "code",
   "execution_count": 4,
   "id": "c93784b8-3022-4f43-8bbd-3a2d1bddd144",
   "metadata": {},
   "outputs": [
    {
     "name": "stdout",
     "output_type": "stream",
     "text": [
      "1. Kilometers to Miles\n",
      "2. Miles to Kilometers\n",
      "3. Kilograms to Pounds\n",
      "4. Pounds to Kilograms\n",
      "5. Celsius to Fahrenheit\n",
      "6. Fahrenheit to Celsius\n"
     ]
    },
    {
     "name": "stdin",
     "output_type": "stream",
     "text": [
      "Which conversion would you like to do?:  5\n",
      "Enter weight in Celsius:  37.0\n"
     ]
    },
    {
     "name": "stdout",
     "output_type": "stream",
     "text": [
      "Temperature in Fahrenheit: 98.6\n"
     ]
    }
   ],
   "source": [
    "unit_converter()"
   ]
  },
  {
   "cell_type": "markdown",
   "id": "d025260c-0337-4283-b56f-2ebdc848e730",
   "metadata": {},
   "source": [
    "Fahrenheit → Celsius"
   ]
  },
  {
   "cell_type": "code",
   "execution_count": 5,
   "id": "dc826222-9a56-40a0-ac1a-71cce25fb06c",
   "metadata": {},
   "outputs": [
    {
     "name": "stdout",
     "output_type": "stream",
     "text": [
      "1. Kilometers to Miles\n",
      "2. Miles to Kilometers\n",
      "3. Kilograms to Pounds\n",
      "4. Pounds to Kilograms\n",
      "5. Celsius to Fahrenheit\n",
      "6. Fahrenheit to Celsius\n"
     ]
    },
    {
     "name": "stdin",
     "output_type": "stream",
     "text": [
      "Which conversion would you like to do?:  6\n",
      "Enter weight in Fahrenheit:  98.6\n"
     ]
    },
    {
     "name": "stdout",
     "output_type": "stream",
     "text": [
      "Temperature in Celsius 37.0\n"
     ]
    }
   ],
   "source": [
    "unit_converter()"
   ]
  }
 ],
 "metadata": {
  "kernelspec": {
   "display_name": "Python 3 (ipykernel)",
   "language": "python",
   "name": "python3"
  },
  "language_info": {
   "codemirror_mode": {
    "name": "ipython",
    "version": 3
   },
   "file_extension": ".py",
   "mimetype": "text/x-python",
   "name": "python",
   "nbconvert_exporter": "python",
   "pygments_lexer": "ipython3",
   "version": "3.10.1"
  }
 },
 "nbformat": 4,
 "nbformat_minor": 5
}
