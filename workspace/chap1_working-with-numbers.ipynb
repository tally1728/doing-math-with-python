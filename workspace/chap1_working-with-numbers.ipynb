{
 "cells": [
  {
   "cell_type": "markdown",
   "id": "cfc2ddf1-efe6-4586-a2e4-60b7c0677bec",
   "metadata": {},
   "source": [
    "# Chapter 1: Working with Numbers\n",
    "\n",
    "## Basic Mathematical Operations\n",
    "\n",
    "- 四則演算\n",
    "    - `/`: 小数の割り算\n",
    "    Non-integer- `//`: 整数の割り算（切り捨て）\n",
    "- `%`: 剰余演算\n",
    "- `**`: 指数演算（小数も）\n",
    "\n",
    "足し算と引き算"
   ]
  },
  {
   "cell_type": "code",
   "execution_count": 1,
   "id": "8e60d1d7-acae-4583-9b10-39620a6f1e2d",
   "metadata": {},
   "outputs": [
    {
     "data": {
      "text/plain": [
       "3"
      ]
     },
     "execution_count": 1,
     "metadata": {},
     "output_type": "execute_result"
    }
   ],
   "source": [
    "1 + 2"
   ]
  },
  {
   "cell_type": "code",
   "execution_count": 2,
   "id": "09c89fa6-a199-43f6-9300-664a1a276734",
   "metadata": {},
   "outputs": [
    {
     "data": {
      "text/plain": [
       "4.5"
      ]
     },
     "execution_count": 2,
     "metadata": {},
     "output_type": "execute_result"
    }
   ],
   "source": [
    "1 + 3.5"
   ]
  },
  {
   "cell_type": "code",
   "execution_count": 3,
   "id": "2feb228c-ba68-4d89-b02b-6bec80151f23",
   "metadata": {},
   "outputs": [
    {
     "data": {
      "text/plain": [
       "1.5"
      ]
     },
     "execution_count": 3,
     "metadata": {},
     "output_type": "execute_result"
    }
   ],
   "source": [
    "-1 + 2.5"
   ]
  },
  {
   "cell_type": "code",
   "execution_count": 4,
   "id": "6b5703d6-18a7-41ff-ab5e-932656217722",
   "metadata": {},
   "outputs": [
    {
     "data": {
      "text/plain": [
       "55"
      ]
     },
     "execution_count": 4,
     "metadata": {},
     "output_type": "execute_result"
    }
   ],
   "source": [
    "100 - 45"
   ]
  },
  {
   "cell_type": "code",
   "execution_count": 5,
   "id": "7a5f03bd-4598-4430-8f68-be6ebd021df7",
   "metadata": {},
   "outputs": [
    {
     "data": {
      "text/plain": [
       "3.9"
      ]
     },
     "execution_count": 5,
     "metadata": {},
     "output_type": "execute_result"
    }
   ],
   "source": [
    "-1.1 + 5"
   ]
  },
  {
   "cell_type": "markdown",
   "id": "74116c93-afcf-4920-a3fc-d31c1effa96c",
   "metadata": {},
   "source": [
    "掛け算"
   ]
  },
  {
   "cell_type": "code",
   "execution_count": 6,
   "id": "e36b1ed6-b385-4041-b3a5-446e64789645",
   "metadata": {},
   "outputs": [
    {
     "data": {
      "text/plain": [
       "6"
      ]
     },
     "execution_count": 6,
     "metadata": {},
     "output_type": "execute_result"
    }
   ],
   "source": [
    "3 * 2"
   ]
  },
  {
   "cell_type": "code",
   "execution_count": 7,
   "id": "8a80acff-3ae6-4810-8b48-9e6a94707138",
   "metadata": {},
   "outputs": [
    {
     "data": {
      "text/plain": [
       "5.25"
      ]
     },
     "execution_count": 7,
     "metadata": {},
     "output_type": "execute_result"
    }
   ],
   "source": [
    "3.5 * 1.5"
   ]
  },
  {
   "cell_type": "markdown",
   "id": "49841a3e-f235-4bd5-af20-24dedc623fb3",
   "metadata": {},
   "source": [
    "小数の割り算"
   ]
  },
  {
   "cell_type": "code",
   "execution_count": 8,
   "id": "9d209776-7875-44fb-a164-5936c4caff61",
   "metadata": {},
   "outputs": [
    {
     "data": {
      "text/plain": [
       "1.5"
      ]
     },
     "execution_count": 8,
     "metadata": {},
     "output_type": "execute_result"
    }
   ],
   "source": [
    "3 / 2"
   ]
  },
  {
   "cell_type": "code",
   "execution_count": 9,
   "id": "dd705334-eddc-40a4-9435-e6d3db6ec77a",
   "metadata": {},
   "outputs": [
    {
     "data": {
      "text/plain": [
       "2.0"
      ]
     },
     "execution_count": 9,
     "metadata": {},
     "output_type": "execute_result"
    }
   ],
   "source": [
    "4 / 2"
   ]
  },
  {
   "cell_type": "markdown",
   "id": "4cdeb7e4-abc3-41c6-a58f-5785e23a430c",
   "metadata": {},
   "source": [
    "整数の割り算 (切り捨て, Floor Division)"
   ]
  },
  {
   "cell_type": "code",
   "execution_count": 10,
   "id": "1fe12075-eb77-4da5-888a-9e8b85da6d8a",
   "metadata": {},
   "outputs": [
    {
     "data": {
      "text/plain": [
       "1"
      ]
     },
     "execution_count": 10,
     "metadata": {},
     "output_type": "execute_result"
    }
   ],
   "source": [
    "3 // 2"
   ]
  },
  {
   "cell_type": "code",
   "execution_count": 11,
   "id": "4d315567-87f1-4b81-b990-7268e536a896",
   "metadata": {},
   "outputs": [
    {
     "data": {
      "text/plain": [
       "-2"
      ]
     },
     "execution_count": 11,
     "metadata": {},
     "output_type": "execute_result"
    }
   ],
   "source": [
    "-3 // 2"
   ]
  },
  {
   "cell_type": "code",
   "execution_count": 12,
   "id": "f6e6fcd8-5af0-4026-a060-0eebb1d55074",
   "metadata": {},
   "outputs": [
    {
     "data": {
      "text/plain": [
       "-1"
      ]
     },
     "execution_count": 12,
     "metadata": {},
     "output_type": "execute_result"
    }
   ],
   "source": [
    "1 // -2"
   ]
  },
  {
   "cell_type": "markdown",
   "id": "814a06fb-a755-44d8-9d89-da3f1865e903",
   "metadata": {},
   "source": [
    "剰余演算"
   ]
  },
  {
   "cell_type": "code",
   "execution_count": 13,
   "id": "ee788056-582e-4e97-b779-2d1f84fbc76e",
   "metadata": {},
   "outputs": [
    {
     "data": {
      "text/plain": [
       "1"
      ]
     },
     "execution_count": 13,
     "metadata": {},
     "output_type": "execute_result"
    }
   ],
   "source": [
    "9 % 2"
   ]
  },
  {
   "cell_type": "markdown",
   "id": "54bed95c-457e-457d-b54a-67edf297aede",
   "metadata": {},
   "source": [
    "指数演算"
   ]
  },
  {
   "cell_type": "code",
   "execution_count": 14,
   "id": "3f4c54d6-dc00-4f41-8088-5d73ed50aee9",
   "metadata": {},
   "outputs": [
    {
     "data": {
      "text/plain": [
       "4"
      ]
     },
     "execution_count": 14,
     "metadata": {},
     "output_type": "execute_result"
    }
   ],
   "source": [
    "2 ** 2"
   ]
  },
  {
   "cell_type": "code",
   "execution_count": 15,
   "id": "105a5b31-ae68-4e22-8b0c-9b107dc9d77b",
   "metadata": {},
   "outputs": [
    {
     "data": {
      "text/plain": [
       "1024"
      ]
     },
     "execution_count": 15,
     "metadata": {},
     "output_type": "execute_result"
    }
   ],
   "source": [
    "2 ** 10"
   ]
  },
  {
   "cell_type": "code",
   "execution_count": 16,
   "id": "ac183495-a8b9-44b0-b8bc-d24c69c06652",
   "metadata": {},
   "outputs": [
    {
     "data": {
      "text/plain": [
       "1"
      ]
     },
     "execution_count": 16,
     "metadata": {},
     "output_type": "execute_result"
    }
   ],
   "source": [
    "1 ** 10"
   ]
  },
  {
   "cell_type": "code",
   "execution_count": 17,
   "id": "68db8936-e989-42cd-a63b-375131d2be2f",
   "metadata": {},
   "outputs": [
    {
     "data": {
      "text/plain": [
       "2.0"
      ]
     },
     "execution_count": 17,
     "metadata": {},
     "output_type": "execute_result"
    }
   ],
   "source": [
    "8 ** (1 / 3)"
   ]
  },
  {
   "cell_type": "markdown",
   "id": "1b2aee9f-00a3-423e-8806-c18df69915d9",
   "metadata": {},
   "source": [
    "カッコ"
   ]
  },
  {
   "cell_type": "code",
   "execution_count": 18,
   "id": "eacffdc9-7757-484f-8c2a-58e2dbc1a053",
   "metadata": {},
   "outputs": [
    {
     "data": {
      "text/plain": [
       "30"
      ]
     },
     "execution_count": 18,
     "metadata": {},
     "output_type": "execute_result"
    }
   ],
   "source": [
    "5 + 5 * 5"
   ]
  },
  {
   "cell_type": "code",
   "execution_count": 19,
   "id": "e76eb0c5-0d20-445d-bd27-ae489ab8dc91",
   "metadata": {},
   "outputs": [
    {
     "data": {
      "text/plain": [
       "50"
      ]
     },
     "execution_count": 19,
     "metadata": {},
     "output_type": "execute_result"
    }
   ],
   "source": [
    "(5 + 5) * 5"
   ]
  },
  {
   "cell_type": "markdown",
   "id": "81c93674-7f7b-468e-adfc-17499e618c74",
   "metadata": {},
   "source": [
    "## Labels: Attaching Names to Numbers\n",
    "\n",
    "変数"
   ]
  },
  {
   "cell_type": "code",
   "execution_count": 20,
   "id": "78e8005c-7ca4-4244-b477-d529cc5fc74e",
   "metadata": {},
   "outputs": [
    {
     "data": {
      "text/plain": [
       "4"
      ]
     },
     "execution_count": 20,
     "metadata": {},
     "output_type": "execute_result"
    }
   ],
   "source": [
    "a = 3\n",
    "a + 1"
   ]
  },
  {
   "cell_type": "code",
   "execution_count": 21,
   "id": "d1e586f8-bec0-46c3-ba1c-d459ec9cebc5",
   "metadata": {},
   "outputs": [
    {
     "data": {
      "text/plain": [
       "6"
      ]
     },
     "execution_count": 21,
     "metadata": {},
     "output_type": "execute_result"
    }
   ],
   "source": [
    "a = 5\n",
    "a + 1"
   ]
  },
  {
   "cell_type": "markdown",
   "id": "79b28b2f-8808-4a0b-83f7-c8f7212c6a6d",
   "metadata": {},
   "source": [
    "## Different Kinds of Numbers\n",
    "\n",
    "- 数値型: `int`, `float`\n",
    "- `int()` 関数\n",
    "- `float()` 関数\n",
    "- `fractions.Fraction`: 有理数\n",
    "- `j`: 虚数単位 → 複素数"
   ]
  },
  {
   "cell_type": "code",
   "execution_count": 22,
   "id": "43e43132-2cdc-48d6-a93b-64bda356b374",
   "metadata": {},
   "outputs": [
    {
     "data": {
      "text/plain": [
       "int"
      ]
     },
     "execution_count": 22,
     "metadata": {},
     "output_type": "execute_result"
    }
   ],
   "source": [
    "type(3)"
   ]
  },
  {
   "cell_type": "code",
   "execution_count": 23,
   "id": "e66644df-6101-4ebe-befe-d7bb856b943e",
   "metadata": {},
   "outputs": [
    {
     "data": {
      "text/plain": [
       "float"
      ]
     },
     "execution_count": 23,
     "metadata": {},
     "output_type": "execute_result"
    }
   ],
   "source": [
    "type(3.5)"
   ]
  },
  {
   "cell_type": "code",
   "execution_count": 24,
   "id": "eb441cef-c0a8-48d8-96f5-fc58234d6719",
   "metadata": {},
   "outputs": [
    {
     "data": {
      "text/plain": [
       "float"
      ]
     },
     "execution_count": 24,
     "metadata": {},
     "output_type": "execute_result"
    }
   ],
   "source": [
    "type(3.0)"
   ]
  },
  {
   "cell_type": "markdown",
   "id": "dc0f7863-22e9-429a-9489-c6511f3c69c1",
   "metadata": {},
   "source": [
    "`int()` 関数: 小数点以下を **無視**"
   ]
  },
  {
   "cell_type": "code",
   "execution_count": 25,
   "id": "a953ec53-4514-4650-bd54-33f93b27e6d4",
   "metadata": {},
   "outputs": [
    {
     "data": {
      "text/plain": [
       "3"
      ]
     },
     "execution_count": 25,
     "metadata": {},
     "output_type": "execute_result"
    }
   ],
   "source": [
    "int(3.0)"
   ]
  },
  {
   "cell_type": "markdown",
   "id": "7f3bb6ad-b146-4567-ac3d-89056bfefc88",
   "metadata": {},
   "source": [
    "正の数値では切り捨てる"
   ]
  },
  {
   "cell_type": "code",
   "execution_count": 26,
   "id": "c4e19fa9-a98e-4713-8381-4c68aceaea7d",
   "metadata": {},
   "outputs": [
    {
     "data": {
      "text/plain": [
       "3"
      ]
     },
     "execution_count": 26,
     "metadata": {},
     "output_type": "execute_result"
    }
   ],
   "source": [
    "int(3.8)"
   ]
  },
  {
   "cell_type": "code",
   "execution_count": 27,
   "id": "a85b174f-e305-4a4d-b546-c6a2c5aad85f",
   "metadata": {},
   "outputs": [
    {
     "data": {
      "text/plain": [
       "-1"
      ]
     },
     "execution_count": 27,
     "metadata": {},
     "output_type": "execute_result"
    }
   ],
   "source": [
    "int(-1)"
   ]
  },
  {
   "cell_type": "markdown",
   "id": "6cd0bcc6-8f69-4655-b48c-b88912996b6e",
   "metadata": {},
   "source": [
    "一方、負の数値では切り上げる"
   ]
  },
  {
   "cell_type": "code",
   "execution_count": 28,
   "id": "09f15104-b0fc-4517-bac8-b6340d71e357",
   "metadata": {},
   "outputs": [
    {
     "data": {
      "text/plain": [
       "-1"
      ]
     },
     "execution_count": 28,
     "metadata": {},
     "output_type": "execute_result"
    }
   ],
   "source": [
    "int(-1.2)"
   ]
  },
  {
   "cell_type": "markdown",
   "id": "f470573e-f22b-46b6-8f8f-67d613707bc6",
   "metadata": {},
   "source": [
    "補足: `math.floor()` 関数との違いに注意！"
   ]
  },
  {
   "cell_type": "code",
   "execution_count": 29,
   "id": "3cb380e3-3144-4643-a5f2-55f128ce0adb",
   "metadata": {},
   "outputs": [
    {
     "data": {
      "text/plain": [
       "-2"
      ]
     },
     "execution_count": 29,
     "metadata": {},
     "output_type": "execute_result"
    }
   ],
   "source": [
    "import math\n",
    "\n",
    "math.floor(-1.2)"
   ]
  },
  {
   "cell_type": "markdown",
   "id": "97112f37-bd65-43bd-9d2f-a6cae9139ce7",
   "metadata": {},
   "source": [
    "`float()` 関数"
   ]
  },
  {
   "cell_type": "code",
   "execution_count": 30,
   "id": "b6a69480-7912-4d8c-be7f-2cca14879bc1",
   "metadata": {},
   "outputs": [
    {
     "data": {
      "text/plain": [
       "3.0"
      ]
     },
     "execution_count": 30,
     "metadata": {},
     "output_type": "execute_result"
    }
   ],
   "source": [
    "float(3)"
   ]
  },
  {
   "cell_type": "markdown",
   "id": "721f984c-3151-4851-8be3-c643d52ca303",
   "metadata": {},
   "source": [
    "### Working with Fractions\n",
    "\n",
    "分数 $3 / 4$"
   ]
  },
  {
   "cell_type": "code",
   "execution_count": 31,
   "id": "3ecb91dd-513a-4bee-8db7-bbcd75c254a6",
   "metadata": {},
   "outputs": [
    {
     "data": {
      "text/plain": [
       "Fraction(3, 4)"
      ]
     },
     "execution_count": 31,
     "metadata": {},
     "output_type": "execute_result"
    }
   ],
   "source": [
    "from fractions import Fraction\n",
    "\n",
    "f = Fraction(3, 4)\n",
    "f"
   ]
  },
  {
   "cell_type": "code",
   "execution_count": 32,
   "id": "64eaf7b0-3ad4-496a-9e2b-f1d4672070a6",
   "metadata": {},
   "outputs": [
    {
     "data": {
      "text/plain": [
       "3.25"
      ]
     },
     "execution_count": 32,
     "metadata": {},
     "output_type": "execute_result"
    }
   ],
   "source": [
    "f + 1 + 1.5"
   ]
  },
  {
   "cell_type": "code",
   "execution_count": 33,
   "id": "0d8be6a4-232b-4267-bed7-67ae17ead643",
   "metadata": {},
   "outputs": [
    {
     "data": {
      "text/plain": [
       "Fraction(2, 1)"
      ]
     },
     "execution_count": 33,
     "metadata": {},
     "output_type": "execute_result"
    }
   ],
   "source": [
    "f + 1 + Fraction(1, 4)"
   ]
  },
  {
   "cell_type": "code",
   "execution_count": 34,
   "id": "7290d66b-3a90-4145-a653-3297f41a51fd",
   "metadata": {},
   "outputs": [
    {
     "data": {
      "text/plain": [
       "Fraction(1, 1)"
      ]
     },
     "execution_count": 34,
     "metadata": {},
     "output_type": "execute_result"
    }
   ],
   "source": [
    "f + Fraction(1, 4)"
   ]
  },
  {
   "cell_type": "code",
   "execution_count": 35,
   "id": "2cca0550-e227-4547-85c6-9041e7647669",
   "metadata": {},
   "outputs": [
    {
     "data": {
      "text/plain": [
       "True"
      ]
     },
     "execution_count": 35,
     "metadata": {},
     "output_type": "execute_result"
    }
   ],
   "source": [
    "f < Fraction(4, 5)"
   ]
  },
  {
   "cell_type": "markdown",
   "id": "939b9207-7ce6-41fe-b6fc-1435fa9bf092",
   "metadata": {},
   "source": [
    "### Complex Numbers"
   ]
  },
  {
   "cell_type": "code",
   "execution_count": 36,
   "id": "d959b853-83dc-464a-9ce8-76c5c1569bd3",
   "metadata": {},
   "outputs": [
    {
     "data": {
      "text/plain": [
       "complex"
      ]
     },
     "execution_count": 36,
     "metadata": {},
     "output_type": "execute_result"
    }
   ],
   "source": [
    "a = 2 + 3j\n",
    "type(a)"
   ]
  },
  {
   "cell_type": "code",
   "execution_count": 37,
   "id": "5c45dc78-8572-4fe0-af1e-fd8dbb48d0a6",
   "metadata": {},
   "outputs": [
    {
     "data": {
      "text/plain": [
       "complex"
      ]
     },
     "execution_count": 37,
     "metadata": {},
     "output_type": "execute_result"
    }
   ],
   "source": [
    "a = complex(2, 3)\n",
    "type(a)"
   ]
  },
  {
   "cell_type": "code",
   "execution_count": 38,
   "id": "e3efd4b5-bc90-416c-981b-8821f8804da0",
   "metadata": {},
   "outputs": [
    {
     "data": {
      "text/plain": [
       "(5+6j)"
      ]
     },
     "execution_count": 38,
     "metadata": {},
     "output_type": "execute_result"
    }
   ],
   "source": [
    "b = 3 + 3j\n",
    "a + b"
   ]
  },
  {
   "cell_type": "code",
   "execution_count": 39,
   "id": "c6c05be9-9a70-4164-a073-46c34c380e58",
   "metadata": {},
   "outputs": [
    {
     "data": {
      "text/plain": [
       "(-1+0j)"
      ]
     },
     "execution_count": 39,
     "metadata": {},
     "output_type": "execute_result"
    }
   ],
   "source": [
    "a - b"
   ]
  },
  {
   "cell_type": "code",
   "execution_count": 40,
   "id": "e276007e-72a4-4dcf-8715-ebc62905309f",
   "metadata": {},
   "outputs": [
    {
     "data": {
      "text/plain": [
       "(-3+15j)"
      ]
     },
     "execution_count": 40,
     "metadata": {},
     "output_type": "execute_result"
    }
   ],
   "source": [
    "a * b"
   ]
  },
  {
   "cell_type": "code",
   "execution_count": 41,
   "id": "e51cb103-fc8a-48b8-b1f0-e3f75473f22d",
   "metadata": {},
   "outputs": [
    {
     "data": {
      "text/plain": [
       "(0.8333333333333334+0.16666666666666666j)"
      ]
     },
     "execution_count": 41,
     "metadata": {},
     "output_type": "execute_result"
    }
   ],
   "source": [
    "a / b"
   ]
  },
  {
   "cell_type": "code",
   "execution_count": 42,
   "id": "2c59b79a-4d30-4e7e-8b93-fa1e7331d8d5",
   "metadata": {},
   "outputs": [
    {
     "data": {
      "text/plain": [
       "2.0"
      ]
     },
     "execution_count": 42,
     "metadata": {},
     "output_type": "execute_result"
    }
   ],
   "source": [
    "a.real"
   ]
  },
  {
   "cell_type": "code",
   "execution_count": 43,
   "id": "cf988457-9204-4999-b0a7-b3e333e64835",
   "metadata": {},
   "outputs": [
    {
     "data": {
      "text/plain": [
       "3.0"
      ]
     },
     "execution_count": 43,
     "metadata": {},
     "output_type": "execute_result"
    }
   ],
   "source": [
    "a.imag"
   ]
  },
  {
   "cell_type": "code",
   "execution_count": 44,
   "id": "a374ee4a-632b-4b36-a8eb-a7c6e96a91d9",
   "metadata": {},
   "outputs": [
    {
     "data": {
      "text/plain": [
       "(2-3j)"
      ]
     },
     "execution_count": 44,
     "metadata": {},
     "output_type": "execute_result"
    }
   ],
   "source": [
    "a.conjugate()"
   ]
  },
  {
   "cell_type": "code",
   "execution_count": 45,
   "id": "d4569c54-6e34-4094-b29d-dd7dd8ccf39f",
   "metadata": {},
   "outputs": [
    {
     "data": {
      "text/plain": [
       "3.605551275463989"
      ]
     },
     "execution_count": 45,
     "metadata": {},
     "output_type": "execute_result"
    }
   ],
   "source": [
    "(a.real ** 2 + a.imag ** 2) ** (1 / 2)"
   ]
  },
  {
   "cell_type": "code",
   "execution_count": 46,
   "id": "52248904-e3c9-481f-9423-a8b3b4e3e81e",
   "metadata": {},
   "outputs": [
    {
     "data": {
      "text/plain": [
       "3.605551275463989"
      ]
     },
     "execution_count": 46,
     "metadata": {},
     "output_type": "execute_result"
    }
   ],
   "source": [
    "abs(a)"
   ]
  },
  {
   "cell_type": "markdown",
   "id": "a6890c99-5353-4cc5-ab08-273bcd2513de",
   "metadata": {},
   "source": [
    "わずかに誤差が生まれるが $\\sqrt{-1} (= i)$ も計算できる"
   ]
  },
  {
   "cell_type": "code",
   "execution_count": 47,
   "id": "97bf750c-82a4-4603-afdc-a25726fcea86",
   "metadata": {},
   "outputs": [
    {
     "data": {
      "text/plain": [
       "(6.123233995736766e-17+1j)"
      ]
     },
     "execution_count": 47,
     "metadata": {},
     "output_type": "execute_result"
    }
   ],
   "source": [
    "(-1) ** (1 / 2)"
   ]
  },
  {
   "cell_type": "code",
   "execution_count": 48,
   "id": "67d2e3a2-4dfc-4e5e-912a-aab3fc69b55d",
   "metadata": {},
   "outputs": [
    {
     "data": {
      "text/plain": [
       "(0.5000000000000001+0.8660254037844386j)"
      ]
     },
     "execution_count": 48,
     "metadata": {},
     "output_type": "execute_result"
    }
   ],
   "source": [
    "(-1) ** (1 / 3)"
   ]
  },
  {
   "cell_type": "markdown",
   "id": "8d4299ab-adc3-405f-988c-364158eb67f4",
   "metadata": {},
   "source": [
    "## Getting User Input\n",
    "\n",
    "- `input()` 関数\n",
    "- 文字列\n",
    "- **`int()` 関数: 文字列のときは「整数」以外を与えると例外発生**\n",
    "- 例外処理"
   ]
  },
  {
   "cell_type": "code",
   "execution_count": 49,
   "id": "3625b0db-b65e-4993-b61e-54a5e958cefc",
   "metadata": {},
   "outputs": [
    {
     "name": "stdin",
     "output_type": "stream",
     "text": [
      " 1\n"
     ]
    }
   ],
   "source": [
    "a = input()"
   ]
  },
  {
   "cell_type": "code",
   "execution_count": 50,
   "id": "a271228a-8e5d-4563-b886-5c92032f426d",
   "metadata": {},
   "outputs": [
    {
     "data": {
      "text/plain": [
       "'1'"
      ]
     },
     "execution_count": 50,
     "metadata": {},
     "output_type": "execute_result"
    }
   ],
   "source": [
    "a"
   ]
  },
  {
   "cell_type": "code",
   "execution_count": 51,
   "id": "40028b69-b58f-48f5-977b-cc325b67263a",
   "metadata": {},
   "outputs": [
    {
     "data": {
      "text/plain": [
       "'a string'"
      ]
     },
     "execution_count": 51,
     "metadata": {},
     "output_type": "execute_result"
    }
   ],
   "source": [
    "\"a string\""
   ]
  },
  {
   "cell_type": "code",
   "execution_count": 52,
   "id": "b1e0bef5-81ac-47a4-a91b-1c91d7e4a4bb",
   "metadata": {},
   "outputs": [
    {
     "data": {
      "text/plain": [
       "2"
      ]
     },
     "execution_count": 52,
     "metadata": {},
     "output_type": "execute_result"
    }
   ],
   "source": [
    "a = \"1\"\n",
    "int(a) + 1"
   ]
  },
  {
   "cell_type": "code",
   "execution_count": 53,
   "id": "a12c80fe-bf09-4917-a2fc-d2b64541a68e",
   "metadata": {},
   "outputs": [
    {
     "data": {
      "text/plain": [
       "2.0"
      ]
     },
     "execution_count": 53,
     "metadata": {},
     "output_type": "execute_result"
    }
   ],
   "source": [
    "float(a) + 1.0"
   ]
  },
  {
   "cell_type": "markdown",
   "id": "da0ab92a-d200-40b6-8745-986d944fdfc2",
   "metadata": {},
   "source": [
    "**注意**: 文字列では的確な値を与えないと例外が発生する！"
   ]
  },
  {
   "cell_type": "code",
   "execution_count": 54,
   "id": "4d8cb89f-61ac-4a48-9573-acf7a5fcbf2c",
   "metadata": {},
   "outputs": [
    {
     "ename": "ValueError",
     "evalue": "invalid literal for int() with base 10: '1.0'",
     "output_type": "error",
     "traceback": [
      "\u001b[0;31m---------------------------------------------------------------------------\u001b[0m",
      "\u001b[0;31mValueError\u001b[0m                                Traceback (most recent call last)",
      "\u001b[0;32m/tmp/ipykernel_130/875064834.py\u001b[0m in \u001b[0;36m<module>\u001b[0;34m\u001b[0m\n\u001b[0;32m----> 1\u001b[0;31m \u001b[0mint\u001b[0m\u001b[0;34m(\u001b[0m\u001b[0;34m\"1.0\"\u001b[0m\u001b[0;34m)\u001b[0m\u001b[0;34m\u001b[0m\u001b[0;34m\u001b[0m\u001b[0m\n\u001b[0m",
      "\u001b[0;31mValueError\u001b[0m: invalid literal for int() with base 10: '1.0'"
     ]
    }
   ],
   "source": [
    "int(\"1.0\")"
   ]
  },
  {
   "cell_type": "code",
   "execution_count": 55,
   "id": "c6ce3ea6-7a0c-4605-a798-566eab842d16",
   "metadata": {},
   "outputs": [
    {
     "ename": "ValueError",
     "evalue": "could not convert string to float: '3/4'",
     "output_type": "error",
     "traceback": [
      "\u001b[0;31m---------------------------------------------------------------------------\u001b[0m",
      "\u001b[0;31mValueError\u001b[0m                                Traceback (most recent call last)",
      "\u001b[0;32m/tmp/ipykernel_130/4050790692.py\u001b[0m in \u001b[0;36m<module>\u001b[0;34m\u001b[0m\n\u001b[0;32m----> 1\u001b[0;31m \u001b[0mfloat\u001b[0m\u001b[0;34m(\u001b[0m\u001b[0;34m\"3/4\"\u001b[0m\u001b[0;34m)\u001b[0m\u001b[0;34m\u001b[0m\u001b[0;34m\u001b[0m\u001b[0m\n\u001b[0m",
      "\u001b[0;31mValueError\u001b[0m: could not convert string to float: '3/4'"
     ]
    }
   ],
   "source": [
    "float(\"3/4\")"
   ]
  },
  {
   "cell_type": "markdown",
   "id": "410a3d92-31f0-4741-8fa2-3f85dfd8969b",
   "metadata": {},
   "source": [
    "### Handling Exceptions and Invalid Input"
   ]
  },
  {
   "cell_type": "code",
   "execution_count": 57,
   "id": "f1496255-a34b-4d45-8b0f-5e06e9223eea",
   "metadata": {},
   "outputs": [
    {
     "name": "stdin",
     "output_type": "stream",
     "text": [
      "Enter a number:  3/4\n"
     ]
    },
    {
     "name": "stdout",
     "output_type": "stream",
     "text": [
      "You entered an invalid number\n"
     ]
    }
   ],
   "source": [
    "try:\n",
    "    a = float(input(\"Enter a number: \"))\n",
    "except ValueError:\n",
    "    print(\"You entered an invalid number\")"
   ]
  },
  {
   "cell_type": "code",
   "execution_count": 58,
   "id": "e34fda83-1094-4683-8bdc-92f364015514",
   "metadata": {},
   "outputs": [
    {
     "data": {
      "text/plain": [
       "False"
      ]
     },
     "execution_count": 58,
     "metadata": {},
     "output_type": "execute_result"
    }
   ],
   "source": [
    "1.1 .is_integer()"
   ]
  },
  {
   "cell_type": "code",
   "execution_count": 59,
   "id": "deb11012-9d93-4a31-aa4d-ada4a5003088",
   "metadata": {},
   "outputs": [
    {
     "data": {
      "text/plain": [
       "True"
      ]
     },
     "execution_count": 59,
     "metadata": {},
     "output_type": "execute_result"
    }
   ],
   "source": [
    "1.0 .is_integer()"
   ]
  },
  {
   "cell_type": "markdown",
   "id": "eb3050ca-070e-46b6-b9dc-163039ed74c5",
   "metadata": {},
   "source": [
    "### Fractions and Complex Numbers as Input"
   ]
  },
  {
   "cell_type": "code",
   "execution_count": 60,
   "id": "fdd436cd-73f1-4301-bc05-0a5a9bf91cca",
   "metadata": {},
   "outputs": [
    {
     "data": {
      "text/plain": [
       "Fraction(3, 4)"
      ]
     },
     "execution_count": 60,
     "metadata": {},
     "output_type": "execute_result"
    }
   ],
   "source": [
    "Fraction(\"3/4\")"
   ]
  },
  {
   "cell_type": "markdown",
   "id": "ba51b207-bf63-4f6e-b42d-3e29c9b31b0c",
   "metadata": {},
   "source": [
    "分母が $0$ だと、例外 `ZeroDivisionError` が発生する。"
   ]
  },
  {
   "cell_type": "code",
   "execution_count": 61,
   "id": "c314cdec-b013-481a-8801-166e64526ece",
   "metadata": {},
   "outputs": [
    {
     "ename": "ZeroDivisionError",
     "evalue": "Fraction(3, 0)",
     "output_type": "error",
     "traceback": [
      "\u001b[0;31m---------------------------------------------------------------------------\u001b[0m",
      "\u001b[0;31mZeroDivisionError\u001b[0m                         Traceback (most recent call last)",
      "\u001b[0;32m/tmp/ipykernel_130/2122406444.py\u001b[0m in \u001b[0;36m<module>\u001b[0;34m\u001b[0m\n\u001b[0;32m----> 1\u001b[0;31m \u001b[0mFraction\u001b[0m\u001b[0;34m(\u001b[0m\u001b[0;34m\"3/0\"\u001b[0m\u001b[0;34m)\u001b[0m\u001b[0;34m\u001b[0m\u001b[0;34m\u001b[0m\u001b[0m\n\u001b[0m",
      "\u001b[0;32m/usr/local/lib/python3.10/fractions.py\u001b[0m in \u001b[0;36m__new__\u001b[0;34m(cls, numerator, denominator, _normalize)\u001b[0m\n\u001b[1;32m    154\u001b[0m \u001b[0;34m\u001b[0m\u001b[0m\n\u001b[1;32m    155\u001b[0m         \u001b[0;32mif\u001b[0m \u001b[0mdenominator\u001b[0m \u001b[0;34m==\u001b[0m \u001b[0;36m0\u001b[0m\u001b[0;34m:\u001b[0m\u001b[0;34m\u001b[0m\u001b[0;34m\u001b[0m\u001b[0m\n\u001b[0;32m--> 156\u001b[0;31m             \u001b[0;32mraise\u001b[0m \u001b[0mZeroDivisionError\u001b[0m\u001b[0;34m(\u001b[0m\u001b[0;34m'Fraction(%s, 0)'\u001b[0m \u001b[0;34m%\u001b[0m \u001b[0mnumerator\u001b[0m\u001b[0;34m)\u001b[0m\u001b[0;34m\u001b[0m\u001b[0;34m\u001b[0m\u001b[0m\n\u001b[0m\u001b[1;32m    157\u001b[0m         \u001b[0;32mif\u001b[0m \u001b[0m_normalize\u001b[0m\u001b[0;34m:\u001b[0m\u001b[0;34m\u001b[0m\u001b[0;34m\u001b[0m\u001b[0m\n\u001b[1;32m    158\u001b[0m             \u001b[0mg\u001b[0m \u001b[0;34m=\u001b[0m \u001b[0mmath\u001b[0m\u001b[0;34m.\u001b[0m\u001b[0mgcd\u001b[0m\u001b[0;34m(\u001b[0m\u001b[0mnumerator\u001b[0m\u001b[0;34m,\u001b[0m \u001b[0mdenominator\u001b[0m\u001b[0;34m)\u001b[0m\u001b[0;34m\u001b[0m\u001b[0;34m\u001b[0m\u001b[0m\n",
      "\u001b[0;31mZeroDivisionError\u001b[0m: Fraction(3, 0)"
     ]
    }
   ],
   "source": [
    "Fraction(\"3/0\")"
   ]
  },
  {
   "cell_type": "code",
   "execution_count": 62,
   "id": "22b85865-a78b-465d-9ac6-38a7c3a2a39b",
   "metadata": {},
   "outputs": [
    {
     "name": "stdin",
     "output_type": "stream",
     "text": [
      "Enter a fraction:  3/0\n"
     ]
    },
    {
     "name": "stdout",
     "output_type": "stream",
     "text": [
      "Invalid fraction\n"
     ]
    }
   ],
   "source": [
    "try:\n",
    "    a = Fraction(input(\"Enter a fraction: \"))\n",
    "except ZeroDivisionError:\n",
    "    print(\"Invalid fraction\")"
   ]
  },
  {
   "cell_type": "code",
   "execution_count": 63,
   "id": "f7233218-850a-4f14-b75a-16bd9079ec94",
   "metadata": {},
   "outputs": [
    {
     "ename": "ValueError",
     "evalue": "Invalid literal for Fraction: '1.0/3.0'",
     "output_type": "error",
     "traceback": [
      "\u001b[0;31m---------------------------------------------------------------------------\u001b[0m",
      "\u001b[0;31mValueError\u001b[0m                                Traceback (most recent call last)",
      "\u001b[0;32m/tmp/ipykernel_130/1962162266.py\u001b[0m in \u001b[0;36m<module>\u001b[0;34m\u001b[0m\n\u001b[0;32m----> 1\u001b[0;31m \u001b[0mFraction\u001b[0m\u001b[0;34m(\u001b[0m\u001b[0;34m\"1.0/3.0\"\u001b[0m\u001b[0;34m)\u001b[0m\u001b[0;34m\u001b[0m\u001b[0;34m\u001b[0m\u001b[0m\n\u001b[0m",
      "\u001b[0;32m/usr/local/lib/python3.10/fractions.py\u001b[0m in \u001b[0;36m__new__\u001b[0;34m(cls, numerator, denominator, _normalize)\u001b[0m\n\u001b[1;32m    113\u001b[0m                 \u001b[0mm\u001b[0m \u001b[0;34m=\u001b[0m \u001b[0m_RATIONAL_FORMAT\u001b[0m\u001b[0;34m.\u001b[0m\u001b[0mmatch\u001b[0m\u001b[0;34m(\u001b[0m\u001b[0mnumerator\u001b[0m\u001b[0;34m)\u001b[0m\u001b[0;34m\u001b[0m\u001b[0;34m\u001b[0m\u001b[0m\n\u001b[1;32m    114\u001b[0m                 \u001b[0;32mif\u001b[0m \u001b[0mm\u001b[0m \u001b[0;32mis\u001b[0m \u001b[0;32mNone\u001b[0m\u001b[0;34m:\u001b[0m\u001b[0;34m\u001b[0m\u001b[0;34m\u001b[0m\u001b[0m\n\u001b[0;32m--> 115\u001b[0;31m                     raise ValueError('Invalid literal for Fraction: %r' %\n\u001b[0m\u001b[1;32m    116\u001b[0m                                      numerator)\n\u001b[1;32m    117\u001b[0m                 \u001b[0mnumerator\u001b[0m \u001b[0;34m=\u001b[0m \u001b[0mint\u001b[0m\u001b[0;34m(\u001b[0m\u001b[0mm\u001b[0m\u001b[0;34m.\u001b[0m\u001b[0mgroup\u001b[0m\u001b[0;34m(\u001b[0m\u001b[0;34m'num'\u001b[0m\u001b[0;34m)\u001b[0m \u001b[0;32mor\u001b[0m \u001b[0;34m'0'\u001b[0m\u001b[0;34m)\u001b[0m\u001b[0;34m\u001b[0m\u001b[0;34m\u001b[0m\u001b[0m\n",
      "\u001b[0;31mValueError\u001b[0m: Invalid literal for Fraction: '1.0/3.0'"
     ]
    }
   ],
   "source": [
    "Fraction(\"1.0/3.0\")"
   ]
  },
  {
   "cell_type": "code",
   "execution_count": 64,
   "id": "e84a2944-9fd9-4c28-bce1-16b061e1bb8b",
   "metadata": {},
   "outputs": [
    {
     "data": {
      "text/plain": [
       "(2+3j)"
      ]
     },
     "execution_count": 64,
     "metadata": {},
     "output_type": "execute_result"
    }
   ],
   "source": [
    "complex(\"2+3j\")"
   ]
  },
  {
   "cell_type": "markdown",
   "id": "872421d3-ed37-450f-b05b-7f614d0dfdc8",
   "metadata": {},
   "source": [
    "複素数ではスペースがあると、例外 `ValueError` が発生する。"
   ]
  },
  {
   "cell_type": "code",
   "execution_count": 65,
   "id": "47c09615-ca73-480c-ad7c-c96c75dcbea7",
   "metadata": {},
   "outputs": [
    {
     "ename": "ValueError",
     "evalue": "complex() arg is a malformed string",
     "output_type": "error",
     "traceback": [
      "\u001b[0;31m---------------------------------------------------------------------------\u001b[0m",
      "\u001b[0;31mValueError\u001b[0m                                Traceback (most recent call last)",
      "\u001b[0;32m/tmp/ipykernel_130/720168013.py\u001b[0m in \u001b[0;36m<module>\u001b[0;34m\u001b[0m\n\u001b[0;32m----> 1\u001b[0;31m \u001b[0mcomplex\u001b[0m\u001b[0;34m(\u001b[0m\u001b[0;34m\"2 + 3j\"\u001b[0m\u001b[0;34m)\u001b[0m\u001b[0;34m\u001b[0m\u001b[0;34m\u001b[0m\u001b[0m\n\u001b[0m",
      "\u001b[0;31mValueError\u001b[0m: complex() arg is a malformed string"
     ]
    }
   ],
   "source": [
    "complex(\"2 + 3j\")"
   ]
  },
  {
   "cell_type": "markdown",
   "id": "a2affe9c-366d-4fb1-ac0c-a0031950c5a7",
   "metadata": {},
   "source": [
    "## Writing Programs That Do the Math for you\n",
    "\n",
    "- 関数の定義と呼び出し\n",
    "- `for` 文と `range()` 関数\n",
    "- `if` 文\n",
    "- **`str.format()` 関数: 文字列に数値を挿入・小数点以下の桁数の指定など**\n",
    "\n",
    "関数の定義と呼び出し"
   ]
  },
  {
   "cell_type": "code",
   "execution_count": 66,
   "id": "62cc19e6-3ff4-4ff6-9855-e9cd3b9247c8",
   "metadata": {},
   "outputs": [],
   "source": [
    "def is_factor(a, b):\n",
    "    if b % a == 0:\n",
    "        return True\n",
    "    else:\n",
    "        return False"
   ]
  },
  {
   "cell_type": "code",
   "execution_count": 67,
   "id": "c00106ce-49cc-433c-b125-4e29f0c047bb",
   "metadata": {},
   "outputs": [
    {
     "data": {
      "text/plain": [
       "True"
      ]
     },
     "execution_count": 67,
     "metadata": {},
     "output_type": "execute_result"
    }
   ],
   "source": [
    "is_factor(4, 1024)"
   ]
  },
  {
   "cell_type": "markdown",
   "id": "79d0f219-8f89-4f75-a1fe-5184a683da4c",
   "metadata": {},
   "source": [
    "`for ... in` 文と `range()` 関数"
   ]
  },
  {
   "cell_type": "code",
   "execution_count": 68,
   "id": "53c0604e-d59b-4865-87f6-66353892728e",
   "metadata": {},
   "outputs": [
    {
     "name": "stdout",
     "output_type": "stream",
     "text": [
      "1\n",
      "2\n",
      "3\n"
     ]
    }
   ],
   "source": [
    "for i in range(1, 4):\n",
    "    print(i)"
   ]
  },
  {
   "cell_type": "code",
   "execution_count": 69,
   "id": "7107c26d-d723-47f2-af25-b4aab6e9c5c6",
   "metadata": {},
   "outputs": [
    {
     "name": "stdout",
     "output_type": "stream",
     "text": [
      "0\n",
      "1\n",
      "2\n",
      "3\n",
      "4\n"
     ]
    }
   ],
   "source": [
    "for i in range(5):\n",
    "    print(i)"
   ]
  },
  {
   "cell_type": "code",
   "execution_count": 70,
   "id": "3a4b64d7-8e23-4382-8916-66d5d4afd086",
   "metadata": {},
   "outputs": [
    {
     "name": "stdout",
     "output_type": "stream",
     "text": [
      "1\n",
      "3\n",
      "5\n",
      "7\n",
      "9\n"
     ]
    }
   ],
   "source": [
    "for i in range(1, 10, 2):\n",
    "    print(i)"
   ]
  },
  {
   "cell_type": "markdown",
   "id": "e9e16e16-d221-41ee-ad90-93f6df36e792",
   "metadata": {},
   "source": [
    "ユーザ入力を受け付けて、整数の因数を出力する"
   ]
  },
  {
   "cell_type": "code",
   "execution_count": 71,
   "id": "ec237b70-9236-4368-8c94-709f65dbb8ff",
   "metadata": {},
   "outputs": [],
   "source": [
    "# Find the factors of an integer\n",
    "def factors(b):\n",
    "    for i in range(1, b + 1):\n",
    "        if b % i == 0:\n",
    "            print(i)\n",
    "\n",
    "\n",
    "# main() 関数の代わり\n",
    "def handle(b):\n",
    "    b = float(b)\n",
    "\n",
    "    if b > 0 and b.is_integer():\n",
    "        factors(int(b))\n",
    "    else:\n",
    "        print(\"Please enter a positive integer\")"
   ]
  },
  {
   "cell_type": "code",
   "execution_count": 72,
   "id": "841cfe53-b11a-457f-ac56-b80a1ec5d82b",
   "metadata": {},
   "outputs": [
    {
     "name": "stdout",
     "output_type": "stream",
     "text": [
      "1\n",
      "5\n",
      "25\n"
     ]
    }
   ],
   "source": [
    "handle(\"25.0\")"
   ]
  },
  {
   "cell_type": "code",
   "execution_count": 73,
   "id": "e5632c08-73ea-4929-83a9-2cda83070770",
   "metadata": {},
   "outputs": [
    {
     "name": "stdout",
     "output_type": "stream",
     "text": [
      "Please enter a positive integer\n"
     ]
    }
   ],
   "source": [
    "handle(\"2.5\")"
   ]
  },
  {
   "cell_type": "code",
   "execution_count": 74,
   "id": "c977cd54-56a6-4fa0-b14b-34dbb8c0f1f8",
   "metadata": {},
   "outputs": [
    {
     "name": "stdout",
     "output_type": "stream",
     "text": [
      "Please enter a positive integer\n"
     ]
    }
   ],
   "source": [
    "handle(\"-1\")"
   ]
  },
  {
   "cell_type": "markdown",
   "id": "a5672764-2f23-44e8-9ad2-8f05ec19d3fd",
   "metadata": {},
   "source": [
    "### Generating Multiplication Tables\n",
    "\n",
    "[str.format()](https://docs.python.org/3/library/stdtypes.html#str.format) 関数で、文字列に数値や文字列を挿入する。小数点以下の桁数の指定して、見た目を整形することもできる。"
   ]
  },
  {
   "cell_type": "code",
   "execution_count": 75,
   "id": "46e09339-2fa1-4ad6-8fd5-47b8059fba6a",
   "metadata": {},
   "outputs": [
    {
     "name": "stdout",
     "output_type": "stream",
     "text": [
      "At the grocery store, I bought some apples and bananas and grapes\n"
     ]
    }
   ],
   "source": [
    "item1 = \"apples\"\n",
    "item2 = \"bananas\"\n",
    "item3 = \"grapes\"\n",
    "print(\n",
    "    \"At the grocery store, I bought some {0} and {1} and {2}\".format(\n",
    "        item1, item2, item3\n",
    "    )\n",
    ")"
   ]
  },
  {
   "cell_type": "code",
   "execution_count": 76,
   "id": "b41ed23b-1c1c-4c69-a144-81a9b974bb43",
   "metadata": {},
   "outputs": [
    {
     "name": "stdout",
     "output_type": "stream",
     "text": [
      "Number 1: 1 Number 2: 3.578\n"
     ]
    }
   ],
   "source": [
    "print(\"Number 1: {0} Number 2: {1}\".format(1, 3.578))"
   ]
  },
  {
   "cell_type": "code",
   "execution_count": 77,
   "id": "0400d307-058d-4a9f-a72d-c9d5f458f990",
   "metadata": {},
   "outputs": [
    {
     "name": "stdout",
     "output_type": "stream",
     "text": [
      "5.0 x 1 = 5.0\n",
      "5.0 x 2 = 10.0\n",
      "5.0 x 3 = 15.0\n",
      "5.0 x 4 = 20.0\n",
      "5.0 x 5 = 25.0\n",
      "5.0 x 6 = 30.0\n",
      "5.0 x 7 = 35.0\n",
      "5.0 x 8 = 40.0\n",
      "5.0 x 9 = 45.0\n",
      "5.0 x 10 = 50.0\n"
     ]
    }
   ],
   "source": [
    "# Multiplication table printer\n",
    "def multi_table(a):\n",
    "    for i in range(1, 11):\n",
    "        print(\"{0} x {1} = {2}\".format(a, i, a * i))\n",
    "\n",
    "\n",
    "multi_table(5.0)"
   ]
  },
  {
   "cell_type": "code",
   "execution_count": 78,
   "id": "f96da85f-c469-4c6d-8612-591411756ef5",
   "metadata": {},
   "outputs": [
    {
     "data": {
      "text/plain": [
       "'1.25456'"
      ]
     },
     "execution_count": 78,
     "metadata": {},
     "output_type": "execute_result"
    }
   ],
   "source": [
    "\"{0}\".format(1.25456)"
   ]
  },
  {
   "cell_type": "markdown",
   "id": "f97027d4-326e-4409-93af-88cfbc4f18c1",
   "metadata": {},
   "source": [
    "小数点以下2桁まで出力する。四捨五入される。"
   ]
  },
  {
   "cell_type": "code",
   "execution_count": 79,
   "id": "9b41860f-bcd4-4ab9-a3df-98f7b9c6d4ef",
   "metadata": {},
   "outputs": [
    {
     "data": {
      "text/plain": [
       "'1.25'"
      ]
     },
     "execution_count": 79,
     "metadata": {},
     "output_type": "execute_result"
    }
   ],
   "source": [
    "\"{0:.2f}\".format(1.25456)"
   ]
  },
  {
   "cell_type": "code",
   "execution_count": 80,
   "id": "cbfdcce4-661d-4a52-8d3c-9bd52ecf632d",
   "metadata": {},
   "outputs": [
    {
     "data": {
      "text/plain": [
       "'1.26'"
      ]
     },
     "execution_count": 80,
     "metadata": {},
     "output_type": "execute_result"
    }
   ],
   "source": [
    "\"{0:.2f}\".format(1.25556)"
   ]
  },
  {
   "cell_type": "code",
   "execution_count": 81,
   "id": "583cd1f6-ff53-4374-9ad4-91b37069e686",
   "metadata": {},
   "outputs": [
    {
     "data": {
      "text/plain": [
       "'1.00'"
      ]
     },
     "execution_count": 81,
     "metadata": {},
     "output_type": "execute_result"
    }
   ],
   "source": [
    "\"{0:.2f}\".format(1)"
   ]
  },
  {
   "cell_type": "markdown",
   "id": "08ccd2ee-7125-4365-b731-b0f2a91bb8b6",
   "metadata": {},
   "source": [
    "### Converting Units of Measurement\n",
    "\n",
    "インチ → メートル"
   ]
  },
  {
   "cell_type": "code",
   "execution_count": 82,
   "id": "e48526a6-29cc-46a4-ac79-be80f7ec9d7d",
   "metadata": {},
   "outputs": [
    {
     "data": {
      "text/plain": [
       "0.6476999999999999"
      ]
     },
     "execution_count": 82,
     "metadata": {},
     "output_type": "execute_result"
    }
   ],
   "source": [
    "inch = 25.5\n",
    "(inch * 2.54) / 100"
   ]
  },
  {
   "cell_type": "markdown",
   "id": "e8e5e0ad-79b6-4ae8-888b-4827fd2bd1e6",
   "metadata": {},
   "source": [
    "マイル → キロメートル"
   ]
  },
  {
   "cell_type": "code",
   "execution_count": 83,
   "id": "a15ea6c8-6e8c-4ee4-952c-e0e202baad3a",
   "metadata": {},
   "outputs": [
    {
     "data": {
      "text/plain": [
       "1045.85"
      ]
     },
     "execution_count": 83,
     "metadata": {},
     "output_type": "execute_result"
    }
   ],
   "source": [
    "mile = 650\n",
    "mile * 1.609"
   ]
  },
  {
   "cell_type": "markdown",
   "id": "715c78ed-5010-43b3-957e-8f564608525a",
   "metadata": {},
   "source": [
    "華氏 → 摂氏"
   ]
  },
  {
   "cell_type": "code",
   "execution_count": 84,
   "id": "1459baf4-bbbd-421d-b462-8ad605889a15",
   "metadata": {},
   "outputs": [
    {
     "data": {
      "text/plain": [
       "37.0"
      ]
     },
     "execution_count": 84,
     "metadata": {},
     "output_type": "execute_result"
    }
   ],
   "source": [
    "f = 98.6\n",
    "(f - 32) * 5 / 9"
   ]
  },
  {
   "cell_type": "markdown",
   "id": "98e7c7c1-0cfa-470a-8690-8960e3ac36f1",
   "metadata": {},
   "source": [
    "摂氏 → 華氏"
   ]
  },
  {
   "cell_type": "code",
   "execution_count": 85,
   "id": "4db1e3ea-af5c-44de-85bd-92a3b43378b0",
   "metadata": {},
   "outputs": [
    {
     "data": {
      "text/plain": [
       "98.6"
      ]
     },
     "execution_count": 85,
     "metadata": {},
     "output_type": "execute_result"
    }
   ],
   "source": [
    "c = 37\n",
    "c * 9 / 5 + 32"
   ]
  },
  {
   "cell_type": "code",
   "execution_count": 86,
   "id": "b61ac567-403f-4066-bf00-b6845281ceb8",
   "metadata": {},
   "outputs": [],
   "source": [
    "\"\"\"\n",
    "Unit converter: Miles and Kilometers\n",
    "\"\"\"\n",
    "\n",
    "\n",
    "def print_menu():\n",
    "    print(\"1. Kilometers to Miles\")\n",
    "    print(\"2. Miles to Kilometers\")\n",
    "\n",
    "\n",
    "def km_miles():\n",
    "    km = float(input(\"Enter distance in kilometers: \"))\n",
    "    miles = km / 1.609\n",
    "\n",
    "    print(\"Distance in miles: {0}\".format(miles))\n",
    "\n",
    "\n",
    "def miles_km():\n",
    "    miles = float(input(\"Enter distance in miles: \"))\n",
    "    km = miles * 1.609\n",
    "\n",
    "    print(\"Distance in kilometers: {0}\".format(km))\n",
    "\n",
    "\n",
    "def handle():\n",
    "    print_menu()\n",
    "    choice = input(\"Which conversion would you like to do?: \")\n",
    "\n",
    "    if choice == \"1\":\n",
    "        km_miles()\n",
    "    elif choice == \"2\":\n",
    "        miles_km()"
   ]
  },
  {
   "cell_type": "code",
   "execution_count": 87,
   "id": "d68f0245-e4e6-4f3b-bba7-cd17f8ce9d13",
   "metadata": {},
   "outputs": [
    {
     "name": "stdout",
     "output_type": "stream",
     "text": [
      "1. Kilometers to Miles\n",
      "2. Miles to Kilometers\n"
     ]
    },
    {
     "name": "stdin",
     "output_type": "stream",
     "text": [
      "Which conversion would you like to do?:  2\n",
      "Enter distance in miles:  100\n"
     ]
    },
    {
     "name": "stdout",
     "output_type": "stream",
     "text": [
      "Distance in kilometers: 160.9\n"
     ]
    }
   ],
   "source": [
    "handle()"
   ]
  },
  {
   "cell_type": "markdown",
   "id": "11779962-1c10-40a8-b7be-b65295412b07",
   "metadata": {},
   "source": [
    "### Finding the Roots of a Quadratic Equation"
   ]
  },
  {
   "cell_type": "code",
   "execution_count": 88,
   "id": "73d5aa6c-8373-4a0b-a217-4a27ca2542a6",
   "metadata": {},
   "outputs": [
    {
     "data": {
      "text/plain": [
       "0.0"
      ]
     },
     "execution_count": 88,
     "metadata": {},
     "output_type": "execute_result"
    }
   ],
   "source": [
    "a, b, c = 1, 2, 1\n",
    "D = (b ** 2 - 4 * a * c) ** 0.5\n",
    "D"
   ]
  },
  {
   "cell_type": "code",
   "execution_count": 89,
   "id": "ed3d00e7-083b-4995-a50d-ed92f1edd27d",
   "metadata": {},
   "outputs": [
    {
     "data": {
      "text/plain": [
       "-1.0"
      ]
     },
     "execution_count": 89,
     "metadata": {},
     "output_type": "execute_result"
    }
   ],
   "source": [
    "x_1 = (-b + D) / (2 * a * c)\n",
    "x_1"
   ]
  },
  {
   "cell_type": "code",
   "execution_count": 90,
   "id": "0954b114-f5c1-42bb-b2b7-5c5ebfcd34cc",
   "metadata": {},
   "outputs": [
    {
     "data": {
      "text/plain": [
       "-1.0"
      ]
     },
     "execution_count": 90,
     "metadata": {},
     "output_type": "execute_result"
    }
   ],
   "source": [
    "x_2 = (-b - D) / (2 * a * c)\n",
    "x_2"
   ]
  },
  {
   "cell_type": "code",
   "execution_count": 91,
   "id": "b5e7ffc1-75cf-4de8-afa9-148216e74e90",
   "metadata": {},
   "outputs": [],
   "source": [
    "# Quadratic equation root calculator\n",
    "def roots(a, b, c):\n",
    "    D = (b ** 2 - 4 * a * c) ** 0.5\n",
    "    x_1 = (-b + D) / (2 * a * c)\n",
    "    x_2 = (-b - D) / (2 * a * c)\n",
    "\n",
    "    print(\"x_1: {0}\".format(x_1))\n",
    "    print(\"x_2: {0}\".format(x_2))"
   ]
  },
  {
   "cell_type": "code",
   "execution_count": 92,
   "id": "c74af9f1-afc4-488f-a21c-56a3138c37aa",
   "metadata": {},
   "outputs": [
    {
     "name": "stdout",
     "output_type": "stream",
     "text": [
      "x_1: -1.0\n",
      "x_2: -1.0\n"
     ]
    }
   ],
   "source": [
    "roots(1, 2, 1)"
   ]
  },
  {
   "cell_type": "markdown",
   "id": "9ed64113-370e-40e7-bcaa-a3fbe01b6551",
   "metadata": {},
   "source": [
    "虚数解を持つ場合"
   ]
  },
  {
   "cell_type": "code",
   "execution_count": 93,
   "id": "b30a23c9-86a5-40be-b931-1ed52434a4fe",
   "metadata": {},
   "outputs": [
    {
     "name": "stdout",
     "output_type": "stream",
     "text": [
      "x_1: (-0.49999999999999994+0.8660254037844386j)\n",
      "x_2: (-0.5-0.8660254037844386j)\n"
     ]
    }
   ],
   "source": [
    "roots(1, 1, 1)"
   ]
  }
 ],
 "metadata": {
  "kernelspec": {
   "display_name": "Python 3 (ipykernel)",
   "language": "python",
   "name": "python3"
  },
  "language_info": {
   "codemirror_mode": {
    "name": "ipython",
    "version": 3
   },
   "file_extension": ".py",
   "mimetype": "text/x-python",
   "name": "python",
   "nbconvert_exporter": "python",
   "pygments_lexer": "ipython3",
   "version": "3.10.1"
  },
  "toc-autonumbering": false,
  "toc-showcode": false,
  "toc-showtags": false
 },
 "nbformat": 4,
 "nbformat_minor": 5
}
