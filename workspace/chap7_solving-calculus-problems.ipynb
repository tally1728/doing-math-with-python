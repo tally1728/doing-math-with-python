{
 "cells": [
  {
   "cell_type": "markdown",
   "id": "5d8cd883-a53f-427e-ba56-790e11b3f829",
   "metadata": {},
   "source": [
    "# Chapter 7: Solving Calculus Problems\n",
    "\n",
    "## What is a Function?\n",
    "\n",
    "標準ライブラリは数値計算する。"
   ]
  },
  {
   "cell_type": "code",
   "execution_count": 1,
   "id": "73525924-391d-468d-b597-02314a624ba5",
   "metadata": {},
   "outputs": [
    {
     "data": {
      "text/plain": [
       "1.0"
      ]
     },
     "execution_count": 1,
     "metadata": {},
     "output_type": "execute_result"
    }
   ],
   "source": [
    "import math\n",
    "\n",
    "math.sin(math.pi / 2)"
   ]
  },
  {
   "cell_type": "markdown",
   "id": "ede25cea-4ba3-43b6-8933-49496de31224",
   "metadata": {},
   "source": [
    "Sympy は数学的に厳密に計算してくれる。"
   ]
  },
  {
   "cell_type": "code",
   "execution_count": 2,
   "id": "ad11f9a9-884c-4745-9334-3fc64b00cca0",
   "metadata": {},
   "outputs": [
    {
     "data": {
      "text/latex": [
       "$\\displaystyle 1$"
      ],
      "text/plain": [
       "1"
      ]
     },
     "execution_count": 2,
     "metadata": {},
     "output_type": "execute_result"
    }
   ],
   "source": [
    "import sympy\n",
    "\n",
    "sympy.sin(sympy.pi / 2)"
   ]
  },
  {
   "cell_type": "code",
   "execution_count": 3,
   "id": "fade279f-60ad-4d81-be91-5b32b9a2f3e2",
   "metadata": {},
   "outputs": [
    {
     "data": {
      "text/latex": [
       "$\\displaystyle \\sin^{2}{\\left(\\theta \\right)} + \\cos^{2}{\\left(\\theta \\right)}$"
      ],
      "text/plain": [
       "sin(theta)**2 + cos(theta)**2"
      ]
     },
     "execution_count": 3,
     "metadata": {},
     "output_type": "execute_result"
    }
   ],
   "source": [
    "from sympy import Symbol\n",
    "\n",
    "theta = Symbol(\"theta\")\n",
    "\n",
    "exp = sympy.sin(theta) ** 2 + sympy.cos(theta) ** 2\n",
    "exp"
   ]
  },
  {
   "cell_type": "code",
   "execution_count": 4,
   "id": "8c1f8823-72f9-4127-afd9-e0b8276b4ed8",
   "metadata": {},
   "outputs": [
    {
     "data": {
      "text/latex": [
       "$\\displaystyle 1$"
      ],
      "text/plain": [
       "1"
      ]
     },
     "execution_count": 4,
     "metadata": {},
     "output_type": "execute_result"
    }
   ],
   "source": [
    "sympy.simplify(exp)"
   ]
  },
  {
   "cell_type": "markdown",
   "id": "ef84900f-92bf-42a8-9f73-59fbf282b854",
   "metadata": {},
   "source": [
    "## Assumptions in SymPy"
   ]
  },
  {
   "cell_type": "code",
   "execution_count": 5,
   "id": "310b271c-5788-4a0b-b1b6-feac3d36efcf",
   "metadata": {},
   "outputs": [
    {
     "name": "stdout",
     "output_type": "stream",
     "text": [
      "Assumption is valid\n"
     ]
    }
   ],
   "source": [
    "x = Symbol(\"x\", positive=True)\n",
    "if x + 1 > 0:\n",
    "    print(\"Assumption is valid\")"
   ]
  },
  {
   "cell_type": "markdown",
   "id": "1579d196-07df-4e15-9dd5-3bb9128088cb",
   "metadata": {},
   "source": [
    "## Finding the Limit of Functions\n",
    "\n",
    "`Sympy.Limit` による極限計算は遅延評価される。"
   ]
  },
  {
   "cell_type": "code",
   "execution_count": 6,
   "id": "692c50ac-c4c4-499d-9ca5-3b49633bb919",
   "metadata": {},
   "outputs": [
    {
     "data": {
      "text/latex": [
       "$\\displaystyle \\lim_{x \\to \\infty} \\frac{1}{x}$"
      ],
      "text/plain": [
       "Limit(1/x, x, oo, dir='-')"
      ]
     },
     "execution_count": 6,
     "metadata": {},
     "output_type": "execute_result"
    }
   ],
   "source": [
    "import sympy\n",
    "\n",
    "x = sympy.Symbol(\"x\")\n",
    "expr = sympy.Limit(1 / x, x, sympy.S.Infinity)\n",
    "expr"
   ]
  },
  {
   "cell_type": "code",
   "execution_count": 7,
   "id": "6527576e-82b2-456d-95fb-627047f89daf",
   "metadata": {},
   "outputs": [
    {
     "data": {
      "text/latex": [
       "$\\displaystyle 0$"
      ],
      "text/plain": [
       "0"
      ]
     },
     "execution_count": 7,
     "metadata": {},
     "output_type": "execute_result"
    }
   ],
   "source": [
    "expr.doit()"
   ]
  },
  {
   "cell_type": "markdown",
   "id": "d20ef4c2-da1d-4655-85f0-23041478411b",
   "metadata": {},
   "source": [
    "$\\lim_{x \\to 0^-} \\frac{1}{x}$"
   ]
  },
  {
   "cell_type": "code",
   "execution_count": 8,
   "id": "78388e84-59b4-4c70-8bd9-e6d6c3955fbd",
   "metadata": {},
   "outputs": [
    {
     "data": {
      "text/latex": [
       "$\\displaystyle -\\infty$"
      ],
      "text/plain": [
       "-oo"
      ]
     },
     "execution_count": 8,
     "metadata": {},
     "output_type": "execute_result"
    }
   ],
   "source": [
    "sympy.Limit(1 / x, x, 0, dir=\"-\").doit()"
   ]
  },
  {
   "cell_type": "markdown",
   "id": "3cd1357b-5784-4a55-8d7d-eb0880dc0d07",
   "metadata": {},
   "source": [
    "$\\lim_{x \\to 0^+} \\frac{1}{x}$"
   ]
  },
  {
   "cell_type": "code",
   "execution_count": 9,
   "id": "b6388d15-e178-42d7-a90f-f0fb4af5390e",
   "metadata": {},
   "outputs": [
    {
     "data": {
      "text/latex": [
       "$\\displaystyle \\infty$"
      ],
      "text/plain": [
       "oo"
      ]
     },
     "execution_count": 9,
     "metadata": {},
     "output_type": "execute_result"
    }
   ],
   "source": [
    "sympy.Limit(1 / x, x, 0, dir=\"+\").doit()"
   ]
  },
  {
   "cell_type": "markdown",
   "id": "cabb539e-6b78-4065-995e-6061de0e3496",
   "metadata": {},
   "source": [
    "$\\lim_{x \\to 0^+}\\left(\\frac{\\sin{\\left(x \\right)}}{x}\\right)$"
   ]
  },
  {
   "cell_type": "code",
   "execution_count": 10,
   "id": "a3c009e9-3c56-4523-bfb4-71698d04351b",
   "metadata": {},
   "outputs": [
    {
     "data": {
      "text/latex": [
       "$\\displaystyle 1$"
      ],
      "text/plain": [
       "1"
      ]
     },
     "execution_count": 10,
     "metadata": {},
     "output_type": "execute_result"
    }
   ],
   "source": [
    "sympy.Limit(sympy.sin(x) / x, x, 0).doit()"
   ]
  },
  {
   "cell_type": "markdown",
   "id": "c39cefd9-dd56-4b57-a8c8-2c8c855aa8b1",
   "metadata": {},
   "source": [
    "### Continuous Compound Interest"
   ]
  },
  {
   "cell_type": "code",
   "execution_count": 11,
   "id": "1be25731-18aa-4205-beb9-08b1899173cf",
   "metadata": {},
   "outputs": [
    {
     "data": {
      "text/latex": [
       "$\\displaystyle e$"
      ],
      "text/plain": [
       "E"
      ]
     },
     "execution_count": 11,
     "metadata": {},
     "output_type": "execute_result"
    }
   ],
   "source": [
    "import sympy\n",
    "\n",
    "n = sympy.Symbol(\"n\")\n",
    "\n",
    "sympy.Limit((1 + 1 / n) ** n, n, sympy.S.Infinity).doit()"
   ]
  },
  {
   "cell_type": "code",
   "execution_count": 12,
   "id": "be3323e3-6bab-4abd-9280-97c7f1cbac00",
   "metadata": {},
   "outputs": [
    {
     "data": {
      "text/latex": [
       "$\\displaystyle p e^{r t}$"
      ],
      "text/plain": [
       "p*exp(r*t)"
      ]
     },
     "execution_count": 12,
     "metadata": {},
     "output_type": "execute_result"
    }
   ],
   "source": [
    "n, p, r, t = sympy.symbols(\"n, p, r, t\")\n",
    "\n",
    "sympy.Limit(p * (1 + r / n) ** (n * t), n, sympy.S.Infinity).doit()"
   ]
  },
  {
   "cell_type": "markdown",
   "id": "200f2aa5-53cb-4bd6-9503-162517524c8a",
   "metadata": {},
   "source": [
    "### Instantaneous Rate of Change\n",
    "\n",
    "関数 $S(t) = 5t^2 + 2t + 8$ の微分を、定義どおりに極限値で求める。"
   ]
  },
  {
   "cell_type": "code",
   "execution_count": 13,
   "id": "88178711-9392-4328-83f9-1fc1fbc88d7a",
   "metadata": {},
   "outputs": [
    {
     "data": {
      "text/latex": [
       "$\\displaystyle 10 t + 2$"
      ],
      "text/plain": [
       "10*t + 2"
      ]
     },
     "execution_count": 13,
     "metadata": {},
     "output_type": "execute_result"
    }
   ],
   "source": [
    "from sympy import Limit, Symbol\n",
    "\n",
    "t = Symbol(\"t\")\n",
    "St = 5 * t ** 2 + 2 * t + 8\n",
    "\n",
    "delta_t = Symbol(\"delta_t\")\n",
    "\n",
    "Limit((St.subs({t: t + delta_t}) - St) / delta_t, delta_t, 0).doit()"
   ]
  },
  {
   "cell_type": "markdown",
   "id": "0537d4c5-7c7a-4e47-9fb3-38f2aa983442",
   "metadata": {},
   "source": [
    "## Finding the Derivative of Functions\n",
    "\n",
    "まずは一変数関数の微分から。"
   ]
  },
  {
   "cell_type": "code",
   "execution_count": 14,
   "id": "cfdb72a7-6eba-4d94-9506-beacf9862a20",
   "metadata": {},
   "outputs": [
    {
     "data": {
      "text/latex": [
       "$\\displaystyle \\frac{d}{d t} \\left(5 t^{2} + 2 t + 8\\right)$"
      ],
      "text/plain": [
       "Derivative(5*t**2 + 2*t + 8, t)"
      ]
     },
     "execution_count": 14,
     "metadata": {},
     "output_type": "execute_result"
    }
   ],
   "source": [
    "from sympy import Derivative, Symbol\n",
    "\n",
    "t = Symbol(\"t\")\n",
    "St = 5 * t ** 2 + 2 * t + 8\n",
    "\n",
    "d = Derivative(St, t)\n",
    "d"
   ]
  },
  {
   "cell_type": "code",
   "execution_count": 15,
   "id": "e7272467-7485-4c51-a876-d455588301c1",
   "metadata": {},
   "outputs": [
    {
     "data": {
      "text/latex": [
       "$\\displaystyle 10 t + 2$"
      ],
      "text/plain": [
       "10*t + 2"
      ]
     },
     "execution_count": 15,
     "metadata": {},
     "output_type": "execute_result"
    }
   ],
   "source": [
    "d.doit()"
   ]
  },
  {
   "cell_type": "code",
   "execution_count": 16,
   "id": "64cfbeaa-48ac-4152-9eb2-6437b3e7e8cf",
   "metadata": {},
   "outputs": [
    {
     "data": {
      "text/latex": [
       "$\\displaystyle 12$"
      ],
      "text/plain": [
       "12"
      ]
     },
     "execution_count": 16,
     "metadata": {},
     "output_type": "execute_result"
    }
   ],
   "source": [
    "d.doit().subs({t: 1})"
   ]
  },
  {
   "cell_type": "code",
   "execution_count": 17,
   "id": "c6121fce-ab82-43b3-aca0-9d88bf43f1e0",
   "metadata": {},
   "outputs": [
    {
     "data": {
      "text/latex": [
       "$\\displaystyle \\left(2 x + 1\\right) \\left(x^{3} + x^{2} + x\\right) + \\left(x^{2} + x\\right) \\left(3 x^{2} + 2 x + 1\\right)$"
      ],
      "text/plain": [
       "(2*x + 1)*(x**3 + x**2 + x) + (x**2 + x)*(3*x**2 + 2*x + 1)"
      ]
     },
     "execution_count": 17,
     "metadata": {},
     "output_type": "execute_result"
    }
   ],
   "source": [
    "from sympy import Derivative, Symbol\n",
    "\n",
    "x = Symbol(\"x\")\n",
    "f = (x ** 3 + x ** 2 + x) * (x ** 2 + x)\n",
    "\n",
    "Derivative(f, x).doit()"
   ]
  },
  {
   "cell_type": "markdown",
   "id": "73b0f848-64a3-4f23-83f7-56622acbcfd8",
   "metadata": {},
   "source": [
    "三角関数も対数関数も微分できる。"
   ]
  },
  {
   "cell_type": "code",
   "execution_count": 18,
   "id": "97649973-954b-4004-bc97-fe10645dda24",
   "metadata": {},
   "outputs": [
    {
     "data": {
      "text/latex": [
       "$\\displaystyle \\cos{\\left(x \\right)}$"
      ],
      "text/plain": [
       "cos(x)"
      ]
     },
     "execution_count": 18,
     "metadata": {},
     "output_type": "execute_result"
    }
   ],
   "source": [
    "f = sympy.sin(x)\n",
    "Derivative(f, x).doit()"
   ]
  },
  {
   "cell_type": "code",
   "execution_count": 19,
   "id": "09fd6009-c6b5-4d11-a0d3-7a4a1477f04f",
   "metadata": {},
   "outputs": [
    {
     "data": {
      "text/latex": [
       "$\\displaystyle \\frac{1}{x}$"
      ],
      "text/plain": [
       "1/x"
      ]
     },
     "execution_count": 19,
     "metadata": {},
     "output_type": "execute_result"
    }
   ],
   "source": [
    "f = sympy.log(x)\n",
    "Derivative(f, x).doit()"
   ]
  },
  {
   "cell_type": "markdown",
   "id": "9455c255-21ac-4435-aa68-68da302b9c6d",
   "metadata": {},
   "source": [
    "### Calculating Partial Derivatives"
   ]
  },
  {
   "cell_type": "code",
   "execution_count": 20,
   "id": "2fff02cc-15f6-4d0c-9283-aaaaa6d0ffb9",
   "metadata": {},
   "outputs": [
    {
     "data": {
      "text/latex": [
       "$\\displaystyle y^{2} + 2 y$"
      ],
      "text/plain": [
       "y**2 + 2*y"
      ]
     },
     "execution_count": 20,
     "metadata": {},
     "output_type": "execute_result"
    }
   ],
   "source": [
    "from sympy import Derivative, symbols\n",
    "\n",
    "x, y = symbols(\"x, y\")\n",
    "f = 2 * x * y + x * y ** 2\n",
    "\n",
    "Derivative(f, x).doit()"
   ]
  },
  {
   "cell_type": "markdown",
   "id": "b4e612c5-c702-4e76-8691-b27e8429bdcf",
   "metadata": {},
   "source": [
    "## Higher-Order Derivatives and Finding the Maxima and Minima"
   ]
  },
  {
   "cell_type": "code",
   "execution_count": 21,
   "id": "cec429ec-ec67-4859-a1a7-55b6236807e4",
   "metadata": {},
   "outputs": [
    {
     "data": {
      "image/png": "[encoded data removed]",
      "text/plain": [
       "<Figure size 432x288 with 1 Axes>"
      ]
     },
     "metadata": {
      "needs_background": "light"
     },
     "output_type": "display_data"
    },
    {
     "data": {
      "text/plain": [
       "<sympy.plotting.plot.Plot at 0x7f0bdab04e50>"
      ]
     },
     "execution_count": 21,
     "metadata": {},
     "output_type": "execute_result"
    }
   ],
   "source": [
    "import sympy\n",
    "from sympy.plotting import plot\n",
    "\n",
    "x = sympy.Symbol(\"x\")\n",
    "f = x ** 5 - 30 * x ** 3 + 50 * x\n",
    "\n",
    "plot(f, (x, -5, 5))"
   ]
  },
  {
   "cell_type": "markdown",
   "id": "f316e180-3e1b-4da4-bbfe-02af51ce93f5",
   "metadata": {},
   "source": [
    "一階微分でクリティカルポイントを求める。"
   ]
  },
  {
   "cell_type": "code",
   "execution_count": 22,
   "id": "adbdda4c-36eb-4eac-aeb1-c22fc92f9f02",
   "metadata": {},
   "outputs": [
    {
     "data": {
      "text/plain": [
       "[-sqrt(sqrt(71) + 9),\n",
       " -sqrt(9 - sqrt(71)),\n",
       " sqrt(9 - sqrt(71)),\n",
       " sqrt(sqrt(71) + 9)]"
      ]
     },
     "execution_count": 22,
     "metadata": {},
     "output_type": "execute_result"
    }
   ],
   "source": [
    "from sympy import Derivative, solve\n",
    "\n",
    "d1 = Derivative(f, x).doit()\n",
    "critical_points = solve(d1)\n",
    "critical_points.sort()\n",
    "critical_points"
   ]
  },
  {
   "cell_type": "code",
   "execution_count": 23,
   "id": "69a71182-0fd4-4e05-a4f1-5b19d00de613",
   "metadata": {},
   "outputs": [],
   "source": [
    "A, B, C, D = critical_points"
   ]
  },
  {
   "cell_type": "markdown",
   "id": "f9f2973b-6411-48e8-9023-00f5d438ea03",
   "metadata": {},
   "source": [
    "二階導関数で極大値か極小値かを判定する。\n",
    "\n",
    "- 二階導関数が負 → 極大値\n",
    "- 二階導関数が0 → 不明\n",
    "- 二階導関数が正 → 極小値"
   ]
  },
  {
   "cell_type": "code",
   "execution_count": 24,
   "id": "db2f0e76-51de-4355-98e5-cd796b7dbc7a",
   "metadata": {},
   "outputs": [],
   "source": [
    "d2 = Derivative(f, x, 2).doit()"
   ]
  },
  {
   "cell_type": "code",
   "execution_count": 25,
   "id": "176dff31-2077-41bd-acb8-83bbf265ffdf",
   "metadata": {},
   "outputs": [
    {
     "name": "stdout",
     "output_type": "stream",
     "text": [
      "d2(A): -703.493179468151\n",
      "d2(B): 127.661060789073\n",
      "d2(C): -127.661060789073\n",
      "d2(D): 703.493179468151\n"
     ]
    }
   ],
   "source": [
    "print(\"d2(A): {0}\".format(d2.subs({x: A}).evalf()))\n",
    "print(\"d2(B): {0}\".format(d2.subs({x: B}).evalf()))\n",
    "print(\"d2(C): {0}\".format(d2.subs({x: C}).evalf()))\n",
    "print(\"d2(D): {0}\".format(d2.subs({x: D}).evalf()))"
   ]
  },
  {
   "cell_type": "markdown",
   "id": "2da3659d-3601-4f9b-8c56-f98542728aa7",
   "metadata": {},
   "source": [
    "したがって、A と C が極大値、B と D が極小値となる。"
   ]
  },
  {
   "cell_type": "code",
   "execution_count": 26,
   "id": "fdb1b9a3-443c-4126-9c6f-1447c2331987",
   "metadata": {},
   "outputs": [
    {
     "name": "stdout",
     "output_type": "stream",
     "text": [
      "f(A): 705.959460380365\n",
      "f(C): 25.0846626340294\n",
      "f(B): -25.0846626340294\n",
      "f(D): -705.959460380365\n"
     ]
    }
   ],
   "source": [
    "print(\"f(A): {0}\".format(f.subs({x: A}).evalf()))\n",
    "print(\"f(C): {0}\".format(f.subs({x: C}).evalf()))\n",
    "print(\"f(B): {0}\".format(f.subs({x: B}).evalf()))\n",
    "print(\"f(D): {0}\".format(f.subs({x: D}).evalf()))"
   ]
  },
  {
   "cell_type": "markdown",
   "id": "e9069893-1b78-4c08-8d7c-396409a1f68e",
   "metadata": {},
   "source": [
    "関数 $f$ に値を代入してみると、A で最大、D で最小となる事がわかる。"
   ]
  },
  {
   "cell_type": "markdown",
   "id": "28add5ed-588f-4031-ab75-880ffdb8486c",
   "metadata": {},
   "source": [
    "## Finding the Global Maximum Using Gradient Ascent"
   ]
  },
  {
   "cell_type": "code",
   "execution_count": 27,
   "id": "5c339031-2f7a-4d2a-948d-d5217c699ffe",
   "metadata": {},
   "outputs": [
    {
     "name": "stdout",
     "output_type": "stream",
     "text": [
      "Theta: 44.99782\n",
      "Maximum Range: 63.77551\n"
     ]
    }
   ],
   "source": [
    "\"\"\"\n",
    "Use gradient ascent to find the angle at which the projectile has maximum range for a fixed velocity, 25 m/s\n",
    "\"\"\"\n",
    "\n",
    "import math\n",
    "\n",
    "from sympy import Derivative, Symbol, sin\n",
    "\n",
    "\n",
    "# x0: the initial value of the variable at which to start the iteration\n",
    "# f1x: the derivative of the function whose maximum we want to find\n",
    "# x: the Symbol object corresponding to the variable for the function\n",
    "def grad_ascent(x0, f1x, x):\n",
    "    epsilon = 1e-6\n",
    "    step_size = 1e-4\n",
    "\n",
    "    x_old = x0\n",
    "    x_new = x_old + step_size * f1x.subs({x: x_old}).evalf()\n",
    "\n",
    "    while abs(x_old - x_new) > epsilon:\n",
    "        x_old = x_new\n",
    "        x_new = x_old + step_size * f1x.subs({x: x_old}).evalf()\n",
    "\n",
    "    return x_new\n",
    "\n",
    "\n",
    "def find_max_theta(R, theta):\n",
    "    # Calculate the first derivative\n",
    "    R1theta = Derivative(R, theta).doit()\n",
    "\n",
    "    theta0 = 1e-3\n",
    "    return grad_ascent(theta0, R1theta, theta)\n",
    "\n",
    "\n",
    "g = 9.8\n",
    "# Assume initial velocity\n",
    "u = 25\n",
    "# Expression for range\n",
    "theta = Symbol(\"theta\")\n",
    "R = u ** 2 * sin(2 * theta) / g\n",
    "\n",
    "theta_max = find_max_theta(R, theta)\n",
    "print(\"Theta: {0:.5f}\".format(math.degrees(theta_max)))\n",
    "print(\"Maximum Range: {0:.5f}\".format(R.subs({theta: theta_max})))"
   ]
  },
  {
   "cell_type": "markdown",
   "id": "5d4c8b84-f009-49f0-9331-c89d0b4c976c",
   "metadata": {},
   "source": [
    "### A Generic Program for Gradient Ascent"
   ]
  },
  {
   "cell_type": "code",
   "execution_count": 28,
   "id": "f0863803-a1a1-4613-8ac6-7d54d09300ec",
   "metadata": {},
   "outputs": [],
   "source": [
    "\"\"\"\n",
    "Use gradient ascent to find the maximum value of a single-variable function\n",
    "\"\"\"\n",
    "\n",
    "from sympy import Derivative, Symbol\n",
    "\n",
    "\n",
    "# x0: the initial value of the variable at which to start the iteration\n",
    "# f1x: the derivative of the function whose maximum we want to find\n",
    "# x: the Symbol object corresponding to the variable for the function\n",
    "def grad_ascent(x0, f1x, x):\n",
    "    epsilon = 1e-6\n",
    "    step_size = 1e-4\n",
    "\n",
    "    x_old = x0\n",
    "    x_new = x_old + step_size * f1x.subs({x: x_old}).evalf()\n",
    "\n",
    "    while abs(x_old - x_new) > epsilon:\n",
    "        x_old = x_new\n",
    "        x_new = x_old + step_size * f1x.subs({x: x_old}).evalf()\n",
    "\n",
    "    return x_new\n",
    "\n",
    "\n",
    "def find_max(x0, f, x):\n",
    "    # Calculate the first derivative\n",
    "    d = Derivative(f, x).doit()\n",
    "\n",
    "    x_max = grad_ascent(x0, d, x)\n",
    "\n",
    "    print(\"x_max: {0:.5f}\".format(x_max))\n",
    "    print(\"Maximum: {0:.5f}\".format(f.subs({x: x_max})))"
   ]
  },
  {
   "cell_type": "markdown",
   "id": "ce48e679-967b-45b9-80d3-abf151c0f226",
   "metadata": {},
   "source": [
    "初期値 $\\theta_{0} = -0.1$ で（左側から）$cos(\\theta)$ の極大値を求める"
   ]
  },
  {
   "cell_type": "code",
   "execution_count": 29,
   "id": "7fbca3ff-631e-459b-9ea8-74e13afd3f81",
   "metadata": {},
   "outputs": [
    {
     "name": "stdout",
     "output_type": "stream",
     "text": [
      "x_max: -0.01000\n",
      "Maximum: 0.99995\n"
     ]
    }
   ],
   "source": [
    "theta = Symbol(\"theta\")\n",
    "f = sympy.cos(theta)\n",
    "theta0 = -0.1\n",
    "find_max(theta0, f, theta)"
   ]
  },
  {
   "cell_type": "markdown",
   "id": "04919322-44d2-4dc0-ada6-686bb931796c",
   "metadata": {},
   "source": [
    "初期値 $\\theta_{0} = 0.1$ で（右側から）$cos(\\theta)$ の極大値を求める"
   ]
  },
  {
   "cell_type": "code",
   "execution_count": 30,
   "id": "ed7c1e56-5c52-4cd1-b7c1-78cbfceedca2",
   "metadata": {},
   "outputs": [
    {
     "name": "stdout",
     "output_type": "stream",
     "text": [
      "x_max: 0.01000\n",
      "Maximum: 0.99995\n"
     ]
    }
   ],
   "source": [
    "theta = Symbol(\"theta\")\n",
    "f = sympy.cos(theta)\n",
    "theta0 = 0.1\n",
    "find_max(theta0, f, theta)"
   ]
  },
  {
   "cell_type": "markdown",
   "id": "0997922f-d9f5-4ad3-b049-4d80490eec7f",
   "metadata": {
    "tags": []
   },
   "source": [
    "### A Word of Warning About the Initial Value"
   ]
  },
  {
   "cell_type": "code",
   "execution_count": 32,
   "id": "5168842b-e6c0-4db6-b40d-e05b169d19be",
   "metadata": {},
   "outputs": [
    {
     "data": {
      "image/png": "[encoded data removed]",
      "text/plain": [
       "<Figure size 432x288 with 1 Axes>"
      ]
     },
     "metadata": {
      "needs_background": "light"
     },
     "output_type": "display_data"
    },
    {
     "data": {
      "text/plain": [
       "<sympy.plotting.plot.Plot at 0x7f0bc4dad960>"
      ]
     },
     "execution_count": 32,
     "metadata": {},
     "output_type": "execute_result"
    }
   ],
   "source": [
    "from sympy import Symbol\n",
    "from sympy.plotting import plot\n",
    "\n",
    "x = Symbol(\"x\")\n",
    "f = x ** 5 - 30 * x ** 3 + 50 * x\n",
    "\n",
    "plot(f, (x, -5, 5))"
   ]
  },
  {
   "cell_type": "markdown",
   "id": "63bc4e9a-8991-4537-b63b-4a4052ab5dfa",
   "metadata": {},
   "source": [
    "左側の極大値に到達する場合"
   ]
  },
  {
   "cell_type": "code",
   "execution_count": 33,
   "id": "c4198d9c-daec-463e-99ea-3f652be4399a",
   "metadata": {},
   "outputs": [
    {
     "name": "stdout",
     "output_type": "stream",
     "text": [
      "x_max: -4.17448\n",
      "Maximum: 705.95946\n"
     ]
    }
   ],
   "source": [
    "x0 = -5\n",
    "find_max(x0, f, x)"
   ]
  },
  {
   "cell_type": "code",
   "execution_count": 34,
   "id": "4c36c9ce-1c9f-48ac-974e-0c69edab19bd",
   "metadata": {},
   "outputs": [
    {
     "name": "stdout",
     "output_type": "stream",
     "text": [
      "x_max: -4.17445\n",
      "Maximum: 705.95946\n"
     ]
    }
   ],
   "source": [
    "x0 = -2\n",
    "find_max(x0, f, x)"
   ]
  },
  {
   "cell_type": "markdown",
   "id": "bfa2cf4a-b7e9-42d5-99a9-75188c2e7cb7",
   "metadata": {},
   "source": [
    "右側の極大値に到達する場合"
   ]
  },
  {
   "cell_type": "code",
   "execution_count": 35,
   "id": "b1051a3e-d982-4a13-ad05-a5a5b4e644de",
   "metadata": {},
   "outputs": [
    {
     "name": "stdout",
     "output_type": "stream",
     "text": [
      "x_max: 0.75745\n",
      "Maximum: 25.08466\n"
     ]
    }
   ],
   "source": [
    "x0 = 0.5\n",
    "find_max(x0, f, x)"
   ]
  },
  {
   "cell_type": "code",
   "execution_count": 36,
   "id": "310ec526-90d7-4e99-96af-7579b82e7650",
   "metadata": {},
   "outputs": [
    {
     "name": "stdout",
     "output_type": "stream",
     "text": [
      "x_max: 0.75761\n",
      "Maximum: 25.08466\n"
     ]
    }
   ],
   "source": [
    "x0 = 2\n",
    "find_max(x0, f, x)"
   ]
  },
  {
   "cell_type": "markdown",
   "id": "1d25d168-0059-41d9-a834-08d9d68454f7",
   "metadata": {},
   "source": [
    "### The Role of the Step Size and Epsilon"
   ]
  },
  {
   "cell_type": "code",
   "execution_count": 37,
   "id": "7995ae3b-c639-4fa1-903a-a6d73f0cdfb7",
   "metadata": {},
   "outputs": [],
   "source": [
    "\"\"\"\n",
    "Use gradient ascent to find the maximum value of a single-variable function. This also checks for the existence of a solution for the equation f'(x)=0.\n",
    "\"\"\"\n",
    "\n",
    "\n",
    "from sympy import Derivative, Symbol, solve, sympify\n",
    "\n",
    "\n",
    "# x0: the initial value of the variable at which to start the iteration\n",
    "# f1x: the derivative of the function whose maximum we want to find\n",
    "# x: the Symbol object corresponding to the variable for the function\n",
    "def grad_ascent(x0, f1x, x):\n",
    "    # Check if f1x=0 has a solution\n",
    "    if not solve(f1x):\n",
    "        raise Exception(\n",
    "            \"Cannot continue, solution for {0} = 0 does not exist\".format(f1x)\n",
    "        )\n",
    "\n",
    "    epsilon = 1e-6\n",
    "    step_size = 1e-4\n",
    "\n",
    "    x_old = x0\n",
    "    x_new = x_old + step_size * f1x.subs({x: x_old}).evalf()\n",
    "\n",
    "    while abs(x_old - x_new) > epsilon:\n",
    "        x_old = x_new\n",
    "        x_new = x_old + step_size * f1x.subs({x: x_old}).evalf()\n",
    "\n",
    "    return x_new\n",
    "\n",
    "\n",
    "def find_max(x0, f, x):\n",
    "    # Calculate the first derivative\n",
    "    d = Derivative(f, x).doit()\n",
    "\n",
    "    x_max = grad_ascent(x0, d, x)\n",
    "\n",
    "    print(\"x_max: {0:.5f}\".format(x_max))\n",
    "    print(\"Maximum: {0:.5f}\".format(f.subs({x: x_max})))"
   ]
  },
  {
   "cell_type": "code",
   "execution_count": 38,
   "id": "72d5b63f-83c0-4e90-89f8-14908be0be9a",
   "metadata": {},
   "outputs": [
    {
     "ename": "Exception",
     "evalue": "Cannot continue, solution for 1/x = 0 does not exist",
     "output_type": "error",
     "traceback": [
      "\u001b[0;31m---------------------------------------------------------------------------\u001b[0m",
      "\u001b[0;31mException\u001b[0m                                 Traceback (most recent call last)",
      "\u001b[0;32m/tmp/ipykernel_731/3974135340.py\u001b[0m in \u001b[0;36m<module>\u001b[0;34m\u001b[0m\n\u001b[1;32m      4\u001b[0m \u001b[0mx\u001b[0m \u001b[0;34m=\u001b[0m \u001b[0mSymbol\u001b[0m\u001b[0;34m(\u001b[0m\u001b[0;34m\"x\"\u001b[0m\u001b[0;34m)\u001b[0m\u001b[0;34m\u001b[0m\u001b[0;34m\u001b[0m\u001b[0m\n\u001b[1;32m      5\u001b[0m \u001b[0mf\u001b[0m \u001b[0;34m=\u001b[0m \u001b[0msympy\u001b[0m\u001b[0;34m.\u001b[0m\u001b[0mlog\u001b[0m\u001b[0;34m(\u001b[0m\u001b[0mx\u001b[0m\u001b[0;34m)\u001b[0m\u001b[0;34m\u001b[0m\u001b[0;34m\u001b[0m\u001b[0m\n\u001b[0;32m----> 6\u001b[0;31m \u001b[0mfind_max\u001b[0m\u001b[0;34m(\u001b[0m\u001b[0;36m0.1\u001b[0m\u001b[0;34m,\u001b[0m \u001b[0mf\u001b[0m\u001b[0;34m,\u001b[0m \u001b[0mx\u001b[0m\u001b[0;34m)\u001b[0m\u001b[0;34m\u001b[0m\u001b[0;34m\u001b[0m\u001b[0m\n\u001b[0m",
      "\u001b[0;32m/tmp/ipykernel_731/2082767504.py\u001b[0m in \u001b[0;36mfind_max\u001b[0;34m(x0, f, x)\u001b[0m\n\u001b[1;32m     34\u001b[0m     \u001b[0md\u001b[0m \u001b[0;34m=\u001b[0m \u001b[0mDerivative\u001b[0m\u001b[0;34m(\u001b[0m\u001b[0mf\u001b[0m\u001b[0;34m,\u001b[0m \u001b[0mx\u001b[0m\u001b[0;34m)\u001b[0m\u001b[0;34m.\u001b[0m\u001b[0mdoit\u001b[0m\u001b[0;34m(\u001b[0m\u001b[0;34m)\u001b[0m\u001b[0;34m\u001b[0m\u001b[0;34m\u001b[0m\u001b[0m\n\u001b[1;32m     35\u001b[0m \u001b[0;34m\u001b[0m\u001b[0m\n\u001b[0;32m---> 36\u001b[0;31m     \u001b[0mx_max\u001b[0m \u001b[0;34m=\u001b[0m \u001b[0mgrad_ascent\u001b[0m\u001b[0;34m(\u001b[0m\u001b[0mx0\u001b[0m\u001b[0;34m,\u001b[0m \u001b[0md\u001b[0m\u001b[0;34m,\u001b[0m \u001b[0mx\u001b[0m\u001b[0;34m)\u001b[0m\u001b[0;34m\u001b[0m\u001b[0;34m\u001b[0m\u001b[0m\n\u001b[0m\u001b[1;32m     37\u001b[0m \u001b[0;34m\u001b[0m\u001b[0m\n\u001b[1;32m     38\u001b[0m     \u001b[0mprint\u001b[0m\u001b[0;34m(\u001b[0m\u001b[0;34m\"x_max: {0:.5f}\"\u001b[0m\u001b[0;34m.\u001b[0m\u001b[0mformat\u001b[0m\u001b[0;34m(\u001b[0m\u001b[0mx_max\u001b[0m\u001b[0;34m)\u001b[0m\u001b[0;34m)\u001b[0m\u001b[0;34m\u001b[0m\u001b[0;34m\u001b[0m\u001b[0m\n",
      "\u001b[0;32m/tmp/ipykernel_731/2082767504.py\u001b[0m in \u001b[0;36mgrad_ascent\u001b[0;34m(x0, f1x, x)\u001b[0m\n\u001b[1;32m     13\u001b[0m     \u001b[0;31m# Check if f1x=0 has a solution\u001b[0m\u001b[0;34m\u001b[0m\u001b[0;34m\u001b[0m\u001b[0m\n\u001b[1;32m     14\u001b[0m     \u001b[0;32mif\u001b[0m \u001b[0;32mnot\u001b[0m \u001b[0msolve\u001b[0m\u001b[0;34m(\u001b[0m\u001b[0mf1x\u001b[0m\u001b[0;34m)\u001b[0m\u001b[0;34m:\u001b[0m\u001b[0;34m\u001b[0m\u001b[0;34m\u001b[0m\u001b[0m\n\u001b[0;32m---> 15\u001b[0;31m         raise Exception(\n\u001b[0m\u001b[1;32m     16\u001b[0m             \u001b[0;34m\"Cannot continue, solution for {0} = 0 does not exist\"\u001b[0m\u001b[0;34m.\u001b[0m\u001b[0mformat\u001b[0m\u001b[0;34m(\u001b[0m\u001b[0mf1x\u001b[0m\u001b[0;34m)\u001b[0m\u001b[0;34m\u001b[0m\u001b[0;34m\u001b[0m\u001b[0m\n\u001b[1;32m     17\u001b[0m         )\n",
      "\u001b[0;31mException\u001b[0m: Cannot continue, solution for 1/x = 0 does not exist"
     ]
    }
   ],
   "source": [
    "import sympy\n",
    "from sympy import Symbol\n",
    "\n",
    "x = Symbol(\"x\")\n",
    "f = sympy.log(x)\n",
    "find_max(0.1, f, x)"
   ]
  },
  {
   "cell_type": "code",
   "execution_count": 40,
   "id": "3c41d148-1f09-4996-8f98-60392e0d3ed7",
   "metadata": {},
   "outputs": [
    {
     "name": "stdout",
     "output_type": "stream",
     "text": [
      "x_max: 0.00500\n",
      "Maximum: -0.00002\n"
     ]
    }
   ],
   "source": [
    "x = Symbol(\"x\")\n",
    "f = -(x ** 2)\n",
    "x0 = 0.1\n",
    "find_max(x0, f, x)"
   ]
  },
  {
   "cell_type": "markdown",
   "id": "3a920c7a-a47f-457a-983e-07c16549b39b",
   "metadata": {},
   "source": [
    "## Finding the Integrals of Functions\n",
    "\n",
    "不定積分"
   ]
  },
  {
   "cell_type": "code",
   "execution_count": 41,
   "id": "d09604b4-dbc3-4c6b-8ddd-f74503e1cedb",
   "metadata": {},
   "outputs": [
    {
     "data": {
      "text/latex": [
       "$\\displaystyle \\int k x\\, dx$"
      ],
      "text/plain": [
       "Integral(k*x, x)"
      ]
     },
     "execution_count": 41,
     "metadata": {},
     "output_type": "execute_result"
    }
   ],
   "source": [
    "from sympy import Integral, symbols\n",
    "\n",
    "x, k = symbols(\"x, k\")\n",
    "\n",
    "i = Integral(k * x, x)\n",
    "i"
   ]
  },
  {
   "cell_type": "code",
   "execution_count": 42,
   "id": "98454784-69c5-4de1-964b-a1b658ad33fd",
   "metadata": {},
   "outputs": [
    {
     "data": {
      "text/latex": [
       "$\\displaystyle \\frac{k x^{2}}{2}$"
      ],
      "text/plain": [
       "k*x**2/2"
      ]
     },
     "execution_count": 42,
     "metadata": {},
     "output_type": "execute_result"
    }
   ],
   "source": [
    "i.doit()"
   ]
  },
  {
   "cell_type": "markdown",
   "id": "20246d36-48e3-44b0-8ed3-a62e2ad7efb8",
   "metadata": {},
   "source": [
    "定積分"
   ]
  },
  {
   "cell_type": "code",
   "execution_count": 43,
   "id": "b57fc7e9-c189-4dfd-a4e3-6a3837669c23",
   "metadata": {},
   "outputs": [
    {
     "data": {
      "text/latex": [
       "$\\displaystyle \\int\\limits_{0}^{2} k x\\, dx$"
      ],
      "text/plain": [
       "Integral(k*x, (x, 0, 2))"
      ]
     },
     "execution_count": 43,
     "metadata": {},
     "output_type": "execute_result"
    }
   ],
   "source": [
    "i = Integral(k * x, (x, 0, 2))\n",
    "i"
   ]
  },
  {
   "cell_type": "code",
   "execution_count": 44,
   "id": "a5b85546-86b4-40d5-ac71-86e1f277729a",
   "metadata": {},
   "outputs": [
    {
     "data": {
      "text/latex": [
       "$\\displaystyle 2 k$"
      ],
      "text/plain": [
       "2*k"
      ]
     },
     "execution_count": 44,
     "metadata": {},
     "output_type": "execute_result"
    }
   ],
   "source": [
    "i.doit()"
   ]
  },
  {
   "cell_type": "markdown",
   "id": "93cfe3d8-9156-4f42-a392-a555e800a261",
   "metadata": {},
   "source": [
    "公式サイトでは `integrate()` 関数が前面に出てる"
   ]
  },
  {
   "cell_type": "code",
   "execution_count": 45,
   "id": "0044b2a0-a954-4e6e-aeab-516da9dd4221",
   "metadata": {},
   "outputs": [
    {
     "data": {
      "text/latex": [
       "$\\displaystyle \\frac{k x^{2}}{2}$"
      ],
      "text/plain": [
       "k*x**2/2"
      ]
     },
     "execution_count": 45,
     "metadata": {},
     "output_type": "execute_result"
    }
   ],
   "source": [
    "import sympy\n",
    "\n",
    "i = sympy.integrate(k * x, x)\n",
    "i"
   ]
  },
  {
   "cell_type": "code",
   "execution_count": 46,
   "id": "3a7566ec-7fb5-4b2a-9f91-6ac5e403964d",
   "metadata": {},
   "outputs": [
    {
     "data": {
      "text/latex": [
       "$\\displaystyle 2 k$"
      ],
      "text/plain": [
       "2*k"
      ]
     },
     "execution_count": 46,
     "metadata": {},
     "output_type": "execute_result"
    }
   ],
   "source": [
    "i = sympy.integrate(k * x, (x, 0, 2))\n",
    "i"
   ]
  },
  {
   "cell_type": "code",
   "execution_count": 47,
   "id": "3ee4fbd7-4ace-4c5c-a306-59f0d520c687",
   "metadata": {},
   "outputs": [
    {
     "data": {
      "text/latex": [
       "$\\displaystyle \\log{\\left(x \\right)}$"
      ],
      "text/plain": [
       "log(x)"
      ]
     },
     "execution_count": 47,
     "metadata": {},
     "output_type": "execute_result"
    }
   ],
   "source": [
    "sympy.integrate(1 / x, x)"
   ]
  },
  {
   "cell_type": "code",
   "execution_count": 48,
   "id": "465de84d-fefc-49f3-9b50-ede276fdaadc",
   "metadata": {},
   "outputs": [
    {
     "data": {
      "text/latex": [
       "$\\displaystyle \\operatorname{asin}{\\left(x \\right)}$"
      ],
      "text/plain": [
       "asin(x)"
      ]
     },
     "execution_count": 48,
     "metadata": {},
     "output_type": "execute_result"
    }
   ],
   "source": [
    "sympy.integrate(1 / sympy.sqrt(1 - x ** 2), x)"
   ]
  },
  {
   "cell_type": "markdown",
   "id": "54a89ff9-887d-4151-9d2c-d123ed5285eb",
   "metadata": {},
   "source": [
    "第二種楕円積分は、駄目だった。"
   ]
  },
  {
   "cell_type": "code",
   "execution_count": 49,
   "id": "c98e286e-25ed-4c95-81ad-b05e1d4dd85e",
   "metadata": {},
   "outputs": [
    {
     "data": {
      "text/latex": [
       "$\\displaystyle \\int \\sqrt{\\frac{- k^{2} x^{2} + 1}{1 - x^{2}}}\\, dx$"
      ],
      "text/plain": [
       "Integral(sqrt((-k**2*x**2 + 1)/(1 - x**2)), x)"
      ]
     },
     "execution_count": 49,
     "metadata": {},
     "output_type": "execute_result"
    }
   ],
   "source": [
    "x, k = symbols(\"x, k\")\n",
    "\n",
    "i = sympy.integrate(sympy.sqrt((1 - k ** 2 * x ** 2) / (1 - x ** 2)), x)\n",
    "i"
   ]
  },
  {
   "cell_type": "code",
   "execution_count": 50,
   "id": "0fabb7ae-c0d9-4a57-878e-134936fbd338",
   "metadata": {},
   "outputs": [
    {
     "data": {
      "text/latex": [
       "$\\displaystyle \\int \\sqrt{\\frac{k^{2} x^{2} - 1}{x^{2} - 1}}\\, dx$"
      ],
      "text/plain": [
       "Integral(sqrt((k**2*x**2 - 1)/(x**2 - 1)), x)"
      ]
     },
     "execution_count": 50,
     "metadata": {},
     "output_type": "execute_result"
    }
   ],
   "source": [
    "sympy.simplify(i)"
   ]
  },
  {
   "cell_type": "markdown",
   "id": "4acb39ed-1061-403b-bfde-bd13e4991ae0",
   "metadata": {},
   "source": [
    "## Probability Density Functions"
   ]
  },
  {
   "cell_type": "code",
   "execution_count": 51,
   "id": "8012cebf-67f3-4b17-b2d6-c934dd931a56",
   "metadata": {},
   "outputs": [
    {
     "data": {
      "text/latex": [
       "$\\displaystyle 0.135905121983278$"
      ],
      "text/plain": [
       "0.135905121983278"
      ]
     },
     "execution_count": 51,
     "metadata": {},
     "output_type": "execute_result"
    }
   ],
   "source": [
    "from sympy import Symbol, exp, integrate, pi, sqrt\n",
    "\n",
    "x = Symbol(\"x\")\n",
    "p = exp(-((x - 10) ** 2) / 2) / sqrt(2 * pi)\n",
    "\n",
    "integrate(p, (x, 11, 12)).evalf()"
   ]
  },
  {
   "cell_type": "code",
   "execution_count": 52,
   "id": "a9c1971f-5537-401e-a904-000839ccae5f",
   "metadata": {},
   "outputs": [
    {
     "data": {
      "text/latex": [
       "$\\displaystyle 1$"
      ],
      "text/plain": [
       "1"
      ]
     },
     "execution_count": 52,
     "metadata": {},
     "output_type": "execute_result"
    }
   ],
   "source": [
    "from sympy import S\n",
    "\n",
    "integrate(p, (x, S.NegativeInfinity, S.Infinity))"
   ]
  }
 ],
 "metadata": {
  "kernelspec": {
   "display_name": "Python 3 (ipykernel)",
   "language": "python",
   "name": "python3"
  },
  "language_info": {
   "codemirror_mode": {
    "name": "ipython",
    "version": 3
   },
   "file_extension": ".py",
   "mimetype": "text/x-python",
   "name": "python",
   "nbconvert_exporter": "python",
   "pygments_lexer": "ipython3",
   "version": "3.10.1"
  }
 },
 "nbformat": 4,
 "nbformat_minor": 5
}
