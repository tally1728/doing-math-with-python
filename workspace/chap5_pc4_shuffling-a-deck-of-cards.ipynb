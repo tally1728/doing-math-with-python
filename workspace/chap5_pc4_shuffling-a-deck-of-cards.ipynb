{
 "cells": [
  {
   "cell_type": "markdown",
   "id": "8dcf15b6-e161-4481-a043-6c02dabc70d6",
   "metadata": {},
   "source": [
    "# Chapter 5: Playing with Sets and Probability\n",
    "\n",
    "## Programming Challenges\n",
    "\n",
    "### \\#4: Shuffling a Deck of Cards\n",
    "\n",
    "まずは標準ライブラリを利用した場合のシャッフル"
   ]
  },
  {
   "cell_type": "code",
   "execution_count": 1,
   "id": "3ebab65f-4523-4539-aeca-94137d7fafd6",
   "metadata": {},
   "outputs": [
    {
     "data": {
      "text/plain": [
       "[9, 7, 1, 4, 3, 2, 6, 5, 8]"
      ]
     },
     "execution_count": 1,
     "metadata": {},
     "output_type": "execute_result"
    }
   ],
   "source": [
    "import random\n",
    "\n",
    "x = list(range(1, 10))\n",
    "random.shuffle(x)\n",
    "x"
   ]
  },
  {
   "cell_type": "markdown",
   "id": "eafa1a92-3805-41b3-9a36-2bf8410bd151",
   "metadata": {},
   "source": [
    "ダステンフェルドのアルゴリズムを実装"
   ]
  },
  {
   "cell_type": "code",
   "execution_count": 2,
   "id": "fa73ccf3-eb66-4016-a7f5-92704cd80cd5",
   "metadata": {},
   "outputs": [
    {
     "data": {
      "text/plain": [
       "[9, 2, 8, 1, 7, 3, 4, 6, 5]"
      ]
     },
     "execution_count": 2,
     "metadata": {},
     "output_type": "execute_result"
    }
   ],
   "source": [
    "x = list(range(1, 10))\n",
    "\n",
    "\n",
    "def shuffle(list):\n",
    "    for i in range(len(list) - 1, 0, -1):\n",
    "        j = random.randint(0, i)\n",
    "\n",
    "        if i != j:\n",
    "            # swap i-th & j-th items\n",
    "            list[i], list[j] = list[j], list[i]\n",
    "\n",
    "\n",
    "shuffle(x)\n",
    "x"
   ]
  },
  {
   "cell_type": "markdown",
   "id": "eda3b339-a968-47ec-83c5-fb8cb3c194fd",
   "metadata": {},
   "source": [
    "カードのリストを生成"
   ]
  },
  {
   "cell_type": "code",
   "execution_count": 3,
   "id": "b947eb42-fba5-4d35-98d3-42c73c87a8fa",
   "metadata": {},
   "outputs": [
    {
     "name": "stdout",
     "output_type": "stream",
     "text": [
      "Ace of Clubs\n",
      "2 of Clubs\n",
      "3 of Clubs\n",
      "4 of Clubs\n",
      "5 of Clubs\n",
      "6 of Clubs\n",
      "7 of Clubs\n",
      "8 of Clubs\n",
      "9 of Clubs\n",
      "10 of Clubs\n",
      "Jack of Clubs\n",
      "Queen of Clubs\n",
      "King of Clubs\n",
      "Ace of Diamonds\n",
      "2 of Diamonds\n",
      "3 of Diamonds\n",
      "4 of Diamonds\n",
      "5 of Diamonds\n",
      "6 of Diamonds\n",
      "7 of Diamonds\n",
      "8 of Diamonds\n",
      "9 of Diamonds\n",
      "10 of Diamonds\n",
      "Jack of Diamonds\n",
      "Queen of Diamonds\n",
      "King of Diamonds\n",
      "Ace of Hearts\n",
      "2 of Hearts\n",
      "3 of Hearts\n",
      "4 of Hearts\n",
      "5 of Hearts\n",
      "6 of Hearts\n",
      "7 of Hearts\n",
      "8 of Hearts\n",
      "9 of Hearts\n",
      "10 of Hearts\n",
      "Jack of Hearts\n",
      "Queen of Hearts\n",
      "King of Hearts\n",
      "Ace of Spades\n",
      "2 of Spades\n",
      "3 of Spades\n",
      "4 of Spades\n",
      "5 of Spades\n",
      "6 of Spades\n",
      "7 of Spades\n",
      "8 of Spades\n",
      "9 of Spades\n",
      "10 of Spades\n",
      "Jack of Spades\n",
      "Queen of Spades\n",
      "King of Spades\n"
     ]
    }
   ],
   "source": [
    "class Card:\n",
    "    def __init__(self, suit, rank):\n",
    "        self.suit = suit\n",
    "        self.rank = rank\n",
    "\n",
    "\n",
    "def generate_cards():\n",
    "    suits = [\"Clubs\", \"Diamonds\", \"Hearts\", \"Spades\"]\n",
    "    ranks = [\"Ace\"] + [str(i) for i in range(2, 11)] + [\"Jack\", \"Queen\", \"King\"]\n",
    "    return [Card(s, r) for s in suits for r in ranks]\n",
    "\n",
    "\n",
    "def print_cards(cards):\n",
    "    for card in cards:\n",
    "        print(\"{0} of {1}\".format(card.rank, card.suit))\n",
    "\n",
    "\n",
    "cards = generate_cards()\n",
    "print_cards(cards)"
   ]
  },
  {
   "cell_type": "markdown",
   "id": "79df71fa-20b0-4a8c-b324-8c7ff344e720",
   "metadata": {},
   "source": [
    "シャッフル"
   ]
  },
  {
   "cell_type": "code",
   "execution_count": 4,
   "id": "1b55396c-f19d-4dc5-aa81-7018972f7af5",
   "metadata": {},
   "outputs": [
    {
     "name": "stdout",
     "output_type": "stream",
     "text": [
      "7 of Hearts\n",
      "4 of Hearts\n",
      "10 of Hearts\n",
      "3 of Spades\n",
      "3 of Clubs\n",
      "4 of Diamonds\n",
      "2 of Hearts\n",
      "4 of Spades\n",
      "6 of Diamonds\n",
      "10 of Diamonds\n",
      "5 of Diamonds\n",
      "9 of Spades\n",
      "5 of Hearts\n",
      "9 of Hearts\n",
      "8 of Diamonds\n",
      "7 of Clubs\n",
      "Ace of Spades\n",
      "8 of Hearts\n",
      "6 of Clubs\n",
      "5 of Clubs\n",
      "King of Clubs\n",
      "2 of Diamonds\n",
      "8 of Spades\n",
      "King of Spades\n",
      "Ace of Hearts\n",
      "10 of Spades\n",
      "Ace of Diamonds\n",
      "Queen of Diamonds\n",
      "6 of Hearts\n",
      "7 of Spades\n",
      "3 of Hearts\n",
      "Jack of Hearts\n",
      "2 of Clubs\n",
      "Jack of Diamonds\n",
      "Jack of Spades\n",
      "9 of Clubs\n",
      "4 of Clubs\n",
      "8 of Clubs\n",
      "2 of Spades\n",
      "Jack of Clubs\n",
      "5 of Spades\n",
      "7 of Diamonds\n",
      "Queen of Clubs\n",
      "Queen of Spades\n",
      "10 of Clubs\n",
      "9 of Diamonds\n",
      "3 of Diamonds\n",
      "King of Hearts\n",
      "Ace of Clubs\n",
      "Queen of Hearts\n",
      "6 of Spades\n",
      "King of Diamonds\n"
     ]
    }
   ],
   "source": [
    "shuffle(cards)\n",
    "print_cards(cards)"
   ]
  }
 ],
 "metadata": {
  "kernelspec": {
   "display_name": "Python 3 (ipykernel)",
   "language": "python",
   "name": "python3"
  },
  "language_info": {
   "codemirror_mode": {
    "name": "ipython",
    "version": 3
   },
   "file_extension": ".py",
   "mimetype": "text/x-python",
   "name": "python",
   "nbconvert_exporter": "python",
   "pygments_lexer": "ipython3",
   "version": "3.10.1"
  }
 },
 "nbformat": 4,
 "nbformat_minor": 5
}
