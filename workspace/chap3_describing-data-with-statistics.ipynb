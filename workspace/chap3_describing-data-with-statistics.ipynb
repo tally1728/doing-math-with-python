{
 "cells": [
  {
   "cell_type": "markdown",
   "id": "cee6e500-5707-4e43-8461-821645ab3709",
   "metadata": {},
   "source": [
    "# Chapter 3: Describing Data with Statistics\n",
    "\n",
    "## Finding the Mean\n",
    "\n",
    "`sum()` 関数と `len()` 関数を使って平均値を計算する。"
   ]
  },
  {
   "cell_type": "code",
   "execution_count": 1,
   "id": "f2d21bbe-f458-4b04-862d-91a022445e8c",
   "metadata": {},
   "outputs": [
    {
     "data": {
      "text/plain": [
       "6"
      ]
     },
     "execution_count": 1,
     "metadata": {},
     "output_type": "execute_result"
    }
   ],
   "source": [
    "shortlist = [1, 2, 3]\n",
    "sum(shortlist)"
   ]
  },
  {
   "cell_type": "code",
   "execution_count": 2,
   "id": "2f644f73-69b8-444f-ac91-ffbb5310f0ec",
   "metadata": {},
   "outputs": [
    {
     "data": {
      "text/plain": [
       "3"
      ]
     },
     "execution_count": 2,
     "metadata": {},
     "output_type": "execute_result"
    }
   ],
   "source": [
    "len(shortlist)"
   ]
  },
  {
   "cell_type": "code",
   "execution_count": 3,
   "id": "45564f12-accc-488e-b119-bfb36ba62a8c",
   "metadata": {},
   "outputs": [
    {
     "name": "stdout",
     "output_type": "stream",
     "text": [
      "Mean donation over the last 12 days is 477.75\n"
     ]
    }
   ],
   "source": [
    "# Calculating the mean\n",
    "def calculate_mean(numbers):\n",
    "    return sum(numbers) / len(numbers)\n",
    "\n",
    "\n",
    "donations = [100, 60, 70, 900, 100, 200, 500, 500, 503, 600, 1000, 1200]\n",
    "print(\n",
    "    \"Mean donation over the last {0} days is {1}\".format(\n",
    "        len(donations), calculate_mean(donations)\n",
    "    )\n",
    ")"
   ]
  },
  {
   "cell_type": "markdown",
   "id": "fddb229f-5b9b-4636-b228-9c49bdfb6477",
   "metadata": {},
   "source": [
    "## Finding the Median"
   ]
  },
  {
   "cell_type": "code",
   "execution_count": 4,
   "id": "8428fb47-de51-4899-ab3c-bb418d8531d6",
   "metadata": {},
   "outputs": [
    {
     "data": {
      "text/plain": [
       "[1, 3, 4]"
      ]
     },
     "execution_count": 4,
     "metadata": {},
     "output_type": "execute_result"
    }
   ],
   "source": [
    "samplelist = [4, 1, 3]\n",
    "samplelist.sort()\n",
    "samplelist"
   ]
  },
  {
   "cell_type": "code",
   "execution_count": 5,
   "id": "fa6f8d60-9c5a-4e4c-96db-551e02abbb5b",
   "metadata": {},
   "outputs": [],
   "source": [
    "# Calculating the median\n",
    "def calculate_median(numbers):\n",
    "    s = len(numbers)\n",
    "    numbers.sort()\n",
    "\n",
    "    m = s // 2\n",
    "\n",
    "    if s % 2 == 0:\n",
    "        median = sum(numbers[m - 1 : m + 1]) / 2\n",
    "    else:\n",
    "        median = numbers[m]\n",
    "\n",
    "    return median"
   ]
  },
  {
   "cell_type": "code",
   "execution_count": 6,
   "id": "be1a07c6-9631-4bff-872e-505e9302eecb",
   "metadata": {},
   "outputs": [],
   "source": [
    "x = list(range(4))"
   ]
  },
  {
   "cell_type": "code",
   "execution_count": 7,
   "id": "388c343d-1098-4a52-9542-7496475b326d",
   "metadata": {
    "tags": []
   },
   "outputs": [
    {
     "data": {
      "text/plain": [
       "[0, 1, 2, 3]"
      ]
     },
     "execution_count": 7,
     "metadata": {},
     "output_type": "execute_result"
    }
   ],
   "source": [
    "x"
   ]
  },
  {
   "cell_type": "code",
   "execution_count": 8,
   "id": "efda8009-3788-4e20-9ea6-59ae552a5f82",
   "metadata": {},
   "outputs": [
    {
     "data": {
      "text/plain": [
       "1.5"
      ]
     },
     "execution_count": 8,
     "metadata": {},
     "output_type": "execute_result"
    }
   ],
   "source": [
    "calculate_median(x)"
   ]
  },
  {
   "cell_type": "code",
   "execution_count": 9,
   "id": "b34b689d-e57b-47a5-ac67-c97b6f6928fa",
   "metadata": {},
   "outputs": [],
   "source": [
    "x = list(range(5))"
   ]
  },
  {
   "cell_type": "code",
   "execution_count": 10,
   "id": "af53210e-f143-4596-9738-ac09ccd994e4",
   "metadata": {},
   "outputs": [
    {
     "data": {
      "text/plain": [
       "[0, 1, 2, 3, 4]"
      ]
     },
     "execution_count": 10,
     "metadata": {},
     "output_type": "execute_result"
    }
   ],
   "source": [
    "x"
   ]
  },
  {
   "cell_type": "code",
   "execution_count": 11,
   "id": "611d555c-4c0e-4e07-b67e-dedd53e13f7d",
   "metadata": {},
   "outputs": [
    {
     "data": {
      "text/plain": [
       "2"
      ]
     },
     "execution_count": 11,
     "metadata": {},
     "output_type": "execute_result"
    }
   ],
   "source": [
    "calculate_median(x)"
   ]
  },
  {
   "cell_type": "code",
   "execution_count": 12,
   "id": "092f10c4-03a5-47f5-98f9-6bb124ea020c",
   "metadata": {},
   "outputs": [
    {
     "name": "stdout",
     "output_type": "stream",
     "text": [
      "Median donation over the last 12 days is 500.0\n"
     ]
    }
   ],
   "source": [
    "donations = [100, 60, 70, 900, 100, 200, 500, 500, 503, 600, 1000, 1200]\n",
    "print(\n",
    "    \"Median donation over the last {0} days is {1}\".format(\n",
    "        len(donations), calculate_median(donations)\n",
    "    )\n",
    ")"
   ]
  },
  {
   "cell_type": "markdown",
   "id": "74caa777-683c-4e77-892b-de313424bfbe",
   "metadata": {},
   "source": [
    "## Finding the Mode and Creating a Frequency Table\n",
    "\n",
    "### collections.Counter オブジェクト\n",
    "\n",
    "各要素の出現回数をカウントする"
   ]
  },
  {
   "cell_type": "code",
   "execution_count": 13,
   "id": "61db93d4-d27e-4d4c-91bd-9cc2f3d27980",
   "metadata": {},
   "outputs": [
    {
     "data": {
      "text/plain": [
       "collections.Counter"
      ]
     },
     "execution_count": 13,
     "metadata": {},
     "output_type": "execute_result"
    }
   ],
   "source": [
    "from collections import Counter\n",
    "\n",
    "c = Counter(\"hello\")\n",
    "type(c)"
   ]
  },
  {
   "cell_type": "markdown",
   "id": "9edb733a-720b-41e3-b504-dd413bdcc04a",
   "metadata": {},
   "source": [
    "`Counter` オブジェクトは、キーにアルファベット、アルファベットの出現頻度を値に持つ、辞書と言える。"
   ]
  },
  {
   "cell_type": "code",
   "execution_count": 14,
   "id": "5f88e6dd-8cef-4a53-bbf0-e805c32445da",
   "metadata": {},
   "outputs": [
    {
     "data": {
      "text/plain": [
       "Counter({'h': 1, 'e': 1, 'l': 2, 'o': 1})"
      ]
     },
     "execution_count": 14,
     "metadata": {},
     "output_type": "execute_result"
    }
   ],
   "source": [
    "c"
   ]
  },
  {
   "cell_type": "markdown",
   "id": "fc4a003d-ada2-48a4-ab5c-a162a89077a0",
   "metadata": {},
   "source": [
    "`most_common()` メソッドで、頻度順に並べたリストが得られる。"
   ]
  },
  {
   "cell_type": "code",
   "execution_count": 15,
   "id": "d727944e-2e34-43e3-b44f-833b849931ac",
   "metadata": {},
   "outputs": [
    {
     "data": {
      "text/plain": [
       "[('l', 2), ('h', 1), ('e', 1), ('o', 1)]"
      ]
     },
     "execution_count": 15,
     "metadata": {},
     "output_type": "execute_result"
    }
   ],
   "source": [
    "c.most_common()"
   ]
  },
  {
   "cell_type": "markdown",
   "id": "b67bdc3c-a729-44ec-9270-6b04e30586fd",
   "metadata": {},
   "source": [
    "`elements()` メソッドを利用すると、逆に `Counter` は希望する出現頻度のリストを生成するのに使える。"
   ]
  },
  {
   "cell_type": "code",
   "execution_count": 16,
   "id": "1b7233b9-ae42-42d8-8245-067898e68a58",
   "metadata": {},
   "outputs": [
    {
     "data": {
      "text/plain": [
       "['a', 'b', 'b', 'c', 'c', 'c']"
      ]
     },
     "execution_count": 16,
     "metadata": {},
     "output_type": "execute_result"
    }
   ],
   "source": [
    "list(Counter({\"a\": 1, \"b\": 2, \"c\": 3}).elements())"
   ]
  },
  {
   "cell_type": "markdown",
   "id": "70220adf-ae23-4e6d-a304-98ba7e8f5a35",
   "metadata": {},
   "source": [
    "### Finding the Most Common Elements\n",
    "\n",
    "`collections.Counter.most_common()` メソッドで、リストの要素を頻度順に並べることができる。"
   ]
  },
  {
   "cell_type": "code",
   "execution_count": 17,
   "id": "67e464e8-cf06-4ac3-8dc1-828e548d3a88",
   "metadata": {},
   "outputs": [
    {
     "data": {
      "text/plain": [
       "[(4, 2), (2, 1), (1, 1), (3, 1)]"
      ]
     },
     "execution_count": 17,
     "metadata": {},
     "output_type": "execute_result"
    }
   ],
   "source": [
    "simplelist = [4, 2, 1, 3, 4]\n",
    "c = Counter(simplelist)\n",
    "c.most_common()"
   ]
  },
  {
   "cell_type": "markdown",
   "id": "93420296-be81-4410-a7c4-ff84e09f49cb",
   "metadata": {},
   "source": [
    "最頻出の値と出現頻度"
   ]
  },
  {
   "cell_type": "code",
   "execution_count": 18,
   "id": "000c51a1-71f0-4054-83b2-b7e9a88f3324",
   "metadata": {},
   "outputs": [
    {
     "data": {
      "text/plain": [
       "[(4, 2)]"
      ]
     },
     "execution_count": 18,
     "metadata": {},
     "output_type": "execute_result"
    }
   ],
   "source": [
    "c.most_common(1)"
   ]
  },
  {
   "cell_type": "code",
   "execution_count": 19,
   "id": "572f543f-e306-4d83-8061-2fbf03a9775a",
   "metadata": {},
   "outputs": [
    {
     "data": {
      "text/plain": [
       "[(4, 2), (2, 1)]"
      ]
     },
     "execution_count": 19,
     "metadata": {},
     "output_type": "execute_result"
    }
   ],
   "source": [
    "c.most_common(2)"
   ]
  },
  {
   "cell_type": "markdown",
   "id": "7ee526d9-ebb7-400c-a310-affa73593fc8",
   "metadata": {},
   "source": [
    "最頻値"
   ]
  },
  {
   "cell_type": "code",
   "execution_count": 20,
   "id": "970812c1-dd86-47f4-beaf-3e317b6ff24b",
   "metadata": {},
   "outputs": [
    {
     "data": {
      "text/plain": [
       "4"
      ]
     },
     "execution_count": 20,
     "metadata": {},
     "output_type": "execute_result"
    }
   ],
   "source": [
    "mode = c.most_common()[0][0]\n",
    "mode"
   ]
  },
  {
   "cell_type": "markdown",
   "id": "4b3cb307-e558-4fb3-b344-d7b8f5b1e858",
   "metadata": {},
   "source": [
    "### Finding the Mode"
   ]
  },
  {
   "cell_type": "code",
   "execution_count": 21,
   "id": "9b8a3881-7081-4564-950c-1ec9feea3af2",
   "metadata": {},
   "outputs": [
    {
     "name": "stdout",
     "output_type": "stream",
     "text": [
      "The mode of the list of numbers is: 9\n"
     ]
    }
   ],
   "source": [
    "# Calculating the mode\n",
    "def calculate_mode(numbers):\n",
    "    return Counter(numbers).most_common()[0][0]\n",
    "\n",
    "\n",
    "scores = [7, 8, 9, 2, 10, 9, 9, 9, 9, 4, 5, 6, 1, 5, 6, 7, 8, 6, 1, 10]\n",
    "print(\"The mode of the list of numbers is: {0}\".format(calculate_mode(scores)))"
   ]
  },
  {
   "cell_type": "markdown",
   "id": "4229d8d3-f7c5-44ba-bef7-89a3264aac65",
   "metadata": {},
   "source": [
    "上の実装は最頻値が一つのときだけ有効。最頻値が複数の場合にも対応するように変更する。"
   ]
  },
  {
   "cell_type": "code",
   "execution_count": 22,
   "id": "5cfe1410-2fde-4a33-833c-b7b2cf67c659",
   "metadata": {},
   "outputs": [
    {
     "name": "stdout",
     "output_type": "stream",
     "text": [
      "The mode of the list of numbers is: [5, 4]\n"
     ]
    }
   ],
   "source": [
    "# Calculating the mode\n",
    "def calculate_mode(numbers):\n",
    "    numbers_freq = Counter(numbers).most_common()\n",
    "    max_count = numbers_freq[0][1]\n",
    "\n",
    "    return [i[0] for i in numbers_freq if i[1] == max_count]\n",
    "\n",
    "\n",
    "scores = scores = [5, 5, 5, 4, 4, 4, 9, 1, 3]\n",
    "print(\"The mode of the list of numbers is: {0}\".format(calculate_mode(scores)))"
   ]
  },
  {
   "cell_type": "markdown",
   "id": "0f3d8294-ec39-433a-b01d-16d6e1d4b7e8",
   "metadata": {},
   "source": [
    "### Creating a Frequency Table\n",
    "\n",
    "頻度順に並べた度数表"
   ]
  },
  {
   "cell_type": "code",
   "execution_count": 23,
   "id": "6145ef07-f5ca-4489-88ff-9c80c4f0392b",
   "metadata": {},
   "outputs": [
    {
     "name": "stdout",
     "output_type": "stream",
     "text": [
      "Number\tFrequency\n",
      "9\t5\n",
      "6\t3\n",
      "7\t2\n",
      "8\t2\n",
      "10\t2\n",
      "5\t2\n",
      "1\t2\n",
      "2\t1\n",
      "4\t1\n"
     ]
    }
   ],
   "source": [
    "# Frequency table for a list of numbers\n",
    "def frequency_table(numbers):\n",
    "    table = Counter(numbers)\n",
    "    print(\"Number\\tFrequency\")\n",
    "    for number in table.most_common():\n",
    "        print(\"{0}\\t{1}\".format(number[0], number[1]))\n",
    "\n",
    "\n",
    "scores = [7, 8, 9, 2, 10, 9, 9, 9, 9, 4, 5, 6, 1, 5, 6, 7, 8, 6, 1, 10]\n",
    "frequency_table(scores)"
   ]
  },
  {
   "cell_type": "markdown",
   "id": "a90ffcd1-7ae7-48ce-b956-cfac11025ac0",
   "metadata": {},
   "source": [
    "値順に並べた度数表"
   ]
  },
  {
   "cell_type": "code",
   "execution_count": 24,
   "id": "391d4f42-ff9c-4c04-922c-861e38665470",
   "metadata": {},
   "outputs": [
    {
     "name": "stdout",
     "output_type": "stream",
     "text": [
      "Number\tFrequency\n",
      "1\t2\n",
      "2\t1\n",
      "4\t1\n",
      "5\t2\n",
      "6\t3\n",
      "7\t2\n",
      "8\t2\n",
      "9\t5\n",
      "10\t2\n"
     ]
    }
   ],
   "source": [
    "# Frequency table for a list of numbers\n",
    "# Enhanced to display the table sorted by the numbers\n",
    "def frequency_table(numbers):\n",
    "    table = Counter(numbers).most_common()\n",
    "    table.sort()\n",
    "    print(\"Number\\tFrequency\")\n",
    "    for number in table:\n",
    "        print(\"{0}\\t{1}\".format(number[0], number[1]))\n",
    "\n",
    "\n",
    "scores = [7, 8, 9, 2, 10, 9, 9, 9, 9, 4, 5, 6, 1, 5, 6, 7, 8, 6, 1, 10]\n",
    "frequency_table(scores)"
   ]
  },
  {
   "cell_type": "markdown",
   "id": "7fc6f663-2876-405d-aa3a-72f1eaf198c5",
   "metadata": {},
   "source": [
    "## Measuring the Dispersion\n",
    "\n",
    "### Finding the Range of a Set of Numbers"
   ]
  },
  {
   "cell_type": "code",
   "execution_count": 25,
   "id": "e1acd9cd-9af0-4f26-98a6-5a74e4e8a4b0",
   "metadata": {},
   "outputs": [
    {
     "name": "stdout",
     "output_type": "stream",
     "text": [
      "Lowest: 60 Highest: 1200 Range: 1140\n"
     ]
    }
   ],
   "source": [
    "# Find the range\n",
    "def find_range(numbers):\n",
    "    lowest = min(numbers)\n",
    "    highest = max(numbers)\n",
    "\n",
    "    return lowest, highest, highest - lowest\n",
    "\n",
    "\n",
    "donations = [100, 60, 70, 900, 100, 200, 500, 500, 503, 600, 1000, 1200]\n",
    "lowest, highest, r = find_range(donations)\n",
    "print(\"Lowest: {0} Highest: {1} Range: {2}\".format(lowest, highest, r))"
   ]
  },
  {
   "cell_type": "markdown",
   "id": "cb5349f0-22c9-4a81-8ff8-0dbd92af45fc",
   "metadata": {},
   "source": [
    "### Finding the Variance and Standard Deviation"
   ]
  },
  {
   "cell_type": "code",
   "execution_count": 26,
   "id": "c01998dd-5f4d-4f81-a909-70ed0eb1199d",
   "metadata": {},
   "outputs": [
    {
     "name": "stdout",
     "output_type": "stream",
     "text": [
      "The variance of the list of numbers is 141,047.35\n",
      "The standard deviation of the list of numbers is 375.56\n",
      "The variance of the list of numbers is 135.39\n",
      "The standard deviation of the list of numbers is 11.64\n"
     ]
    }
   ],
   "source": [
    "def find_differences(numbers):\n",
    "    mean = calculate_mean(numbers)\n",
    "    return [num - mean for num in numbers]\n",
    "\n",
    "\n",
    "# Find the variance and standard deviation of a list of numbers\n",
    "def calculate_variance(numbers):\n",
    "    return sum([x ** 2 for x in find_differences(numbers)]) / len(numbers)\n",
    "\n",
    "\n",
    "# Distribution1\n",
    "donations1 = [100, 60, 70, 900, 100, 200, 500, 500, 503, 600, 1000, 1200]\n",
    "variance = calculate_variance(donations1)\n",
    "\n",
    "print(\"The variance of the list of numbers is {0:,.2f}\".format(variance))\n",
    "print(\n",
    "    \"The standard deviation of the list of numbers is {0:,.2f}\".format(variance ** 0.5)\n",
    ")\n",
    "\n",
    "# Distribution2\n",
    "donations2 = [382, 389, 377, 397, 396, 368, 369, 392, 398, 367, 393, 396]\n",
    "variance = calculate_variance(donations2)\n",
    "\n",
    "print(\"The variance of the list of numbers is {0:,.2f}\".format(variance))\n",
    "print(\n",
    "    \"The standard deviation of the list of numbers is {0:,.2f}\".format(variance ** 0.5)\n",
    ")"
   ]
  },
  {
   "cell_type": "code",
   "execution_count": 27,
   "id": "5bbbaf6f-f31f-4aac-b70f-8a3badf5a36b",
   "metadata": {},
   "outputs": [
    {
     "data": {
      "image/png": "[encoded data removed]",
      "text/plain": [
       "<Figure size 432x288 with 1 Axes>"
      ]
     },
     "metadata": {
      "needs_background": "light"
     },
     "output_type": "display_data"
    }
   ],
   "source": [
    "import matplotlib.pyplot as plt\n",
    "\n",
    "fig, ax = plt.subplots()\n",
    "ax.plot(donations1, label=\"Donations1\")\n",
    "ax.plot(donations2, label=\"Donations2\")\n",
    "ax.legend()\n",
    "plt.show()"
   ]
  },
  {
   "cell_type": "markdown",
   "id": "68fe8801-b424-4f16-89d9-ae93b9825ac8",
   "metadata": {},
   "source": [
    "## Calculating the Correlation Between Two Data Sets\n",
    "\n",
    "### Calculating the Correlation Coefficient"
   ]
  },
  {
   "cell_type": "code",
   "execution_count": 28,
   "id": "21962f48-7707-4785-90ab-a3c1f1f2f397",
   "metadata": {},
   "outputs": [],
   "source": [
    "def find_corr_x_y(x, y):\n",
    "    n = len(x)\n",
    "\n",
    "    # inner product\n",
    "    sum_prod_x_y = sum([xi * yi for xi, yi in zip(x, y)])\n",
    "\n",
    "    sum_x = sum(x)\n",
    "    sum_y = sum(y)\n",
    "\n",
    "    squared_sum_x = sum_x ** 2\n",
    "    squared_sum_y = sum_y ** 2\n",
    "\n",
    "    x_square_sum = sum([xi ** 2 for xi in x])\n",
    "    y_square_sum = sum([yi ** 2 for yi in y])\n",
    "\n",
    "    return (n * sum_prod_x_y - sum_x * sum_y) / (\n",
    "        (n * x_square_sum - sum_x ** 2) * (n * y_square_sum - sum_y ** 2)\n",
    "    ) ** (1 / 2)"
   ]
  },
  {
   "cell_type": "markdown",
   "id": "30d0ec5d-4428-4e5a-93dc-3df328b8626f",
   "metadata": {},
   "source": [
    "### High School Grades and Performance on College Admission Tests\n",
    "\n",
    "#### High School Grades & College Admission Test Scores"
   ]
  },
  {
   "cell_type": "code",
   "execution_count": 29,
   "id": "1f8f5fb5-6e33-4646-bd0f-c4a6852f508d",
   "metadata": {},
   "outputs": [
    {
     "data": {
      "image/png": "[encoded data removed]",
      "text/plain": [
       "<Figure size 432x288 with 1 Axes>"
      ]
     },
     "metadata": {
      "needs_background": "light"
     },
     "output_type": "display_data"
    },
    {
     "data": {
      "text/plain": [
       "0.3183785775683751"
      ]
     },
     "execution_count": 29,
     "metadata": {},
     "output_type": "execute_result"
    }
   ],
   "source": [
    "import matplotlib.pyplot as plt\n",
    "\n",
    "x = [90, 92, 95, 96, 87, 87, 90, 95, 98, 96]\n",
    "y = [85, 87, 86, 97, 96, 88, 89, 98, 98, 87]\n",
    "\n",
    "fig, ax = plt.subplots()\n",
    "ax.scatter(x, y)\n",
    "plt.show()\n",
    "\n",
    "find_corr_x_y(x, y)"
   ]
  },
  {
   "cell_type": "markdown",
   "id": "7bcd55c7-73b6-4b3e-90b8-5f2b60bcd8d8",
   "metadata": {},
   "source": [
    "#### High School Math Grades & College Admission Test Scores"
   ]
  },
  {
   "cell_type": "code",
   "execution_count": 30,
   "id": "1dfcd6d2-f8fa-4e62-b164-5eaf61533964",
   "metadata": {},
   "outputs": [
    {
     "data": {
      "image/png": "[encoded data removed]",
      "text/plain": [
       "<Figure size 432x288 with 1 Axes>"
      ]
     },
     "metadata": {
      "needs_background": "light"
     },
     "output_type": "display_data"
    },
    {
     "data": {
      "text/plain": [
       "0.9989633063220916"
      ]
     },
     "execution_count": 30,
     "metadata": {},
     "output_type": "execute_result"
    }
   ],
   "source": [
    "x = [83, 85, 84, 96, 94, 86, 87, 97, 97, 85]\n",
    "y = [85, 87, 86, 97, 96, 88, 89, 98, 98, 87]\n",
    "\n",
    "fig, ax = plt.subplots()\n",
    "ax.scatter(x, y)\n",
    "plt.show()\n",
    "\n",
    "find_corr_x_y(x, y)"
   ]
  },
  {
   "cell_type": "markdown",
   "id": "bbda9db1-28c3-41f9-bc5f-320e89dbee94",
   "metadata": {},
   "source": [
    "## Scatter Plots"
   ]
  },
  {
   "cell_type": "code",
   "execution_count": 31,
   "id": "e15a4d1e-3cac-46ee-99c0-e980b018420e",
   "metadata": {},
   "outputs": [
    {
     "data": {
      "image/png": "[encoded data removed]",
      "text/plain": [
       "<Figure size 432x288 with 1 Axes>"
      ]
     },
     "metadata": {
      "needs_background": "light"
     },
     "output_type": "display_data"
    }
   ],
   "source": [
    "import matplotlib.pyplot as plt\n",
    "\n",
    "x = [1, 2, 3, 4]\n",
    "y = [2, 4, 6, 8]\n",
    "\n",
    "fig, ax = plt.subplots()\n",
    "ax.scatter(x, y)\n",
    "\n",
    "plt.show()"
   ]
  },
  {
   "cell_type": "markdown",
   "id": "77d98ea8-e4ce-466a-8021-b7bcb6351753",
   "metadata": {},
   "source": [
    "Anscombe’s Quartet の4つのデータセットは、平均値と標準偏差、相関係数がそれぞれ等しいにもかかわらず、散布図で見てみると様子が全く異なる。"
   ]
  },
  {
   "cell_type": "code",
   "execution_count": 32,
   "id": "e616c90f-731a-437b-8785-7e592b612e39",
   "metadata": {},
   "outputs": [
    {
     "data": {
      "image/png": "[encoded data removed]",
      "text/plain": [
       "<Figure size 432x288 with 4 Axes>"
      ]
     },
     "metadata": {
      "needs_background": "light"
     },
     "output_type": "display_data"
    }
   ],
   "source": [
    "x = [\n",
    "    [10.0, 8.0, 13.0, 9.0, 11.0, 14.0, 6.0, 4.0, 12.0, 7.0, 5.0],\n",
    "    [10.0, 8.0, 13.0, 9.0, 11.0, 14.0, 6.0, 4.0, 12.0, 7.0, 5.0],\n",
    "    [10.0, 8.0, 13.0, 9.0, 11.0, 14.0, 6.0, 4.0, 12.0, 7.0, 5.0],\n",
    "    [8.0, 8.0, 8.0, 8.0, 8.0, 8.0, 8.0, 19.0, 8.0, 8.0, 8.0],\n",
    "]\n",
    "y = [\n",
    "    [8.04, 6.95, 7.58, 8.81, 8.33, 9.96, 7.24, 4.26, 10.84, 4.82, 5.68],\n",
    "    [9.14, 8.14, 8.74, 8.77, 9.26, 8.1, 6.13, 3.1, 9.13, 7.26, 4.74],\n",
    "    [7.46, 6.77, 12.74, 7.11, 7.81, 8.84, 6.08, 5.39, 8.15, 6.42, 5.73],\n",
    "    [6.58, 5.76, 7.71, 8.84, 8.47, 7.04, 5.25, 12.5, 5.56, 7.91, 6.89],\n",
    "]\n",
    "\n",
    "fig, ax = plt.subplots(2, 2)\n",
    "\n",
    "for xi, yi, ax in zip(x, y, ax.flatten()):\n",
    "    ax.scatter(xi, yi)\n",
    "\n",
    "fig.suptitle(\"Anscombe’s Quartet\")\n",
    "fig.savefig(\"chap3_anscombes-quartet.png\")\n",
    "plt.show()"
   ]
  },
  {
   "cell_type": "code",
   "execution_count": 33,
   "id": "33bf2e77-a2dd-496f-9806-e65266520400",
   "metadata": {},
   "outputs": [
    {
     "name": "stdout",
     "output_type": "stream",
     "text": [
      "0.816\n",
      "0.816\n",
      "0.816\n",
      "0.817\n"
     ]
    }
   ],
   "source": [
    "for xi, yi in zip(x, y):\n",
    "    print(\"{0:.3f}\".format(find_corr_x_y(xi, yi)))"
   ]
  },
  {
   "cell_type": "markdown",
   "id": "72fd7b8b-37aa-4c22-8f3a-7c9dab1863da",
   "metadata": {},
   "source": [
    "## Reading Data from Files\n",
    "\n",
    "### Reading Data from a Text File"
   ]
  },
  {
   "cell_type": "code",
   "execution_count": 34,
   "id": "cc3e47b4-69cc-47ce-a9e4-60a5ec4693ec",
   "metadata": {},
   "outputs": [
    {
     "name": "stdout",
     "output_type": "stream",
     "text": [
      "Sum of the numbers: 5733.0\n"
     ]
    }
   ],
   "source": [
    "# Find the sum of numbers stored in a file\n",
    "def sum_data(filename):\n",
    "    s = 0\n",
    "\n",
    "    with open(filename) as f:\n",
    "        for line in f:\n",
    "            s += float(line)\n",
    "\n",
    "    print(\"Sum of the numbers: {0}\".format(s))\n",
    "\n",
    "\n",
    "sum_data(\"chap3_mydata.txt\")"
   ]
  },
  {
   "cell_type": "code",
   "execution_count": 35,
   "id": "b30ad3a8-892c-4538-9365-d8842f9ea456",
   "metadata": {},
   "outputs": [
    {
     "name": "stdout",
     "output_type": "stream",
     "text": [
      "Mean: 477.75\n"
     ]
    }
   ],
   "source": [
    "# Calculating the mean of numbers stored in a file\n",
    "def read_data(filename):\n",
    "    with open(filename) as f:\n",
    "        numbers = [float(line) for line in f]\n",
    "        return numbers\n",
    "\n",
    "\n",
    "print(\"Mean: {0}\".format(calculate_mean(read_data(\"chap3_mydata.txt\"))))"
   ]
  },
  {
   "cell_type": "markdown",
   "id": "f9742b24-e7e0-4b32-bd10-f52647b329e7",
   "metadata": {},
   "source": [
    "### Reading Data from a CSV File"
   ]
  },
  {
   "cell_type": "code",
   "execution_count": 36,
   "id": "138a65ed-9224-494a-8398-848791cb14f1",
   "metadata": {},
   "outputs": [
    {
     "data": {
      "image/png": "[encoded data removed]",
      "text/plain": [
       "<Figure size 432x288 with 1 Axes>"
      ]
     },
     "metadata": {
      "needs_background": "light"
     },
     "output_type": "display_data"
    },
    {
     "data": {
      "text/plain": [
       "0.9996251875470692"
      ]
     },
     "execution_count": 36,
     "metadata": {},
     "output_type": "execute_result"
    }
   ],
   "source": [
    "import csv\n",
    "\n",
    "\n",
    "def read_csv(filename):\n",
    "    with open(filename) as f:\n",
    "        reader = csv.reader(f)\n",
    "        next(reader)\n",
    "        data = [row for row in reader]\n",
    "        return [float(row[0]) for row in data], [float(row[1]) for row in data]\n",
    "\n",
    "\n",
    "numbers, squared = read_csv(\"chap3_numbers.csv\")\n",
    "\n",
    "fig, ax = plt.subplots()\n",
    "ax.scatter(numbers, squared)\n",
    "ax.set_xlabel(\"Number\")\n",
    "ax.set_ylabel(\"Square\")\n",
    "plt.show()\n",
    "\n",
    "find_corr_x_y(numbers, squared)"
   ]
  },
  {
   "cell_type": "code",
   "execution_count": 37,
   "id": "441bcf43-5baf-4b83-b3d1-fff285c3f5af",
   "metadata": {},
   "outputs": [
    {
     "data": {
      "image/png": "[encoded data removed]",
      "text/plain": [
       "<Figure size 432x288 with 1 Axes>"
      ]
     },
     "metadata": {
      "needs_background": "light"
     },
     "output_type": "display_data"
    },
    {
     "data": {
      "text/plain": [
       "0.9605138954331739"
      ]
     },
     "execution_count": 37,
     "metadata": {},
     "output_type": "execute_result"
    }
   ],
   "source": [
    "def read_csv(filename):\n",
    "    with open(filename) as f:\n",
    "        reader = csv.reader(f)\n",
    "        next(reader)\n",
    "        data = [row for row in reader]\n",
    "        return [float(row[1]) for row in data], [float(row[2]) for row in data]\n",
    "\n",
    "\n",
    "summer, highest_correlated = read_csv(\"chap3_correlate-summer.csv\")\n",
    "\n",
    "fig, ax = plt.subplots()\n",
    "ax.scatter(summer, highest_correlated, alpha=0.3)\n",
    "plt.show()\n",
    "\n",
    "find_corr_x_y(summer, highest_correlated)"
   ]
  }
 ],
 "metadata": {
  "kernelspec": {
   "display_name": "Python 3 (ipykernel)",
   "language": "python",
   "name": "python3"
  },
  "language_info": {
   "codemirror_mode": {
    "name": "ipython",
    "version": 3
   },
   "file_extension": ".py",
   "mimetype": "text/x-python",
   "name": "python",
   "nbconvert_exporter": "python",
   "pygments_lexer": "ipython3",
   "version": "3.10.1"
  }
 },
 "nbformat": 4,
 "nbformat_minor": 5
}
